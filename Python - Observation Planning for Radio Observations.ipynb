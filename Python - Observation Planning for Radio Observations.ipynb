{
 "cells": [
  {
   "cell_type": "markdown",
   "metadata": {},
   "source": [
    "# Observation Planning for Radio Observations\n",
    "\n",
    "This worksheet will introduce you to some concepts you'll need to plan out your observations with the radio telescope."
   ]
  },
  {
   "cell_type": "markdown",
   "metadata": {},
   "source": [
    "First, we are going to select our observatory.  We will use astroplan plus astropy coordinates.\n",
    "\n",
    "Import them and confirm they're installed:"
   ]
  },
  {
   "cell_type": "code",
   "execution_count": 1,
   "metadata": {},
   "outputs": [
    {
     "name": "stdout",
     "output_type": "stream",
     "text": [
      "Requirement already satisfied: astroplan in /Users/adam/miniconda3/envs/python3.9/lib/python3.9/site-packages (0.8)\n",
      "Requirement already satisfied: pytz in /Users/adam/miniconda3/envs/python3.9/lib/python3.9/site-packages (from astroplan) (2022.1)\n",
      "Requirement already satisfied: numpy>=1.17 in /Users/adam/miniconda3/envs/python3.9/lib/python3.9/site-packages (from astroplan) (1.23.1)\n",
      "Requirement already satisfied: astropy>=4 in /Users/adam/miniconda3/envs/python3.9/lib/python3.9/site-packages (from astroplan) (5.1)\n",
      "Requirement already satisfied: six in /Users/adam/miniconda3/envs/python3.9/lib/python3.9/site-packages (from astroplan) (1.16.0)\n",
      "Requirement already satisfied: packaging>=19.0 in /Users/adam/miniconda3/envs/python3.9/lib/python3.9/site-packages (from astropy>=4->astroplan) (21.3)\n",
      "Requirement already satisfied: pyerfa>=2.0 in /Users/adam/miniconda3/envs/python3.9/lib/python3.9/site-packages (from astropy>=4->astroplan) (2.0.0.1)\n",
      "Requirement already satisfied: PyYAML>=3.13 in /Users/adam/miniconda3/envs/python3.9/lib/python3.9/site-packages (from astropy>=4->astroplan) (6.0)\n",
      "Requirement already satisfied: pyparsing!=3.0.5,>=2.0.2 in /Users/adam/miniconda3/envs/python3.9/lib/python3.9/site-packages (from packaging>=19.0->astropy>=4->astroplan) (3.0.9)\n",
      "Note: you may need to restart the kernel to use updated packages.\n"
     ]
    }
   ],
   "source": [
    "%pip install astroplan"
   ]
  },
  {
   "cell_type": "code",
   "execution_count": 2,
   "metadata": {},
   "outputs": [],
   "source": [
    "import numpy as np\n",
    "from astropy import units as u\n",
    "from astropy import coordinates\n",
    "from astroplan import Observer"
   ]
  },
  {
   "cell_type": "markdown",
   "metadata": {},
   "source": [
    "Next, we set up the observer.\n",
    "\n",
    "We are going to pick the observer based on the known latitude and longitude of our observatory in Gainesville in [geodetic](https://en.wikipedia.org/wiki/Geographic_coordinate_system) coordinates, meaning we're specifying the location with two angles and one elevation (height above ellipsoid).\n",
    "\n",
    "This will convert into some coordinate system used internally by astropy."
   ]
  },
  {
   "cell_type": "code",
   "execution_count": 3,
   "metadata": {},
   "outputs": [
    {
     "data": {
      "text/latex": [
       "$(743674.14, -5500332.5, 3131946.8) \\; \\mathrm{m}$"
      ],
      "text/plain": [
       "<EarthLocation (743674.13504561, -5500332.52750589, 3131946.80724394) m>"
      ]
     },
     "execution_count": 3,
     "metadata": {},
     "output_type": "execute_result"
    }
   ],
   "source": [
    "gainesville_location = coordinates.EarthLocation.from_geodetic(lon=-82.3*u.deg, lat=29.6*u.deg, height=100*u.m)\n",
    "gainesville_location"
   ]
  },
  {
   "cell_type": "markdown",
   "metadata": {},
   "source": [
    "We then set up the \"observer\", which will be used as our reference when looking at the sky.  We specify a time zone so we can use local times."
   ]
  },
  {
   "cell_type": "code",
   "execution_count": 4,
   "metadata": {},
   "outputs": [
    {
     "data": {
      "text/plain": [
       "<Observer: location (lon, lat, el)=(-82.30000000000001 deg, 29.600000000000005 deg, 100.00000000232231 m),\n",
       "    timezone=<DstTzInfo 'US/Eastern' LMT-1 day, 19:04:00 STD>>"
      ]
     },
     "execution_count": 4,
     "metadata": {},
     "output_type": "execute_result"
    }
   ],
   "source": [
    "observer = Observer(gainesville_location, timezone='US/Eastern')\n",
    "observer"
   ]
  },
  {
   "cell_type": "markdown",
   "metadata": {},
   "source": [
    "## Where are we pointed?\n",
    "\n",
    "Now we can ask some questions: if we point at a specific altitude and azimuth, what's there now?  What's going to be there in 12 hours?\n",
    "\n",
    "We define \"now\", but it requires more packages,  ``pytz`` = \"python timezone\":"
   ]
  },
  {
   "cell_type": "code",
   "execution_count": 5,
   "metadata": {},
   "outputs": [
    {
     "data": {
      "text/plain": [
       "datetime.datetime(2022, 8, 21, 20, 1, 53, 686256, tzinfo=<DstTzInfo 'US/Eastern' EDT-1 day, 20:00:00 DST>)"
      ]
     },
     "execution_count": 5,
     "metadata": {},
     "output_type": "execute_result"
    }
   ],
   "source": [
    "import pytz\n",
    "import datetime\n",
    "now = pytz.timezone('US/Eastern').localize(datetime.datetime.now())\n",
    "now"
   ]
  },
  {
   "cell_type": "code",
   "execution_count": 18,
   "metadata": {},
   "outputs": [
    {
     "data": {
      "text/plain": [
       "<SkyCoord (Galactic): (l, b) in deg\n",
       "    (49.66457424, 41.68488953)>"
      ]
     },
     "execution_count": 18,
     "metadata": {},
     "output_type": "execute_result"
    }
   ],
   "source": [
    "target = coordinates.SkyCoord(alt=90*u.deg, az=180*u.deg,\n",
    "                              location=observer.location,\n",
    "                              obstime=now,\n",
    "                              frame='altaz').transform_to(coordinates.Galactic)\n",
    "target"
   ]
  },
  {
   "cell_type": "markdown",
   "metadata": {},
   "source": [
    "The \"target\" variable is now a Galactic coordinate that tells us where we're pointing in the galaxy *right now*.\n",
    "\n",
    "If we want to know the RA/Dec, we can convert it:"
   ]
  },
  {
   "cell_type": "code",
   "execution_count": 7,
   "metadata": {},
   "outputs": [
    {
     "data": {
      "text/plain": [
       "<FK5 Coordinate (equinox=J2000.000): (ra, dec) in deg\n",
       "    (248.23498429, 29.64357098)>"
      ]
     },
     "execution_count": 7,
     "metadata": {},
     "output_type": "execute_result"
    }
   ],
   "source": [
    "target.transform_to(coordinates.FK5)"
   ]
  },
  {
   "cell_type": "markdown",
   "metadata": {},
   "source": [
    "What if we want to predict a future observation?\n",
    "\n",
    "(specify time formats using https://docs.python.org/3/library/datetime.html)"
   ]
  },
  {
   "cell_type": "code",
   "execution_count": 19,
   "metadata": {},
   "outputs": [
    {
     "data": {
      "text/plain": [
       "datetime.datetime(2023, 1, 1, 4, 30)"
      ]
     },
     "execution_count": 19,
     "metadata": {},
     "output_type": "execute_result"
    }
   ],
   "source": [
    "time = datetime.datetime.strptime('January 1, 2023 4:30:00 AM', \"%B %d, %Y %I:%M:%S %p\",)\n",
    "time"
   ]
  },
  {
   "cell_type": "code",
   "execution_count": 20,
   "metadata": {},
   "outputs": [
    {
     "data": {
      "text/plain": [
       "<SkyCoord (Galactic): (l, b) in deg\n",
       "    (178.98639366, -0.40193471)>"
      ]
     },
     "execution_count": 20,
     "metadata": {},
     "output_type": "execute_result"
    }
   ],
   "source": [
    "target = coordinates.SkyCoord(alt=90*u.deg, az=180*u.deg,\n",
    "                              location=observer.location,\n",
    "                              obstime=time,\n",
    "                              frame='altaz').transform_to(coordinates.Galactic)\n",
    "target"
   ]
  },
  {
   "cell_type": "markdown",
   "metadata": {},
   "source": [
    "You can also change your altitude and azimuth."
   ]
  },
  {
   "cell_type": "markdown",
   "metadata": {},
   "source": [
    "## Where is my target (where do I have to point)?\n",
    "\n",
    "This is the fundamental question all observatories have to answer: given a target at a specific RA, Dec, where do we point?  What altitude and azimuth do we point at?\n",
    "\n",
    "(the question is easier if you have an equatorial mount, but you still need to know what Right Ascension to point at)"
   ]
  },
  {
   "cell_type": "markdown",
   "metadata": {},
   "source": [
    "You might want to know: Where do I have to point to see the Galactic Plane at a few different lines of longitude?\n",
    "\n",
    "The Galactic Plane is simply the circle in Galactic coordinates where the latitude is zero degrees."
   ]
  },
  {
   "cell_type": "code",
   "execution_count": 21,
   "metadata": {},
   "outputs": [],
   "source": [
    "# we pick a target at Galactic longitude=45 degrees and latitute=0 (the Galactic midplane)\n",
    "target = coordinates.SkyCoord(45*u.deg, 0*u.deg, frame='galactic')"
   ]
  },
  {
   "cell_type": "code",
   "execution_count": 23,
   "metadata": {},
   "outputs": [
    {
     "data": {
      "text/plain": [
       "<SkyCoord (AltAz: obstime=2023-01-01 04:30:00, location=(743674.13504561, -5500332.52750589, 3131946.80724394) m, pressure=0.0 hPa, temperature=0.0 deg_C, relative_humidity=0.0, obswl=1.0 micron): (az, alt) in deg\n",
       "    (327.87771831, -43.99070927)>"
      ]
     },
     "execution_count": 23,
     "metadata": {},
     "output_type": "execute_result"
    }
   ],
   "source": [
    "altaz_of_target = observer.altaz(time=time, target=target)\n",
    "altaz_of_target"
   ]
  },
  {
   "cell_type": "code",
   "execution_count": 25,
   "metadata": {},
   "outputs": [
    {
     "data": {
      "text/latex": [
       "$-43^\\circ59{}^\\prime26.55335425{}^{\\prime\\prime}$"
      ],
      "text/plain": [
       "<Latitude -43.99070927 deg>"
      ]
     },
     "execution_count": 25,
     "metadata": {},
     "output_type": "execute_result"
    }
   ],
   "source": [
    "altaz_of_target.alt"
   ]
  },
  {
   "cell_type": "markdown",
   "metadata": {},
   "source": [
    "Using the astroplan \"observer\", we can find the alt & az of our target at any time.  In the above example, the target has an altitude of -44 degrees: not observable!  \n",
    "\n",
    "When can we see it?  Let's try 12 hours later..."
   ]
  },
  {
   "cell_type": "code",
   "execution_count": 27,
   "metadata": {},
   "outputs": [
    {
     "data": {
      "text/latex": [
       "$61^\\circ51{}^\\prime55.55734464{}^{\\prime\\prime}$"
      ],
      "text/plain": [
       "<Latitude 61.8654326 deg>"
      ]
     },
     "execution_count": 27,
     "metadata": {},
     "output_type": "execute_result"
    }
   ],
   "source": [
    "time = datetime.datetime.strptime('January 1, 2023 4:30:00 PM', \"%B %d, %Y %I:%M:%S %p\",)\n",
    "altaz_of_target2 = observer.altaz(time=time, target=target)\n",
    "altaz_of_target2.alt"
   ]
  },
  {
   "cell_type": "markdown",
   "metadata": {},
   "source": [
    "+61 degrees is observable"
   ]
  },
  {
   "cell_type": "markdown",
   "metadata": {},
   "source": [
    "So if you have the question, \"What will I see if I look at the sky right now?\", you can answer it - convert alt/az to ra/dec or Galactic coordinates.\n",
    "\n",
    "If you have the question, \"When can I see my target?\", you can answer it by converting target coordinates to alt/az at any given time.\n",
    "\n",
    "Generally, though, you want to know a *range* of times.  Plots help with that."
   ]
  },
  {
   "cell_type": "markdown",
   "metadata": {},
   "source": [
    "Let's say we want to plot the observability over the course of a day.  We can use astropy's time for this:"
   ]
  },
  {
   "cell_type": "code",
   "execution_count": 13,
   "metadata": {},
   "outputs": [
    {
     "data": {
      "text/plain": [
       "<Time object: scale='utc' format='datetime' value=[datetime.datetime(2021, 1, 1, 16, 30)\n",
       " datetime.datetime(2021, 1, 1, 17, 30)\n",
       " datetime.datetime(2021, 1, 1, 18, 30)\n",
       " datetime.datetime(2021, 1, 1, 19, 30)\n",
       " datetime.datetime(2021, 1, 1, 20, 30)\n",
       " datetime.datetime(2021, 1, 1, 21, 30)\n",
       " datetime.datetime(2021, 1, 1, 22, 30)\n",
       " datetime.datetime(2021, 1, 1, 23, 30)\n",
       " datetime.datetime(2021, 1, 2, 0, 30) datetime.datetime(2021, 1, 2, 1, 30)\n",
       " datetime.datetime(2021, 1, 2, 2, 30) datetime.datetime(2021, 1, 2, 3, 30)\n",
       " datetime.datetime(2021, 1, 2, 4, 30) datetime.datetime(2021, 1, 2, 5, 30)\n",
       " datetime.datetime(2021, 1, 2, 6, 30) datetime.datetime(2021, 1, 2, 7, 30)\n",
       " datetime.datetime(2021, 1, 2, 8, 30) datetime.datetime(2021, 1, 2, 9, 30)\n",
       " datetime.datetime(2021, 1, 2, 10, 30)\n",
       " datetime.datetime(2021, 1, 2, 11, 30)\n",
       " datetime.datetime(2021, 1, 2, 12, 30)\n",
       " datetime.datetime(2021, 1, 2, 13, 30)\n",
       " datetime.datetime(2021, 1, 2, 14, 30)\n",
       " datetime.datetime(2021, 1, 2, 15, 30)]>"
      ]
     },
     "execution_count": 13,
     "metadata": {},
     "output_type": "execute_result"
    }
   ],
   "source": [
    "from astropy.time import Time, TimeDelta\n",
    "atime = Time(time)\n",
    "atimes = atime + TimeDelta(1*u.h) * np.arange(24)\n",
    "atimes"
   ]
  },
  {
   "cell_type": "markdown",
   "metadata": {},
   "source": [
    "We can then compute where our target will be (altitude, azimuth) vs time:"
   ]
  },
  {
   "cell_type": "code",
   "execution_count": 14,
   "metadata": {},
   "outputs": [
    {
     "data": {
      "text/plain": [
       "<SkyCoord (AltAz: obstime=[datetime.datetime(2021, 1, 1, 16, 30)\n",
       " datetime.datetime(2021, 1, 1, 17, 30)\n",
       " datetime.datetime(2021, 1, 1, 18, 30)\n",
       " datetime.datetime(2021, 1, 1, 19, 30)\n",
       " datetime.datetime(2021, 1, 1, 20, 30)\n",
       " datetime.datetime(2021, 1, 1, 21, 30)\n",
       " datetime.datetime(2021, 1, 1, 22, 30)\n",
       " datetime.datetime(2021, 1, 1, 23, 30)\n",
       " datetime.datetime(2021, 1, 2, 0, 30) datetime.datetime(2021, 1, 2, 1, 30)\n",
       " datetime.datetime(2021, 1, 2, 2, 30) datetime.datetime(2021, 1, 2, 3, 30)\n",
       " datetime.datetime(2021, 1, 2, 4, 30) datetime.datetime(2021, 1, 2, 5, 30)\n",
       " datetime.datetime(2021, 1, 2, 6, 30) datetime.datetime(2021, 1, 2, 7, 30)\n",
       " datetime.datetime(2021, 1, 2, 8, 30) datetime.datetime(2021, 1, 2, 9, 30)\n",
       " datetime.datetime(2021, 1, 2, 10, 30)\n",
       " datetime.datetime(2021, 1, 2, 11, 30)\n",
       " datetime.datetime(2021, 1, 2, 12, 30)\n",
       " datetime.datetime(2021, 1, 2, 13, 30)\n",
       " datetime.datetime(2021, 1, 2, 14, 30)\n",
       " datetime.datetime(2021, 1, 2, 15, 30)], location=(743674.13504561, -5500332.52750589, 3131946.80724394) m, pressure=0.0 hPa, temperature=0.0 deg_C, relative_humidity=0.0, obswl=1.0 micron): (az, alt) in deg\n",
       "    [(128.12060937,  6.22075434e+01), (159.76614155,  7.00960416e+01),\n",
       "     (203.66963654,  6.96817831e+01), (233.75568976,  6.13248746e+01),\n",
       "     (250.20911336,  4.97411589e+01), (260.78137215,  3.70807219e+01),\n",
       "     (268.93794372,  2.40636644e+01), (276.21339642,  1.10078051e+01),\n",
       "     (283.49571508, -1.86994723e+00), (291.51983947, -1.43385065e+01),\n",
       "     (301.12336388, -2.60644513e+01), (313.41512204, -3.64904379e+01),\n",
       "     (329.68920959, -4.46624521e+01), (350.37175872, -4.91728810e+01),\n",
       "     ( 12.96026612, -4.87879293e+01), ( 33.05058255, -4.36302852e+01),\n",
       "     ( 48.65546189, -3.50388021e+01), ( 60.46043778, -2.43684006e+01),\n",
       "     ( 69.76371589, -1.25025663e+01), ( 77.62772234,  4.51063954e-02),\n",
       "     ( 84.86176482,  1.29630347e+01), ( 92.20463667,  2.60276911e+01),\n",
       "     (100.59968426,  3.90162124e+01), (111.75758907,  5.15782521e+01)]>"
      ]
     },
     "execution_count": 14,
     "metadata": {},
     "output_type": "execute_result"
    }
   ],
   "source": [
    "altaz = observer.altaz(atimes, target=target)\n",
    "altaz"
   ]
  },
  {
   "cell_type": "markdown",
   "metadata": {},
   "source": [
    "We can then plot it...."
   ]
  },
  {
   "cell_type": "code",
   "execution_count": 15,
   "metadata": {},
   "outputs": [],
   "source": [
    "from astropy import visualization\n",
    "import pylab as pl\n",
    "visualization.quantity_support() # only need this once\n",
    "pl.style.use('dark_background')"
   ]
  },
  {
   "cell_type": "code",
   "execution_count": 16,
   "metadata": {},
   "outputs": [
    {
     "data": {
      "text/plain": [
       "Text(0, 0.5, 'Azimuth (deg)')"
      ]
     },
     "execution_count": 16,
     "metadata": {},
     "output_type": "execute_result"
    },
    {
     "data": {
      "image/png": "[encoded data removed]",
      "text/plain": [
       "<Figure size 720x288 with 2 Axes>"
      ]
     },
     "metadata": {
      "needs_background": "dark"
     },
     "output_type": "display_data"
    }
   ],
   "source": [
    "pl.figure(figsize=(10,4))\n",
    "pl.subplot(1,2,1).plot_date(atimes.plot_date, altaz.alt)\n",
    "pl.xticks(rotation=45)\n",
    "pl.ylabel(\"Altitude (deg)\")\n",
    "pl.subplot(1,2,2).plot_date(atimes.plot_date, altaz.az)\n",
    "pl.xticks(rotation=45)\n",
    "pl.ylabel(\"Azimuth (deg)\")"
   ]
  },
  {
   "cell_type": "markdown",
   "metadata": {},
   "source": [
    "## EXERCISE:\n",
    "\n",
    "Repeat the above for three locations in the Galactic plane.  Try l=0, l=90, and l=135 degrees.  Can you observe all three locations in the same observing session?"
   ]
  },
  {
   "cell_type": "code",
   "execution_count": null,
   "metadata": {},
   "outputs": [],
   "source": []
  }
 ],
 "metadata": {
  "kernelspec": {
   "display_name": "Python 3 (ipykernel)",
   "language": "python",
   "name": "python3"
  },
  "language_info": {
   "codemirror_mode": {
    "name": "ipython",
    "version": 3
   },
   "file_extension": ".py",
   "mimetype": "text/x-python",
   "name": "python",
   "nbconvert_exporter": "python",
   "pygments_lexer": "ipython3",
   "version": "3.9.13"
  }
 },
 "nbformat": 4,
 "nbformat_minor": 4
}
