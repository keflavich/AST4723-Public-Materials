{
 "cells": [
  {
   "cell_type": "markdown",
   "metadata": {},
   "source": [
    "# Observation Planning for Radio Observations\n",
    "\n",
    "This worksheet will introduce you to some concepts you'll need to plan out your observations with the radio telescope."
   ]
  },
  {
   "cell_type": "markdown",
   "metadata": {},
   "source": [
    "First, we are going to select our observatory.  We will use astroplan plus astropy coordinates.\n",
    "\n",
    "Import them and confirm they're installed:"
   ]
  },
  {
   "cell_type": "code",
   "execution_count": 1,
   "metadata": {},
   "outputs": [
    {
     "name": "stdout",
     "output_type": "stream",
     "text": [
      "Requirement already satisfied: astroplan in /Users/adam/mambaforge/envs/py312/lib/python3.12/site-packages (0.10.1)\n",
      "Requirement already satisfied: numpy>=1.17 in /Users/adam/mambaforge/envs/py312/lib/python3.12/site-packages (from astroplan) (2.1.2)\n",
      "Requirement already satisfied: astropy>=4 in /Users/adam/mambaforge/envs/py312/lib/python3.12/site-packages (from astroplan) (6.1.2)\n",
      "Requirement already satisfied: pytz in /Users/adam/mambaforge/envs/py312/lib/python3.12/site-packages (from astroplan) (2024.1)\n",
      "Requirement already satisfied: six in /Users/adam/mambaforge/envs/py312/lib/python3.12/site-packages (from astroplan) (1.16.0)\n",
      "Requirement already satisfied: pyerfa>=2.0.1.1 in /Users/adam/mambaforge/envs/py312/lib/python3.12/site-packages (from astropy>=4->astroplan) (2.0.1.4)\n",
      "Requirement already satisfied: astropy-iers-data>=0.2024.7.1.0.34.3 in /Users/adam/mambaforge/envs/py312/lib/python3.12/site-packages (from astropy>=4->astroplan) (0.2024.8.5.0.32.23)\n",
      "Requirement already satisfied: PyYAML>=3.13 in /Users/adam/mambaforge/envs/py312/lib/python3.12/site-packages (from astropy>=4->astroplan) (6.0.2)\n",
      "Requirement already satisfied: packaging>=19.0 in /Users/adam/mambaforge/envs/py312/lib/python3.12/site-packages (from astropy>=4->astroplan) (24.1)\n",
      "Note: you may need to restart the kernel to use updated packages.\n"
     ]
    }
   ],
   "source": [
    "%pip install astroplan"
   ]
  },
  {
   "cell_type": "code",
   "execution_count": 2,
   "metadata": {},
   "outputs": [],
   "source": [
    "import numpy as np\n",
    "from astropy import units as u\n",
    "from astropy import coordinates\n",
    "from astroplan import Observer"
   ]
  },
  {
   "cell_type": "markdown",
   "metadata": {},
   "source": [
    "Next, we set up the observer.\n",
    "\n",
    "We are going to pick the observer based on the known latitude and longitude of our observatory in Gainesville in [geodetic](https://en.wikipedia.org/wiki/Geographic_coordinate_system) coordinates, meaning we're specifying the location with two angles and one elevation (height above ellipsoid).\n",
    "\n",
    "This will convert into some coordinate system used internally by astropy."
   ]
  },
  {
   "cell_type": "code",
   "execution_count": 3,
   "metadata": {},
   "outputs": [
    {
     "data": {
      "text/latex": [
       "$(743674.14, -5500332.5, 3131946.8) \\; \\mathrm{m}$"
      ],
      "text/plain": [
       "<EarthLocation (743674.13504561, -5500332.52750589, 3131946.80724394) m>"
      ]
     },
     "execution_count": 3,
     "metadata": {},
     "output_type": "execute_result"
    }
   ],
   "source": [
    "gainesville_location = coordinates.EarthLocation.from_geodetic(lon=-82.3*u.deg, lat=29.6*u.deg, height=100*u.m)\n",
    "gainesville_location"
   ]
  },
  {
   "cell_type": "markdown",
   "metadata": {},
   "source": [
    "We then set up the \"observer\", which will be used as our reference when looking at the sky.  We specify a time zone so we can use local times."
   ]
  },
  {
   "cell_type": "code",
   "execution_count": 4,
   "metadata": {},
   "outputs": [
    {
     "data": {
      "text/plain": [
       "<Observer: location (lon, lat, el)=(-82.30000000000001 deg, 29.600000000000005 deg, 100.0000000004584 m),\n",
       "    timezone=<DstTzInfo 'US/Eastern' LMT-1 day, 19:04:00 STD>>"
      ]
     },
     "execution_count": 4,
     "metadata": {},
     "output_type": "execute_result"
    }
   ],
   "source": [
    "observer = Observer(gainesville_location, timezone='US/Eastern')\n",
    "observer"
   ]
  },
  {
   "cell_type": "markdown",
   "metadata": {},
   "source": [
    "## Where are we pointed?\n",
    "\n",
    "Now we can ask some questions: if we point at a specific altitude and azimuth, what's there now?  What's going to be there in 12 hours?\n",
    "\n",
    "We define \"now\", but it requires more packages,  ``pytz`` = \"python timezone\":"
   ]
  },
  {
   "cell_type": "code",
   "execution_count": 5,
   "metadata": {},
   "outputs": [
    {
     "data": {
      "text/plain": [
       "datetime.datetime(2024, 10, 23, 11, 48, 45, 97636, tzinfo=<DstTzInfo 'US/Eastern' EDT-1 day, 20:00:00 DST>)"
      ]
     },
     "execution_count": 5,
     "metadata": {},
     "output_type": "execute_result"
    }
   ],
   "source": [
    "import pytz\n",
    "import datetime\n",
    "now = pytz.timezone('US/Eastern').localize(datetime.datetime.now())\n",
    "now"
   ]
  },
  {
   "cell_type": "markdown",
   "metadata": {},
   "source": [
    "### Quick review\n",
    "\n",
    "Before running the next cell, answer the following two questions (you can name an object or give a coordinate in RA/Dec or Galactic): \n",
    "\n",
    "What is at 90 degrees altitude?\n",
    "\n",
    "**write in your answer here**\n",
    "\n",
    "What is at 90 degrees altitude, 180 degrees azimuth?\n",
    "\n",
    "**write in your answer here**\n"
   ]
  },
  {
   "cell_type": "code",
   "execution_count": 6,
   "metadata": {
    "slideshow": {
     "slide_type": ""
    },
    "tags": []
   },
   "outputs": [
    {
     "data": {
      "text/plain": [
       "<SkyCoord (Galactic): (l, b) in deg\n",
       "    (184.1871074, 84.33372285)>"
      ]
     },
     "execution_count": 6,
     "metadata": {},
     "output_type": "execute_result"
    }
   ],
   "source": [
    "target = coordinates.SkyCoord(alt=90*u.deg, az=180*u.deg,\n",
    "                              location=observer.location,\n",
    "                              obstime=now,\n",
    "                              frame='altaz').transform_to(coordinates.Galactic())\n",
    "target"
   ]
  },
  {
   "cell_type": "markdown",
   "metadata": {},
   "source": [
    "The \"target\" variable is now a Galactic coordinate that tells us where we're pointing in the galaxy *right now*.\n",
    "\n",
    "If we want to know the RA/Dec, we can convert it:"
   ]
  },
  {
   "cell_type": "code",
   "execution_count": 7,
   "metadata": {},
   "outputs": [
    {
     "data": {
      "text/plain": [
       "<SkyCoord (FK5: equinox=J2000.000): (ra, dec) in deg\n",
       "    (187.13784043, 29.73665857)>"
      ]
     },
     "execution_count": 7,
     "metadata": {},
     "output_type": "execute_result"
    }
   ],
   "source": [
    "target.transform_to(coordinates.FK5())"
   ]
  },
  {
   "cell_type": "markdown",
   "metadata": {},
   "source": [
    "## Planning for future observations\n",
    "\n",
    "What if we want to predict a future observation?\n",
    "\n",
    "(specify time formats using https://docs.python.org/3/library/datetime.html)"
   ]
  },
  {
   "cell_type": "code",
   "execution_count": 8,
   "metadata": {},
   "outputs": [
    {
     "data": {
      "text/plain": [
       "datetime.datetime(2023, 1, 1, 4, 30)"
      ]
     },
     "execution_count": 8,
     "metadata": {},
     "output_type": "execute_result"
    }
   ],
   "source": [
    "time = datetime.datetime.strptime('January 1, 2023 4:30:00 AM', \"%B %d, %Y %I:%M:%S %p\",)\n",
    "time"
   ]
  },
  {
   "cell_type": "code",
   "execution_count": 9,
   "metadata": {},
   "outputs": [
    {
     "data": {
      "text/plain": [
       "<SkyCoord (Galactic): (l, b) in deg\n",
       "    (178.98636112, -0.40200946)>"
      ]
     },
     "execution_count": 9,
     "metadata": {},
     "output_type": "execute_result"
    }
   ],
   "source": [
    "target = coordinates.SkyCoord(alt=90*u.deg, az=180*u.deg,\n",
    "                              location=observer.location,\n",
    "                              obstime=time,\n",
    "                              frame='altaz').transform_to(coordinates.Galactic)\n",
    "target"
   ]
  },
  {
   "cell_type": "markdown",
   "metadata": {},
   "source": [
    "You can also change your altitude and azimuth."
   ]
  },
  {
   "cell_type": "markdown",
   "metadata": {},
   "source": [
    "## Where is my target (where do I have to point)?\n",
    "\n",
    "This is the fundamental question all observatories have to answer: given a target at a specific RA, Dec, where do we point?  What altitude and azimuth do we point at?\n",
    "\n",
    "(the question is easier if you have an equatorial mount, but you still need to know what Right Ascension to point at)"
   ]
  },
  {
   "cell_type": "markdown",
   "metadata": {},
   "source": [
    "You want to know, for the purpose of observing gas in our Galaxy: Where do I have to point to see the Galactic Plane?\n",
    "If I want to observe the Galactic plane at different lines of longitude, then where do I have to point?\n",
    "\n",
    "The Galactic Plane is simply the circle in Galactic coordinates where the latitude is zero degrees."
   ]
  },
  {
   "cell_type": "code",
   "execution_count": 10,
   "metadata": {},
   "outputs": [],
   "source": [
    "# we pick a target at Galactic longitude=45 degrees and latitute=0 (the Galactic midplane)\n",
    "target = coordinates.SkyCoord(45*u.deg, 0*u.deg, frame='galactic')"
   ]
  },
  {
   "cell_type": "code",
   "execution_count": 11,
   "metadata": {},
   "outputs": [
    {
     "data": {
      "text/plain": [
       "<SkyCoord (AltAz: obstime=2023-01-01 04:30:00, location=(743674.1350456128, -5500332.527505894, 3131946.8072439414) m, pressure=0.0 hPa, temperature=0.0 deg_C, relative_humidity=0.0, obswl=1.0 micron): (az, alt) in deg\n",
       "    (327.87759726, -43.99067624)>"
      ]
     },
     "execution_count": 11,
     "metadata": {},
     "output_type": "execute_result"
    }
   ],
   "source": [
    "altaz_of_target = observer.altaz(time=time, target=target)\n",
    "altaz_of_target"
   ]
  },
  {
   "cell_type": "code",
   "execution_count": 12,
   "metadata": {},
   "outputs": [
    {
     "data": {
      "text/latex": [
       "$-43^\\circ59{}^\\prime26.43445825{}^{\\prime\\prime}$"
      ],
      "text/plain": [
       "<Latitude -43.99067624 deg>"
      ]
     },
     "execution_count": 12,
     "metadata": {},
     "output_type": "execute_result"
    }
   ],
   "source": [
    "# print just the altitude\n",
    "altaz_of_target.alt"
   ]
  },
  {
   "cell_type": "markdown",
   "metadata": {},
   "source": [
    "Using the astroplan \"observer\", we can find the alt & az of our target at any time.  In the above example, the target has an altitude of -44 degrees: not observable!  \n",
    "\n",
    "When can we see it?  Let's try 12 hours later..."
   ]
  },
  {
   "cell_type": "code",
   "execution_count": 13,
   "metadata": {},
   "outputs": [
    {
     "data": {
      "text/latex": [
       "$61^\\circ51{}^\\prime55.35101153{}^{\\prime\\prime}$"
      ],
      "text/plain": [
       "<Latitude 61.86537528 deg>"
      ]
     },
     "execution_count": 13,
     "metadata": {},
     "output_type": "execute_result"
    }
   ],
   "source": [
    "time = datetime.datetime.strptime('January 1, 2023 4:30:00 PM', \"%B %d, %Y %I:%M:%S %p\",)\n",
    "altaz_of_target2 = observer.altaz(time=time, target=target)\n",
    "altaz_of_target2.alt"
   ]
  },
  {
   "cell_type": "markdown",
   "metadata": {},
   "source": [
    "+61 degrees is observable"
   ]
  },
  {
   "cell_type": "markdown",
   "metadata": {},
   "source": [
    "So if you have the question, \"What will I see if I look at the sky right now?\", you can answer it - convert alt/az to ra/dec or Galactic coordinates.\n",
    "\n",
    "If you have the question, \"When can I see my target?\", you can answer it by converting target coordinates to alt/az at any given time.\n",
    "\n",
    "Generally, though, you want to know a *range* of times.  Plots help with that."
   ]
  },
  {
   "cell_type": "markdown",
   "metadata": {},
   "source": [
    "Let's say we want to plot the observability over the course of a day.  We can use astropy's time for this:"
   ]
  },
  {
   "cell_type": "code",
   "execution_count": 14,
   "metadata": {},
   "outputs": [
    {
     "data": {
      "text/plain": [
       "<Time object: scale='utc' format='datetime' value=[datetime.datetime(2023, 1, 1, 16, 30)\n",
       " datetime.datetime(2023, 1, 1, 17, 30)\n",
       " datetime.datetime(2023, 1, 1, 18, 30)\n",
       " datetime.datetime(2023, 1, 1, 19, 30)\n",
       " datetime.datetime(2023, 1, 1, 20, 30)\n",
       " datetime.datetime(2023, 1, 1, 21, 30)\n",
       " datetime.datetime(2023, 1, 1, 22, 30)\n",
       " datetime.datetime(2023, 1, 1, 23, 30)\n",
       " datetime.datetime(2023, 1, 2, 0, 30) datetime.datetime(2023, 1, 2, 1, 30)\n",
       " datetime.datetime(2023, 1, 2, 2, 30) datetime.datetime(2023, 1, 2, 3, 30)\n",
       " datetime.datetime(2023, 1, 2, 4, 30) datetime.datetime(2023, 1, 2, 5, 30)\n",
       " datetime.datetime(2023, 1, 2, 6, 30) datetime.datetime(2023, 1, 2, 7, 30)\n",
       " datetime.datetime(2023, 1, 2, 8, 30) datetime.datetime(2023, 1, 2, 9, 30)\n",
       " datetime.datetime(2023, 1, 2, 10, 30)\n",
       " datetime.datetime(2023, 1, 2, 11, 30)\n",
       " datetime.datetime(2023, 1, 2, 12, 30)\n",
       " datetime.datetime(2023, 1, 2, 13, 30)\n",
       " datetime.datetime(2023, 1, 2, 14, 30)\n",
       " datetime.datetime(2023, 1, 2, 15, 30)]>"
      ]
     },
     "execution_count": 14,
     "metadata": {},
     "output_type": "execute_result"
    }
   ],
   "source": [
    "from astropy.time import Time, TimeDelta\n",
    "atime = Time(time)\n",
    "atimes = atime + TimeDelta(1*u.h) * np.arange(24)\n",
    "atimes"
   ]
  },
  {
   "cell_type": "markdown",
   "metadata": {},
   "source": [
    "We can then compute where our target will be (altitude, azimuth) vs time:"
   ]
  },
  {
   "cell_type": "code",
   "execution_count": 15,
   "metadata": {},
   "outputs": [
    {
     "data": {
      "text/plain": [
       "<SkyCoord (AltAz: obstime=[datetime.datetime(2023, 1, 1, 16, 30)\n",
       " datetime.datetime(2023, 1, 1, 17, 30)\n",
       " datetime.datetime(2023, 1, 1, 18, 30)\n",
       " datetime.datetime(2023, 1, 1, 19, 30)\n",
       " datetime.datetime(2023, 1, 1, 20, 30)\n",
       " datetime.datetime(2023, 1, 1, 21, 30)\n",
       " datetime.datetime(2023, 1, 1, 22, 30)\n",
       " datetime.datetime(2023, 1, 1, 23, 30)\n",
       " datetime.datetime(2023, 1, 2, 0, 30) datetime.datetime(2023, 1, 2, 1, 30)\n",
       " datetime.datetime(2023, 1, 2, 2, 30) datetime.datetime(2023, 1, 2, 3, 30)\n",
       " datetime.datetime(2023, 1, 2, 4, 30) datetime.datetime(2023, 1, 2, 5, 30)\n",
       " datetime.datetime(2023, 1, 2, 6, 30) datetime.datetime(2023, 1, 2, 7, 30)\n",
       " datetime.datetime(2023, 1, 2, 8, 30) datetime.datetime(2023, 1, 2, 9, 30)\n",
       " datetime.datetime(2023, 1, 2, 10, 30)\n",
       " datetime.datetime(2023, 1, 2, 11, 30)\n",
       " datetime.datetime(2023, 1, 2, 12, 30)\n",
       " datetime.datetime(2023, 1, 2, 13, 30)\n",
       " datetime.datetime(2023, 1, 2, 14, 30)\n",
       " datetime.datetime(2023, 1, 2, 15, 30)], location=(743674.1350456128, -5500332.527505894, 3131946.8072439414) m, pressure=0.0 hPa, temperature=0.0 deg_C, relative_humidity=0.0, obswl=1.0 micron): (az, alt) in deg\n",
       "    [(127.36843126,  61.86537528), (158.39945034,  69.94307834),\n",
       "     (202.33882209,  69.85404511), (233.03461952,  61.67572656),\n",
       "     (249.78825739,  50.15119016), (260.48306151,  37.51101559),\n",
       "     (268.68917646,  24.49960968), (275.97767237,  11.44140367),\n",
       "     (283.24782291,  -1.4456018 ), (291.2349014 , -13.93215558),\n",
       "     (300.76984191, -25.68988774), (312.9511071 , -36.17148044),\n",
       "     (329.07520834, -44.43880656), (349.63021164, -49.09499747),\n",
       "     ( 12.22706621, -48.88040407), ( 32.45180832, -43.86346393),\n",
       "     ( 48.20286535, -35.36237557), ( 60.11283325, -24.7445891 ),\n",
       "     ( 69.4804449 , -12.90891283), ( 77.37828245,  -0.37828333),\n",
       "     ( 84.62151174,  12.53110019), ( 91.94754587,  25.5942015 ),\n",
       "     (100.28648705,  38.58970867), (111.3074829 ,  51.17508548)]>"
      ]
     },
     "execution_count": 15,
     "metadata": {},
     "output_type": "execute_result"
    }
   ],
   "source": [
    "altaz = observer.altaz(atimes, target=target)\n",
    "altaz"
   ]
  },
  {
   "cell_type": "markdown",
   "metadata": {},
   "source": [
    "We can then plot it...."
   ]
  },
  {
   "cell_type": "code",
   "execution_count": 16,
   "metadata": {},
   "outputs": [],
   "source": [
    "from astropy import visualization\n",
    "import pylab as pl\n",
    "visualization.quantity_support() # only need this once\n",
    "pl.style.use('dark_background')"
   ]
  },
  {
   "cell_type": "code",
   "execution_count": 17,
   "metadata": {},
   "outputs": [
    {
     "name": "stderr",
     "output_type": "stream",
     "text": [
      "/var/folders/k_/7qh4l0nn72b7qgq15pkd4hw40000gt/T/ipykernel_62695/18937603.py:2: MatplotlibDeprecationWarning: The plot_date function was deprecated in Matplotlib 3.9 and will be removed in 3.11. Use plot instead.\n",
      "  pl.subplot(1,2,1).plot_date(atimes.plot_date, altaz.alt)\n",
      "/var/folders/k_/7qh4l0nn72b7qgq15pkd4hw40000gt/T/ipykernel_62695/18937603.py:5: MatplotlibDeprecationWarning: The plot_date function was deprecated in Matplotlib 3.9 and will be removed in 3.11. Use plot instead.\n",
      "  pl.subplot(1,2,2).plot_date(atimes.plot_date, altaz.az)\n"
     ]
    },
    {
     "data": {
      "image/png": "[encoded data removed]",
      "text/plain": [
       "<Figure size 1000x400 with 2 Axes>"
      ]
     },
     "metadata": {},
     "output_type": "display_data"
    }
   ],
   "source": [
    "pl.figure(figsize=(10,4))\n",
    "pl.subplot(1,2,1).plot_date(atimes.plot_date, altaz.alt)\n",
    "pl.xticks(rotation=45)\n",
    "pl.ylabel(\"Altitude (deg)\")\n",
    "pl.subplot(1,2,2).plot_date(atimes.plot_date, altaz.az)\n",
    "pl.xticks(rotation=45)\n",
    "pl.ylabel(\"Azimuth (deg)\");"
   ]
  },
  {
   "cell_type": "markdown",
   "metadata": {},
   "source": [
    "# Visualizing your plan\n",
    "\n",
    "From the \"Observation Planning to Map Making\" lecture, you can grab an image of the Galaxy and overplot"
   ]
  },
  {
   "cell_type": "code",
   "execution_count": 18,
   "metadata": {
    "slideshow": {
     "slide_type": "slide"
    }
   },
   "outputs": [],
   "source": [
    "from astropy.wcs import WCS\n",
    "from astropy.io import fits\n",
    "from astropy.utils.data import get_pkg_data_filename\n",
    "from astropy.visualization.wcsaxes.frame import EllipticalFrame\n",
    "from astropy.visualization import simple_norm"
   ]
  },
  {
   "cell_type": "code",
   "execution_count": 19,
   "metadata": {
    "slideshow": {
     "slide_type": "slide"
    }
   },
   "outputs": [
    {
     "ename": "ModuleNotFoundError",
     "evalue": "No module named 'reproject'",
     "output_type": "error",
     "traceback": [
      "\u001b[0;31m---------------------------------------------------------------------------\u001b[0m",
      "\u001b[0;31mModuleNotFoundError\u001b[0m                       Traceback (most recent call last)",
      "Cell \u001b[0;32mIn[19], line 9\u001b[0m\n\u001b[1;32m      6\u001b[0m data \u001b[38;5;241m=\u001b[39m hdu\u001b[38;5;241m.\u001b[39mdata\n\u001b[1;32m      8\u001b[0m \u001b[38;5;66;03m# let's also grab the HI data\u001b[39;00m\n\u001b[0;32m----> 9\u001b[0m \u001b[38;5;28;01mfrom\u001b[39;00m \u001b[38;5;21;01mreproject\u001b[39;00m \u001b[38;5;28;01mimport\u001b[39;00m reproject_from_healpix, reproject_to_healpix\n\u001b[1;32m     10\u001b[0m hihdu \u001b[38;5;241m=\u001b[39m fits\u001b[38;5;241m.\u001b[39mopen(\u001b[38;5;124m'\u001b[39m\u001b[38;5;124mhttps://lambda.gsfc.nasa.gov/data/foregrounds/ebv_2017/mom0_-90_90_1024.hpx.fits\u001b[39m\u001b[38;5;124m'\u001b[39m)\n\u001b[1;32m     11\u001b[0m hiarray, hifootprint \u001b[38;5;241m=\u001b[39m reproject_from_healpix(hihdu[\u001b[38;5;241m1\u001b[39m], hdu\u001b[38;5;241m.\u001b[39mheader)\n",
      "\u001b[0;31mModuleNotFoundError\u001b[0m: No module named 'reproject'"
     ]
    }
   ],
   "source": [
    "# first step: we need to download an all-sky image\n",
    "# Use the ROSAT image to get an all-sky header\n",
    "filename = get_pkg_data_filename('allsky/allsky_rosat.fits')\n",
    "hdu = fits.open(filename)[0]\n",
    "wcs = WCS(hdu.header)\n",
    "data = hdu.data\n",
    "\n",
    "# let's also grab the HI data\n",
    "from reproject import reproject_from_healpix, reproject_to_healpix\n",
    "hihdu = fits.open('https://lambda.gsfc.nasa.gov/data/foregrounds/ebv_2017/mom0_-90_90_1024.hpx.fits')\n",
    "hiarray, hifootprint = reproject_from_healpix(hihdu[1], hdu.header)"
   ]
  },
  {
   "cell_type": "code",
   "execution_count": null,
   "metadata": {
    "slideshow": {
     "slide_type": "slide"
    }
   },
   "outputs": [],
   "source": [
    "# next, make the figure with special attributes\n",
    "pl.figure(figsize=(20,15))\n",
    "ax = pl.subplot(projection=wcs, frame_class=EllipticalFrame)\n",
    "im = ax.imshow(hiarray, origin='lower', cmap='gray_r', interpolation='none',\n",
    "               norm=simple_norm(hiarray, stretch='asinh', max_percent=99.5, min_percent=1))\n",
    "\n",
    "# and overplot a location\n",
    "ax.scatter(target.galactic.l, target.galactic.b, s=1000, transform=ax.get_transform('galactic'));"
   ]
  },
  {
   "cell_type": "markdown",
   "metadata": {},
   "source": [
    "## EXERCISE:\n",
    "\n",
    "Repeat the above for three locations in the Galactic plane.\n",
    "\n",
    "Try l=0, l=90, and l=135 degrees.\n",
    "\n",
    "Can you observe all three locations in the same observing session?"
   ]
  },
  {
   "cell_type": "code",
   "execution_count": null,
   "metadata": {},
   "outputs": [],
   "source": []
  }
 ],
 "metadata": {
  "kernelspec": {
   "display_name": "Python 3 (ipykernel)",
   "language": "python",
   "name": "python3"
  },
  "language_info": {
   "codemirror_mode": {
    "name": "ipython",
    "version": 3
   },
   "file_extension": ".py",
   "mimetype": "text/x-python",
   "name": "python",
   "nbconvert_exporter": "python",
   "pygments_lexer": "ipython3",
   "version": "3.12.3"
  }
 },
 "nbformat": 4,
 "nbformat_minor": 4
}
