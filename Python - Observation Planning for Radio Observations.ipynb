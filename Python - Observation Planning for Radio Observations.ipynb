{
 "cells": [
  {
   "cell_type": "markdown",
   "metadata": {},
   "source": [
    "# Observation Planning for Radio Observations\n",
    "\n",
    "This worksheet will introduce you to some concepts you'll need to plan out your observations with the radio telescope."
   ]
  },
  {
   "cell_type": "markdown",
   "metadata": {},
   "source": [
    "First, we are going to select our observatory.  We will use astroplan plus astropy coordinates.\n",
    "\n",
    "Import them and confirm they're installed:"
   ]
  },
  {
   "cell_type": "code",
   "execution_count": 1,
   "metadata": {},
   "outputs": [
    {
     "name": "stdout",
     "output_type": "stream",
     "text": [
      "Collecting astroplan\n",
      "  Using cached astroplan-0.8.tar.gz (134 kB)\n",
      "  Installing build dependencies ... \u001b[?25ldone\n",
      "\u001b[?25h  Getting requirements to build wheel ... \u001b[?25ldone\n",
      "\u001b[?25h  Preparing metadata (pyproject.toml) ... \u001b[?25ldone\n",
      "\u001b[?25hRequirement already satisfied: astropy>=4 in /home/adam/anaconda3/envs/py310/lib/python3.10/site-packages (from astroplan) (5.0.4)\n",
      "Requirement already satisfied: pytz in /home/adam/anaconda3/envs/py310/lib/python3.10/site-packages (from astroplan) (2022.1)\n",
      "Requirement already satisfied: six in /home/adam/anaconda3/envs/py310/lib/python3.10/site-packages (from astroplan) (1.16.0)\n",
      "Requirement already satisfied: numpy>=1.17 in /home/adam/anaconda3/envs/py310/lib/python3.10/site-packages (from astroplan) (1.22.3)\n",
      "Requirement already satisfied: packaging>=19.0 in /home/adam/anaconda3/envs/py310/lib/python3.10/site-packages (from astropy>=4->astroplan) (21.3)\n",
      "Requirement already satisfied: PyYAML>=3.13 in /home/adam/anaconda3/envs/py310/lib/python3.10/site-packages (from astropy>=4->astroplan) (6.0)\n",
      "Requirement already satisfied: pyerfa>=2.0 in /home/adam/anaconda3/envs/py310/lib/python3.10/site-packages (from astropy>=4->astroplan) (2.0.0.1)\n",
      "Requirement already satisfied: pyparsing!=3.0.5,>=2.0.2 in /home/adam/anaconda3/envs/py310/lib/python3.10/site-packages (from packaging>=19.0->astropy>=4->astroplan) (3.0.9)\n",
      "Building wheels for collected packages: astroplan\n",
      "  Building wheel for astroplan (pyproject.toml) ... \u001b[?25ldone\n",
      "\u001b[?25h  Created wheel for astroplan: filename=astroplan-0.8-py3-none-any.whl size=83258 sha256=c3b45b70646a475786b9eeaacad533cd99d45b51d33fca54dfd8f1b7d6578f7e\n",
      "  Stored in directory: /home/adam/.cache/pip/wheels/39/80/2e/e0a1fe363d1cfdc91fe621d98b7f4277f4e6a33adc569f8539\n",
      "Successfully built astroplan\n",
      "Installing collected packages: astroplan\n",
      "Successfully installed astroplan-0.8\n",
      "Note: you may need to restart the kernel to use updated packages.\n"
     ]
    }
   ],
   "source": [
    "%pip install astroplan"
   ]
  },
  {
   "cell_type": "code",
   "execution_count": 2,
   "metadata": {},
   "outputs": [],
   "source": [
    "import numpy as np\n",
    "from astropy import units as u\n",
    "from astropy import coordinates\n",
    "from astroplan import Observer"
   ]
  },
  {
   "cell_type": "markdown",
   "metadata": {},
   "source": [
    "Next, we set up the observer.\n",
    "\n",
    "We are going to pick the observer based on the known latitude and longitude of our observatory in Gainesville in [geodetic](https://en.wikipedia.org/wiki/Geographic_coordinate_system) coordinates, meaning we're specifying the location with two angles and one elevation (height above ellipsoid).\n",
    "\n",
    "This will convert into some coordinate system used internally by astropy."
   ]
  },
  {
   "cell_type": "code",
   "execution_count": 3,
   "metadata": {},
   "outputs": [
    {
     "data": {
      "text/latex": [
       "$(743674.14, -5500332.5, 3131946.8) \\; \\mathrm{m}$"
      ],
      "text/plain": [
       "<EarthLocation (743674.13504561, -5500332.52750589, 3131946.80724394) m>"
      ]
     },
     "execution_count": 3,
     "metadata": {},
     "output_type": "execute_result"
    }
   ],
   "source": [
    "gainesville_location = coordinates.EarthLocation.from_geodetic(lon=-82.3*u.deg, lat=29.6*u.deg, height=100*u.m)\n",
    "gainesville_location"
   ]
  },
  {
   "cell_type": "markdown",
   "metadata": {},
   "source": [
    "We then set up the \"observer\", which will be used as our reference when looking at the sky.  We specify a time zone so we can use local times."
   ]
  },
  {
   "cell_type": "code",
   "execution_count": 4,
   "metadata": {},
   "outputs": [
    {
     "data": {
      "text/plain": [
       "<Observer: location (lon, lat, el)=(-82.30000000000001 deg, 29.600000000000005 deg, 100.00000000232231 m),\n",
       "    timezone=<DstTzInfo 'US/Eastern' LMT-1 day, 19:04:00 STD>>"
      ]
     },
     "execution_count": 4,
     "metadata": {},
     "output_type": "execute_result"
    }
   ],
   "source": [
    "observer = Observer(gainesville_location, timezone='US/Eastern')\n",
    "observer"
   ]
  },
  {
   "cell_type": "markdown",
   "metadata": {},
   "source": [
    "## Where are we pointed?\n",
    "\n",
    "Now we can ask some questions: if we point at a specific altitude and azimuth, what's there now?  What's going to be there in 12 hours?\n",
    "\n",
    "We define \"now\", but it requires more packages,  ``pytz`` = \"python timezone\":"
   ]
  },
  {
   "cell_type": "code",
   "execution_count": 5,
   "metadata": {},
   "outputs": [
    {
     "data": {
      "text/plain": [
       "datetime.datetime(2022, 9, 26, 13, 32, 43, 835279, tzinfo=<DstTzInfo 'US/Eastern' EDT-1 day, 20:00:00 DST>)"
      ]
     },
     "execution_count": 5,
     "metadata": {},
     "output_type": "execute_result"
    }
   ],
   "source": [
    "import pytz\n",
    "import datetime\n",
    "now = pytz.timezone('US/Eastern').localize(datetime.datetime.now())\n",
    "now"
   ]
  },
  {
   "cell_type": "code",
   "execution_count": 6,
   "metadata": {},
   "outputs": [
    {
     "data": {
      "text/plain": [
       "<SkyCoord (Galactic): (l, b) in deg\n",
       "    (187.74598522, 83.52193458)>"
      ]
     },
     "execution_count": 6,
     "metadata": {},
     "output_type": "execute_result"
    }
   ],
   "source": [
    "target = coordinates.SkyCoord(alt=90*u.deg, az=180*u.deg,\n",
    "                              location=observer.location,\n",
    "                              obstime=now,\n",
    "                              frame='altaz').transform_to(coordinates.Galactic)\n",
    "target"
   ]
  },
  {
   "cell_type": "markdown",
   "metadata": {},
   "source": [
    "The \"target\" variable is now a Galactic coordinate that tells us where we're pointing in the galaxy *right now*.\n",
    "\n",
    "If we want to know the RA/Dec, we can convert it:"
   ]
  },
  {
   "cell_type": "code",
   "execution_count": 7,
   "metadata": {},
   "outputs": [
    {
     "data": {
      "text/plain": [
       "<SkyCoord (FK5: equinox=J2000.000): (ra, dec) in deg\n",
       "    (186.10792975, 29.72271511)>"
      ]
     },
     "execution_count": 7,
     "metadata": {},
     "output_type": "execute_result"
    }
   ],
   "source": [
    "target.transform_to(coordinates.FK5)"
   ]
  },
  {
   "cell_type": "markdown",
   "metadata": {},
   "source": [
    "What if we want to predict a future observation?\n",
    "\n",
    "(specify time formats using https://docs.python.org/3/library/datetime.html)"
   ]
  },
  {
   "cell_type": "code",
   "execution_count": 8,
   "metadata": {},
   "outputs": [
    {
     "data": {
      "text/plain": [
       "datetime.datetime(2023, 1, 1, 4, 30)"
      ]
     },
     "execution_count": 8,
     "metadata": {},
     "output_type": "execute_result"
    }
   ],
   "source": [
    "time = datetime.datetime.strptime('January 1, 2023 4:30:00 AM', \"%B %d, %Y %I:%M:%S %p\",)\n",
    "time"
   ]
  },
  {
   "cell_type": "code",
   "execution_count": 9,
   "metadata": {},
   "outputs": [
    {
     "data": {
      "text/plain": [
       "<SkyCoord (Galactic): (l, b) in deg\n",
       "    (178.98637747, -0.4019677)>"
      ]
     },
     "execution_count": 9,
     "metadata": {},
     "output_type": "execute_result"
    }
   ],
   "source": [
    "target = coordinates.SkyCoord(alt=90*u.deg, az=180*u.deg,\n",
    "                              location=observer.location,\n",
    "                              obstime=time,\n",
    "                              frame='altaz').transform_to(coordinates.Galactic)\n",
    "target"
   ]
  },
  {
   "cell_type": "markdown",
   "metadata": {},
   "source": [
    "You can also change your altitude and azimuth."
   ]
  },
  {
   "cell_type": "markdown",
   "metadata": {},
   "source": [
    "## Where is my target (where do I have to point)?\n",
    "\n",
    "This is the fundamental question all observatories have to answer: given a target at a specific RA, Dec, where do we point?  What altitude and azimuth do we point at?\n",
    "\n",
    "(the question is easier if you have an equatorial mount, but you still need to know what Right Ascension to point at)"
   ]
  },
  {
   "cell_type": "markdown",
   "metadata": {},
   "source": [
    "You might want to know: Where do I have to point to see the Galactic Plane at a few different lines of longitude?\n",
    "\n",
    "The Galactic Plane is simply the circle in Galactic coordinates where the latitude is zero degrees."
   ]
  },
  {
   "cell_type": "code",
   "execution_count": 10,
   "metadata": {},
   "outputs": [],
   "source": [
    "# we pick a target at Galactic longitude=45 degrees and latitute=0 (the Galactic midplane)\n",
    "target = coordinates.SkyCoord(45*u.deg, 0*u.deg, frame='galactic')"
   ]
  },
  {
   "cell_type": "code",
   "execution_count": 11,
   "metadata": {},
   "outputs": [
    {
     "data": {
      "text/plain": [
       "<SkyCoord (AltAz: obstime=2023-01-01 04:30:00, location=(743674.13504561, -5500332.52750589, 3131946.80724394) m, pressure=0.0 hPa, temperature=0.0 deg_C, relative_humidity=0.0, obswl=1.0 micron): (az, alt) in deg\n",
       "    (327.87766411, -43.99069286)>"
      ]
     },
     "execution_count": 11,
     "metadata": {},
     "output_type": "execute_result"
    }
   ],
   "source": [
    "altaz_of_target = observer.altaz(time=time, target=target)\n",
    "altaz_of_target"
   ]
  },
  {
   "cell_type": "code",
   "execution_count": 12,
   "metadata": {},
   "outputs": [
    {
     "data": {
      "text/latex": [
       "$-43^\\circ59{}^\\prime26.49430631{}^{\\prime\\prime}$"
      ],
      "text/plain": [
       "<Latitude -43.99069286 deg>"
      ]
     },
     "execution_count": 12,
     "metadata": {},
     "output_type": "execute_result"
    }
   ],
   "source": [
    "altaz_of_target.alt"
   ]
  },
  {
   "cell_type": "markdown",
   "metadata": {},
   "source": [
    "Using the astroplan \"observer\", we can find the alt & az of our target at any time.  In the above example, the target has an altitude of -44 degrees: not observable!  \n",
    "\n",
    "When can we see it?  Let's try 12 hours later..."
   ]
  },
  {
   "cell_type": "code",
   "execution_count": 13,
   "metadata": {},
   "outputs": [
    {
     "data": {
      "text/latex": [
       "$61^\\circ51{}^\\prime55.46038375{}^{\\prime\\prime}$"
      ],
      "text/plain": [
       "<Latitude 61.86540566 deg>"
      ]
     },
     "execution_count": 13,
     "metadata": {},
     "output_type": "execute_result"
    }
   ],
   "source": [
    "time = datetime.datetime.strptime('January 1, 2023 4:30:00 PM', \"%B %d, %Y %I:%M:%S %p\",)\n",
    "altaz_of_target2 = observer.altaz(time=time, target=target)\n",
    "altaz_of_target2.alt"
   ]
  },
  {
   "cell_type": "markdown",
   "metadata": {},
   "source": [
    "+61 degrees is observable"
   ]
  },
  {
   "cell_type": "markdown",
   "metadata": {},
   "source": [
    "So if you have the question, \"What will I see if I look at the sky right now?\", you can answer it - convert alt/az to ra/dec or Galactic coordinates.\n",
    "\n",
    "If you have the question, \"When can I see my target?\", you can answer it by converting target coordinates to alt/az at any given time.\n",
    "\n",
    "Generally, though, you want to know a *range* of times.  Plots help with that."
   ]
  },
  {
   "cell_type": "markdown",
   "metadata": {},
   "source": [
    "Let's say we want to plot the observability over the course of a day.  We can use astropy's time for this:"
   ]
  },
  {
   "cell_type": "code",
   "execution_count": 14,
   "metadata": {},
   "outputs": [
    {
     "data": {
      "text/plain": [
       "<Time object: scale='utc' format='datetime' value=[datetime.datetime(2023, 1, 1, 16, 30)\n",
       " datetime.datetime(2023, 1, 1, 17, 30)\n",
       " datetime.datetime(2023, 1, 1, 18, 30)\n",
       " datetime.datetime(2023, 1, 1, 19, 30)\n",
       " datetime.datetime(2023, 1, 1, 20, 30)\n",
       " datetime.datetime(2023, 1, 1, 21, 30)\n",
       " datetime.datetime(2023, 1, 1, 22, 30)\n",
       " datetime.datetime(2023, 1, 1, 23, 30)\n",
       " datetime.datetime(2023, 1, 2, 0, 30) datetime.datetime(2023, 1, 2, 1, 30)\n",
       " datetime.datetime(2023, 1, 2, 2, 30) datetime.datetime(2023, 1, 2, 3, 30)\n",
       " datetime.datetime(2023, 1, 2, 4, 30) datetime.datetime(2023, 1, 2, 5, 30)\n",
       " datetime.datetime(2023, 1, 2, 6, 30) datetime.datetime(2023, 1, 2, 7, 30)\n",
       " datetime.datetime(2023, 1, 2, 8, 30) datetime.datetime(2023, 1, 2, 9, 30)\n",
       " datetime.datetime(2023, 1, 2, 10, 30)\n",
       " datetime.datetime(2023, 1, 2, 11, 30)\n",
       " datetime.datetime(2023, 1, 2, 12, 30)\n",
       " datetime.datetime(2023, 1, 2, 13, 30)\n",
       " datetime.datetime(2023, 1, 2, 14, 30)\n",
       " datetime.datetime(2023, 1, 2, 15, 30)]>"
      ]
     },
     "execution_count": 14,
     "metadata": {},
     "output_type": "execute_result"
    }
   ],
   "source": [
    "from astropy.time import Time, TimeDelta\n",
    "atime = Time(time)\n",
    "atimes = atime + TimeDelta(1*u.h) * np.arange(24)\n",
    "atimes"
   ]
  },
  {
   "cell_type": "markdown",
   "metadata": {},
   "source": [
    "We can then compute where our target will be (altitude, azimuth) vs time:"
   ]
  },
  {
   "cell_type": "code",
   "execution_count": 15,
   "metadata": {},
   "outputs": [
    {
     "data": {
      "text/plain": [
       "<SkyCoord (AltAz: obstime=[datetime.datetime(2023, 1, 1, 16, 30)\n",
       " datetime.datetime(2023, 1, 1, 17, 30)\n",
       " datetime.datetime(2023, 1, 1, 18, 30)\n",
       " datetime.datetime(2023, 1, 1, 19, 30)\n",
       " datetime.datetime(2023, 1, 1, 20, 30)\n",
       " datetime.datetime(2023, 1, 1, 21, 30)\n",
       " datetime.datetime(2023, 1, 1, 22, 30)\n",
       " datetime.datetime(2023, 1, 1, 23, 30)\n",
       " datetime.datetime(2023, 1, 2, 0, 30) datetime.datetime(2023, 1, 2, 1, 30)\n",
       " datetime.datetime(2023, 1, 2, 2, 30) datetime.datetime(2023, 1, 2, 3, 30)\n",
       " datetime.datetime(2023, 1, 2, 4, 30) datetime.datetime(2023, 1, 2, 5, 30)\n",
       " datetime.datetime(2023, 1, 2, 6, 30) datetime.datetime(2023, 1, 2, 7, 30)\n",
       " datetime.datetime(2023, 1, 2, 8, 30) datetime.datetime(2023, 1, 2, 9, 30)\n",
       " datetime.datetime(2023, 1, 2, 10, 30)\n",
       " datetime.datetime(2023, 1, 2, 11, 30)\n",
       " datetime.datetime(2023, 1, 2, 12, 30)\n",
       " datetime.datetime(2023, 1, 2, 13, 30)\n",
       " datetime.datetime(2023, 1, 2, 14, 30)\n",
       " datetime.datetime(2023, 1, 2, 15, 30)], location=(743674.13504561, -5500332.52750589, 3131946.80724394) m, pressure=0.0 hPa, temperature=0.0 deg_C, relative_humidity=0.0, obswl=1.0 micron): (az, alt) in deg\n",
       "    [(127.36852093,  61.86540566), (158.39959899,  69.94308712),\n",
       "     (202.33895302,  69.85402063), (233.03468428,  61.67568605),\n",
       "     (249.78829387,  50.15114551), (260.48308824,  37.51097025),\n",
       "     (268.68920049,  24.49956487), (275.97769712,  11.44136011),\n",
       "     (283.24785075,  -1.44564341), (291.23493473, -13.93219428),\n",
       "     (300.76988378, -25.68992198), (312.9511613 , -36.1715076 ),\n",
       "     (329.07527772, -44.43882251), (349.63029184, -49.09499742),\n",
       "     ( 12.22714205, -48.88038649), ( 32.45186811, -43.86343284),\n",
       "     ( 48.20290989, -35.36233653), ( 60.11286796, -24.74454596),\n",
       "     ( 69.48047446, -12.90886775), ( 77.37831022,  -0.37823755),\n",
       "     ( 84.62154043,  12.53114586), ( 91.94757842,  25.59424632),\n",
       "     (100.28652789,  38.58975162), (111.30754087,  51.17512456)]>"
      ]
     },
     "execution_count": 15,
     "metadata": {},
     "output_type": "execute_result"
    }
   ],
   "source": [
    "altaz = observer.altaz(atimes, target=target)\n",
    "altaz"
   ]
  },
  {
   "cell_type": "markdown",
   "metadata": {},
   "source": [
    "We can then plot it...."
   ]
  },
  {
   "cell_type": "code",
   "execution_count": 16,
   "metadata": {},
   "outputs": [],
   "source": [
    "from astropy import visualization\n",
    "import pylab as pl\n",
    "visualization.quantity_support() # only need this once\n",
    "pl.style.use('dark_background')"
   ]
  },
  {
   "cell_type": "code",
   "execution_count": 17,
   "metadata": {},
   "outputs": [
    {
     "data": {
      "text/plain": [
       "Text(0, 0.5, 'Azimuth (deg)')"
      ]
     },
     "execution_count": 17,
     "metadata": {},
     "output_type": "execute_result"
    },
    {
     "data": {
      "image/png": "[encoded data removed]",
      "text/plain": [
       "<Figure size 720x288 with 2 Axes>"
      ]
     },
     "metadata": {
      "needs_background": "dark"
     },
     "output_type": "display_data"
    }
   ],
   "source": [
    "pl.figure(figsize=(10,4))\n",
    "pl.subplot(1,2,1).plot_date(atimes.plot_date, altaz.alt)\n",
    "pl.xticks(rotation=45)\n",
    "pl.ylabel(\"Altitude (deg)\")\n",
    "pl.subplot(1,2,2).plot_date(atimes.plot_date, altaz.az)\n",
    "pl.xticks(rotation=45)\n",
    "pl.ylabel(\"Azimuth (deg)\")"
   ]
  },
  {
   "cell_type": "markdown",
   "metadata": {},
   "source": [
    "## EXERCISE:\n",
    "\n",
    "Repeat the above for three locations in the Galactic plane.  Try l=0, l=90, and l=135 degrees.  Can you observe all three locations in the same observing session?"
   ]
  },
  {
   "cell_type": "code",
   "execution_count": null,
   "metadata": {},
   "outputs": [],
   "source": []
  }
 ],
 "metadata": {
  "kernelspec": {
   "display_name": "Python 3 (ipykernel)",
   "language": "python",
   "name": "python3"
  },
  "language_info": {
   "codemirror_mode": {
    "name": "ipython",
    "version": 3
   },
   "file_extension": ".py",
   "mimetype": "text/x-python",
   "name": "python",
   "nbconvert_exporter": "python",
   "pygments_lexer": "ipython3",
   "version": "3.10.0"
  }
 },
 "nbformat": 4,
 "nbformat_minor": 4
}
