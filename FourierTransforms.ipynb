{
 "cells": [
  {
   "cell_type": "markdown",
   "id": "d7b3ea93",
   "metadata": {},
   "source": [
    "# Fourier Transforms"
   ]
  },
  {
   "cell_type": "code",
   "execution_count": 6,
   "id": "93409ae6",
   "metadata": {},
   "outputs": [],
   "source": [
    "%matplotlib inline\n",
    "import pylab as pl\n",
    "pl.style.use('dark_background')"
   ]
  },
  {
   "cell_type": "code",
   "execution_count": 7,
   "id": "2831a5ef",
   "metadata": {},
   "outputs": [],
   "source": [
    "import numpy as np"
   ]
  },
  {
   "cell_type": "markdown",
   "id": "1736e18f",
   "metadata": {},
   "source": [
    "Definition:\n",
    "\n",
    "The Fourier transform $F(t)$ is\n",
    "\n",
    "$$ F(t) = \\int_{-\\infty}^\\infty f(\\nu) e^{-2\\pi i \\nu t} d \\nu $$"
   ]
  },
  {
   "cell_type": "markdown",
   "id": "e266abae",
   "metadata": {},
   "source": [
    "giving an inverse\n",
    "$$ f(\\nu) = \\int_{-\\infty}^\\infty F(t) e^{+2\\pi i \\nu t} d \\nu $$"
   ]
  },
  {
   "cell_type": "markdown",
   "id": "03c2b7cd",
   "metadata": {},
   "source": [
    "## Proof that these are inverses\n",
    "\n",
    "plug one into the other then do operations"
   ]
  },
  {
   "cell_type": "markdown",
   "id": "f3505075",
   "metadata": {},
   "source": [
    "# Simple Fourier Transforms"
   ]
  },
  {
   "cell_type": "markdown",
   "id": "caa490d0",
   "metadata": {},
   "source": [
    "Sines and cosines:\n",
    "\n",
    "If $f(\\nu) = \\cos \\nu$, then:\n",
    "\n",
    "$$F(t) = \\int_{-\\infty}^{\\infty} \\left(\\cos \\nu\\right) e^{-2 i \\pi t \\nu} d\\nu$$\n",
    "\n",
    "Eusing Euler's formula\n",
    "\n"
   ]
  },
  {
   "cell_type": "markdown",
   "id": "3718336d",
   "metadata": {},
   "source": [
    "$$e^{i \\nu} = \\cos \\nu + i\\sin \\nu$$\n",
    "$$e^{-i \\nu} = \\cos \\nu - i\\sin \\nu$$\n",
    "so\n",
    "$$\\frac{1}{2}\\left(e^{i \\nu} + e^{-i \\nu}\\right) = \\cos \\nu $$\n"
   ]
  },
  {
   "cell_type": "markdown",
   "id": "9985edae",
   "metadata": {},
   "source": [
    "$$F(t) = \\int_{-\\infty}^{\\infty} \\frac{1}{2}\\left(e^{i \\nu} + e^{-i \\nu}\\right) e^{-2 i \\pi t \\nu} d\\nu$$\n"
   ]
  },
  {
   "cell_type": "markdown",
   "id": "03215ed4",
   "metadata": {},
   "source": [
    "$$F(t) = \\int_{-\\infty}^{\\infty} \\frac{1}{2}\\left(e^{i \\nu-2 i \\pi t \\nu} + e^{-i \\nu-2 i \\pi t \\nu}\\right)  d\\nu$$\n"
   ]
  },
  {
   "cell_type": "markdown",
   "id": "aed49871",
   "metadata": {},
   "source": [
    "$$F(t) = \\int_{-\\infty}^{\\infty} \\frac{1}{2}\\left(e^{i \\nu(1-2 \\pi t)} + e^{-i \\nu(1+2  \\pi t )}\\right)  d\\nu$$\n"
   ]
  },
  {
   "cell_type": "markdown",
   "id": "3451a0e5",
   "metadata": {},
   "source": [
    "$F(t) = 0$ unless $t=\\frac{1}{2\\pi}$ or $t=-\\frac{1}{2\\pi}$\n",
    "\n",
    "$$F(t) = \\delta\\left(t\\pm\\frac{1}{2\\pi}\\right)$$"
   ]
  },
  {
   "cell_type": "code",
   "execution_count": 22,
   "id": "985d81c8",
   "metadata": {},
   "outputs": [
    {
     "data": {
      "text/plain": [
       "[<matplotlib.lines.Line2D at 0x1396f8d30>]"
      ]
     },
     "execution_count": 22,
     "metadata": {},
     "output_type": "execute_result"
    },
    {
     "data": {
      "image/png": "[encoded data removed]",
      "text/plain": [
       "<Figure size 432x288 with 1 Axes>"
      ]
     },
     "metadata": {},
     "output_type": "display_data"
    }
   ],
   "source": [
    "pl.plot(x, drawstyle='steps-mid')"
   ]
  },
  {
   "cell_type": "code",
   "execution_count": 20,
   "id": "8d6efba1",
   "metadata": {},
   "outputs": [
    {
     "data": {
      "text/plain": [
       "[<matplotlib.lines.Line2D at 0x139606dc0>]"
      ]
     },
     "execution_count": 20,
     "metadata": {},
     "output_type": "execute_result"
    },
    {
     "data": {
      "image/png": "[encoded data removed]",
      "text/plain": [
       "<Figure size 432x288 with 1 Axes>"
      ]
     },
     "metadata": {},
     "output_type": "display_data"
    }
   ],
   "source": [
    "# Plot this\n",
    "\n",
    "x = np.cos(np.linspace(-16*np.pi, 16*np.pi, 100))\n",
    "ftx = np.fft.fft(x)\n",
    "frq = np.fft.fftfreq(x.size)\n",
    "pl.plot(frq, ftx, '.')"
   ]
  },
  {
   "cell_type": "code",
   "execution_count": null,
   "id": "8c731f22",
   "metadata": {},
   "outputs": [],
   "source": []
  },
  {
   "cell_type": "code",
   "execution_count": null,
   "id": "a4254944",
   "metadata": {},
   "outputs": [],
   "source": []
  },
  {
   "cell_type": "markdown",
   "id": "8612cf11",
   "metadata": {},
   "source": [
    "$$F(t) = \\int_{-\\infty}^{\\infty} \\cos \\nu \\left[\\cos\\left(2 \\pi t \\nu\\right) - i \\sin\\left(2 \\pi t \\nu\\right) \\right] d\\nu$$"
   ]
  },
  {
   "cell_type": "markdown",
   "id": "f7eac747",
   "metadata": {},
   "source": [
    "$$F(t) = \\int_{-\\infty}^{\\infty} \\cos \\nu \\cos\\left(2 \\pi t \\nu\\right) - i \\cos \\nu \\sin\\left(2 \\pi t \\nu\\right)  d\\nu$$"
   ]
  },
  {
   "cell_type": "markdown",
   "id": "3578911e",
   "metadata": {},
   "source": [
    "$$F(t) = \\int_{-\\infty}^{\\infty} \\cos \\left[\\nu + \\left(2 \\pi t \\nu\\right)\\right] + \\sin \\nu \\sin\\left(2 \\pi t \\nu\\right)  - i \\cos \\nu \\sin\\left(2 \\pi t \\nu\\right)  d\\nu$$"
   ]
  },
  {
   "cell_type": "markdown",
   "id": "c95865df",
   "metadata": {},
   "source": [
    "$$F(t) = \\int_{-\\infty}^{\\infty} \\cos \\left[\\nu + \\left(2 \\pi t \\nu\\right)\\right]  d\\nu$$"
   ]
  },
  {
   "cell_type": "markdown",
   "id": "45ea70ed",
   "metadata": {},
   "source": [
    "$$F(t) = \\int_{-\\infty}^{\\infty} \\cos \\left[\\nu \\left(2 \\pi t + 1\\right)\\right]  d\\nu$$"
   ]
  },
  {
   "cell_type": "markdown",
   "id": "be07ce87",
   "metadata": {},
   "source": [
    "$$F(t) = \\delta\\left(t-1/(2 \\pi)\\right)$$"
   ]
  },
  {
   "cell_type": "markdown",
   "id": "12012a23",
   "metadata": {},
   "source": [
    "# Visual Fourier Transforms"
   ]
  },
  {
   "cell_type": "code",
   "execution_count": null,
   "id": "06beb8fe",
   "metadata": {},
   "outputs": [],
   "source": []
  }
 ],
 "metadata": {
  "kernelspec": {
   "display_name": "Python 3 (ipykernel)",
   "language": "python",
   "name": "python3"
  },
  "language_info": {
   "codemirror_mode": {
    "name": "ipython",
    "version": 3
   },
   "file_extension": ".py",
   "mimetype": "text/x-python",
   "name": "python",
   "nbconvert_exporter": "python",
   "pygments_lexer": "ipython3",
   "version": "3.10.0"
  }
 },
 "nbformat": 4,
 "nbformat_minor": 5
}
