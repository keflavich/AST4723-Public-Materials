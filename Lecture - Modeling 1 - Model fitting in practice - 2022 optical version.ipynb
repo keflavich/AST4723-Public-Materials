{
 "cells": [
  {
   "cell_type": "code",
   "execution_count": 52,
   "metadata": {
    "slideshow": {
     "slide_type": "skip"
    }
   },
   "outputs": [],
   "source": [
    "## %matplotlib inline\n",
    "import pylab as pl\n",
    "from astropy import units as u, constants, visualization\n",
    "visualization.quantity_support()\n",
    "pl.style.use('dark_background')\n",
    "pl.rcParams['figure.dpi'] = 150"
   ]
  },
  {
   "cell_type": "markdown",
   "metadata": {
    "slideshow": {
     "slide_type": "slide"
    }
   },
   "source": [
    "# Model Fitting & Measurement in practice\n",
    "\n",
    "AST 4723\n",
    "\n",
    "This lecture covers:\n",
    "\n",
    "1. A review of spectral line formation\n",
    "2. Line measurement procedures: by eye, moment analysis, fitting\n",
    "3. Continuum / baseline modeling\n",
    "4. Spectroscopic flatfielding\n",
    "5. Line measurements with normalized spectra (Equivalent Width)"
   ]
  },
  {
   "cell_type": "markdown",
   "metadata": {
    "slideshow": {
     "slide_type": "slide"
    }
   },
   "source": [
    "# Measurements\n",
    "\n",
    "We can make several measurements from the spectra we've obtained:\n",
    "\n",
    "1. The wavelength/frequency/velocity of the line\n",
    "2. The intensity of the line\n",
    "3. The width\n",
    "\n",
    "These tell us about the physical properties of the object we're looking at."
   ]
  },
  {
   "cell_type": "markdown",
   "metadata": {
    "slideshow": {
     "slide_type": "slide"
    }
   },
   "source": [
    "# Line Profiles\n",
    "\n",
    "So what is a \"spectral line\" anyway?\n",
    "\n",
    "The HI spin-flip transition is a quantum process that produces a photon at a specific frequency, and it *always* produces a photon at that frequency - in the rest frame of the particle. \n",
    "\n",
    "The Balmer H-alpha lines are produced in a slightly different but still quantized process producing a photon at a fixed wavelength in the rest frame of the particle."
   ]
  },
  {
   "cell_type": "markdown",
   "metadata": {
    "slideshow": {
     "slide_type": "slide"
    }
   },
   "source": [
    "# Line Profiles - Doppler Shift\n",
    "\n",
    "The \"line profile\" we observe is caused by *doppler shift* in the line center.\n",
    "\n",
    "The Doppler formula (in the \"radio convention\" approximation) is:\n",
    "\n",
    "$$ \\frac{\\Delta v}{c} = \\frac{\\nu_{rest} - \\nu_{observed}}{\\nu_{rest}} $$\n",
    "\n",
    "In the \"optical convention\" it is\n",
    "$$ \\frac{\\Delta v}{c} = \\frac{ \\lambda_{observed} - \\lambda_{rest}}{\\lambda_{rest}} $$\n",
    "\n",
    "EXERCISE:  Prove that these are _not_ equivalent definitions."
   ]
  },
  {
   "cell_type": "markdown",
   "metadata": {
    "slideshow": {
     "slide_type": "slide"
    }
   },
   "source": [
    "# Line Profiles - Doppler Shift\n",
    "\n",
    "What causes $\\nu_{observed}$ to vary, then?\n",
    "\n",
    "Often the most important process is *thermal broadening*.\n",
    "\n",
    "Particles in a gas move according to the Maxwell-Boltzmann Distribution"
   ]
  },
  {
   "cell_type": "markdown",
   "metadata": {
    "slideshow": {
     "slide_type": "slide"
    }
   },
   "source": [
    "# Maxwell-Boltzmann distribution\n",
    "\n",
    "<img src=\"https://upload.wikimedia.org/wikipedia/commons/thumb/8/82/Simulation_of_gas_for_relaxation_demonstration.gif/450px-Simulation_of_gas_for_relaxation_demonstration.gif\" style=\"max-height: 600px\">\n"
   ]
  },
  {
   "cell_type": "markdown",
   "metadata": {
    "slideshow": {
     "slide_type": "slide"
    }
   },
   "source": [
    "# Line Profiles - Maxwell-Boltzmann Distribution\n",
    "\n",
    "The Maxwell-Boltzmann velocity vector distribution tells you how fast a particle is moving along your line-of-sight.  \n",
    "\n",
    "$$c_s = \\sqrt{\\frac{k_B T}{m}}$$\n",
    "\n",
    "$k_B$ is Boltzmann's constant, $T$ is the gas temperature, and $m$ is the particle mass.  $c_s$ is the *speed of sound*, and is the width of the Boltzmann velocity distribution for an isothermal (single-temperature) gas. "
   ]
  },
  {
   "cell_type": "markdown",
   "metadata": {
    "slideshow": {
     "slide_type": "slide"
    }
   },
   "source": [
    "This gives a probability distribution:\n",
    "\n",
    "$$p(v_{los}) = \\exp\\left[\\frac{-v_{los}^2}{2 c_s^2}\\right] = \\exp\\left[\\frac{-m v_{los}^2}{2 k_B T}\\right]$$\n"
   ]
  },
  {
   "cell_type": "markdown",
   "metadata": {
    "slideshow": {
     "slide_type": "slide"
    }
   },
   "source": [
    "# Line Profiles - Maxwell-Boltzmann Distribution\n",
    "\n",
    "This is a Gaussian distribution, $f(x) \\propto e^{-x^2}$:\n",
    "\n",
    "$$p(v_{los}) = \\exp\\left[\\frac{-v_{los}^2}{2 c_s^2}\\right]$$\n",
    "\n",
    "It tells you how many particles are moving at each velocity.  For example..."
   ]
  },
  {
   "cell_type": "code",
   "execution_count": 53,
   "metadata": {
    "slideshow": {
     "slide_type": "slide"
    }
   },
   "outputs": [],
   "source": [
    "# Example: There are 1000 Hydrogen particles with T=100 K\n",
    "temperature = 100*u.K\n",
    "hydrogen_mass = 1*u.Da # a \"Dalton\" is equal to one Atomic Mass Unit\n",
    "soundspeed = ((constants.k_B * temperature / hydrogen_mass)**0.5).to(u.km/u.s)\n",
    "# sample particle velocities from a \"normal\" (Gaussian) distribution\n",
    "particle_velocities = np.random.randn(1000) * soundspeed"
   ]
  },
  {
   "cell_type": "code",
   "execution_count": 54,
   "metadata": {
    "hideCode": true,
    "hidePrompt": true,
    "slideshow": {
     "slide_type": "fragment"
    }
   },
   "outputs": [
    {
     "data": {
      "image/png": "[encoded data removed]",
      "text/plain": [
       "<Figure size 960x720 with 1 Axes>"
      ]
     },
     "metadata": {},
     "output_type": "display_data"
    }
   ],
   "source": [
    "pl.ylabel(\"Number of H particles at velocity $v$\")\n",
    "pl.xlabel(\"Velocity [km s$^{-1}$]\")\n",
    "_=pl.hist(particle_velocities, bins=25);"
   ]
  },
  {
   "cell_type": "markdown",
   "metadata": {
    "slideshow": {
     "slide_type": "slide"
    }
   },
   "source": [
    "# Line Profiles - Doppler Shift\n",
    "\n",
    "A moving particle produces a photon at a different frequency as determined by the doppler formula:\n",
    "\n",
    "$$ \\frac{\\Delta v}{c} = \\frac{\\lambda_{moving} - \\lambda_{rest}}{\\lambda_{rest}}$$\n",
    "\n",
    "gives\n",
    "\n",
    "$$ \\lambda_{moving} = \\lambda_{rest} \\left( 1 + \\frac{\\Delta v}{c}\\right)$$"
   ]
  },
  {
   "cell_type": "markdown",
   "metadata": {
    "slideshow": {
     "slide_type": "subslide"
    }
   },
   "source": [
    "Radio version:\n",
    "\n",
    "$$ \\frac{\\Delta v}{c} = \\frac{\\nu_{rest} - \\nu_{moving}}{\\nu_{rest}} $$\n",
    "\n",
    "gives\n",
    "\n",
    "$$ \\nu_{moving} = \\nu_{rest} \\left(1 - \\frac{\\Delta v}{c}\\right) $$"
   ]
  },
  {
   "cell_type": "markdown",
   "metadata": {
    "slideshow": {
     "slide_type": "slide"
    }
   },
   "source": [
    "# Line Profiles - Doppler Shift\n",
    "The doppler formula combined with the Boltzmann distribution gives:\n",
    "$$ \\frac{\\Delta v}{c} = \\frac{\\lambda_{moving} - \\lambda_{rest}}{\\lambda_{rest}} =  \\frac{\\lambda_{los} - \\lambda_{rest}}{\\lambda_{rest}} $$\n",
    "\n",
    "$$p(v_{los}) = \\exp\\left[\\frac{-v_{los}^2}{2 c_s^2}\\right]$$\n",
    "\n"
   ]
  },
  {
   "cell_type": "markdown",
   "metadata": {
    "slideshow": {
     "slide_type": "fragment"
    }
   },
   "source": [
    "$$ p(\\nu_{los}) =  \\exp\\left[\\frac{-\\left[c(\\lambda_{los}-\\lambda_{rest})/\\lambda_{rest}\\right]^2}{2 c_s^2}\\right] $$\n"
   ]
  },
  {
   "cell_type": "markdown",
   "metadata": {
    "slideshow": {
     "slide_type": "subslide"
    }
   },
   "source": [
    "# Line Profiles - Doppler Shift - radio version\n",
    "The doppler formula combined with the Boltzmann distribution gives:\n",
    "$$ \\frac{\\Delta v}{c} = \\frac{\\nu_{rest} - \\nu_{moving}}{\\nu_{rest}} =  \\frac{\\nu_{rest} - \\nu_{los}}{\\nu_{rest}} $$\n",
    "\n",
    "$$p(v_{los}) = \\exp\\left[\\frac{-v_{los}^2}{2 c_s^2}\\right]$$\n",
    "\n"
   ]
  },
  {
   "cell_type": "markdown",
   "metadata": {
    "slideshow": {
     "slide_type": "fragment"
    }
   },
   "source": [
    "$$ p(\\nu_{los}) =  \\exp\\left[\\frac{-\\left[c(\\nu_{rest}-\\nu_{los})/\\nu_{rest}\\right]^2}{2 c_s^2}\\right] $$\n"
   ]
  },
  {
   "cell_type": "markdown",
   "metadata": {
    "slideshow": {
     "slide_type": "slide"
    }
   },
   "source": [
    "# Line Profiles - Doppler Shift\n",
    "\n",
    "This is the line profile produced by an isothermal gas:\n",
    "\n",
    "$$ p(\\nu_{los}) =  \\exp\\left[\\frac{-\\left[c(\\lambda_{los}-\\lambda_{rest})/\\lambda_{rest}\\right]^2}{2 c_s^2}\\right] $$\n"
   ]
  },
  {
   "cell_type": "markdown",
   "metadata": {
    "slideshow": {
     "slide_type": "slide"
    }
   },
   "source": [
    "# Line Profile - Measurement\n",
    "\n",
    "Most line profiles are dominated by motion and end up with Gaussian profiles.  There are other physical effects, including *pressure broadening* and *natural width* (from the Heisenberg uncertainty principle) that we'll discuss later, but for now we assume all line emission is broadened by motion.\n",
    "\n",
    "We start with an example _emission_ profile, but the same principles generally hold for _absorption_ lines as well.\n",
    "\n",
    "Given that starting assumption, we can measure physical properties of the gas from the line profile."
   ]
  },
  {
   "cell_type": "code",
   "execution_count": 55,
   "metadata": {
    "slideshow": {
     "slide_type": "skip"
    }
   },
   "outputs": [],
   "source": [
    "# a simulated line profile\n",
    "nu_hi = 1420.405751 * u.MHz\n",
    "bandwidth = 2.5 * u.MHz\n",
    "frequency_axis = np.linspace(nu_hi - bandwidth/2, nu_hi + bandwidth/2, 2048)\n",
    "# assume we're measuring something in Janskys\n",
    "model_line_profile = np.exp(-(constants.c * (nu_hi - frequency_axis)/(nu_hi * soundspeed ))**2 / 2) * u.Jy"
   ]
  },
  {
   "cell_type": "code",
   "execution_count": 56,
   "metadata": {
    "hideCode": true,
    "slideshow": {
     "slide_type": "slide"
    }
   },
   "outputs": [
    {
     "data": {
      "image/png": "[encoded data removed]",
      "text/plain": [
       "<Figure size 960x720 with 1 Axes>"
      ]
     },
     "metadata": {},
     "output_type": "display_data"
    }
   ],
   "source": [
    "pl.plot(frequency_axis, model_line_profile, drawstyle='steps-mid')\n",
    "pl.xlim(1420.3,1420.5);\n",
    "pl.title(\"Example HI line profile\");"
   ]
  },
  {
   "cell_type": "markdown",
   "metadata": {
    "slideshow": {
     "slide_type": "slide"
    }
   },
   "source": [
    "# Line Profile - Measurement\n",
    "\n",
    "The *width* tells us about the *velocity distribution*, which can be used to infer the temperature (in some cases).\n",
    "\n",
    "How do we measure the width?  A few possibilities exist:\n",
    "1. Eyeball it\n",
    "2. Use *moment analysis*\n",
    "3. Fit a model function to the data"
   ]
  },
  {
   "cell_type": "markdown",
   "metadata": {
    "slideshow": {
     "slide_type": "slide"
    }
   },
   "source": [
    "# Line Profile - Measurement\n",
    "\n",
    "The *width* tells us about the *velocity distribution*, which can be used to infer the temperature (in some cases).\n",
    "\n",
    "How do we measure the width?  A few possibilities exist:\n",
    "1. Eyeball it - inaccurate, but robust=failure-proof (you'll never get wildly wrong answers)\n",
    "2. Use *moment analysis* - accurate, robust, best in most cases\n",
    "3. Fit a model function to the data - accurate, flimsy, provides more information & works in more situations"
   ]
  },
  {
   "cell_type": "markdown",
   "metadata": {
    "slideshow": {
     "slide_type": "slide"
    }
   },
   "source": [
    "# Line Profile - Measurement\n",
    "\n",
    "The eyeball method: A Gaussian distribution has a well-defined width.  \n",
    "\n",
    "The full-width at half-maximum (FWHM) is related to the width $\\sigma$ as:\n",
    "\n",
    "$$ FWHM = \\sqrt{8 \\ln 2}~\\sigma$$\n",
    "\n",
    "The width of a thermally broadened line is $\\sigma = c_s$, so if we can estimate how wide the line is \"by eye\", we can get a quick estimate of the sound speed and therefore the temperature."
   ]
  },
  {
   "cell_type": "code",
   "execution_count": 57,
   "metadata": {
    "hideCode": true,
    "slideshow": {
     "slide_type": "slide"
    }
   },
   "outputs": [
    {
     "data": {
      "image/png": "[encoded data removed]",
      "text/plain": [
       "<Figure size 960x720 with 1 Axes>"
      ]
     },
     "metadata": {},
     "output_type": "display_data"
    }
   ],
   "source": [
    "# drop a ruler onto the plot and measure the FWHM... you can get pretty close\n",
    "pl.plot(frequency_axis, model_line_profile, drawstyle='steps-mid')\n",
    "pl.xlim(1420.36,1420.45)\n",
    "pl.title(\"Eyeball estimation:\\nRead off the values on the X-axis at about halfway up the profile\")\n",
    "pl.plot([1420.4,1420.4122], [0.5,0.5]);"
   ]
  },
  {
   "cell_type": "markdown",
   "metadata": {
    "slideshow": {
     "slide_type": "slide"
    }
   },
   "source": [
    "# Line Profile - Moment Analysis definitions\n",
    "\n",
    "Moment Analysis is the quickest, simplest quantitative approach.  It is pretty _robust_ (i.e., it doesn't fail often) and is accurate.  It's generally the best method when it can be used.\n",
    "\n",
    "The *zero'th moment* is the integral of the distribution:\n",
    "\n",
    "$$m_0 = \\int p(\\nu) d\\nu$$\n"
   ]
  },
  {
   "cell_type": "markdown",
   "metadata": {
    "slideshow": {
     "slide_type": "slide"
    }
   },
   "source": [
    "The first moment is the *centroid*:\n",
    "\n",
    "$$m_1 = \\frac{\\int \\nu p(\\nu) d\\nu}{\\int p(\\nu) d\\nu}$$"
   ]
  },
  {
   "cell_type": "markdown",
   "metadata": {
    "slideshow": {
     "slide_type": "slide"
    }
   },
   "source": [
    "The second *central* moment measures the width:\n",
    "\n",
    "$$m_2 = \\frac{\\int (\\nu - \\nu_{center})^2 p(\\nu) d \\nu}{\\int p(\\nu) d\\nu} $$"
   ]
  },
  {
   "cell_type": "markdown",
   "metadata": {
    "slideshow": {
     "slide_type": "slide"
    }
   },
   "source": [
    "n'th-order *central* moments are also used, but rarely.  We won't use them in this class, but you may hear of them occasionally.\n",
    "\n",
    "$$m_n = \\frac{\\int (\\nu - \\nu_{center})^n p(\\nu) d \\nu}{\\int p(\\nu) d\\nu} $$\n",
    "\n",
    "_skew_ is $m_3$, _kurtosis_ is $m_4$ and can't be treated with antibiotics."
   ]
  },
  {
   "cell_type": "markdown",
   "metadata": {
    "slideshow": {
     "slide_type": "slide"
    }
   },
   "source": [
    "# Line Profile - Moment 0\n",
    "\n",
    "What does moment 0 mean?\n",
    "$$m_0 = \\int p(\\nu) d\\nu$$\n",
    "\n",
    " This is the \"total intensity\" or \"integrated intensity\" and represents the total amount of light received from the line.  It will have units of \"flux units\" times \"X-axis units\"; for example, Jy Hz or K km/s.\n",
    "\n",
    "In practice, we calculate this as \n",
    "$$ m_0 = \\Sigma S_\\nu \\Delta \\nu$$\n",
    "$S_\\nu$ is the recorded brightness value, and $\\Delta \\nu$ is the width of a channel. "
   ]
  },
  {
   "cell_type": "code",
   "execution_count": 58,
   "metadata": {
    "slideshow": {
     "slide_type": "slide"
    }
   },
   "outputs": [
    {
     "data": {
      "text/latex": [
       "$0.010829259 \\; \\mathrm{Jy\\,MHz}$"
      ],
      "text/plain": [
       "<Quantity 0.01082926 Jy MHz>"
      ]
     },
     "execution_count": 58,
     "metadata": {},
     "output_type": "execute_result"
    }
   ],
   "source": [
    "# example moment0 / integrated intensity measurement we might make for an HI line\n",
    "delta_nu = frequency_axis[1] - frequency_axis[0]\n",
    "moment0 = (model_line_profile * delta_nu).sum()\n",
    "moment0"
   ]
  },
  {
   "cell_type": "markdown",
   "metadata": {
    "slideshow": {
     "slide_type": "slide"
    }
   },
   "source": [
    "# Line Profile - Moment 1\n",
    "\n",
    "What does moment 1 mean?\n",
    "\n",
    "$$m_1 = \\frac{\\int \\nu p(\\nu) d\\nu}{\\int p(\\nu) d\\nu}$$\n",
    "\n",
    "\n",
    "$m_1$ is the *weighted average* of the X-axis $\\nu$.  It has the same units as $\\nu$ - frequency.\n",
    "\n",
    "In practice, we calculate this as \n",
    "\n",
    "$$m_1 = \\frac{\\Sigma \\nu S_\\nu \\Delta \\nu}{m_0}$$\n",
    "\n",
    "where $\\Delta \\nu$ is the width of a spectral channel (spectral pixel)."
   ]
  },
  {
   "cell_type": "markdown",
   "metadata": {
    "slideshow": {
     "slide_type": "slide"
    }
   },
   "source": [
    "$$m_1 = \\frac{\\Sigma \\nu S_\\nu \\Delta \\nu}{m_0}$$\n"
   ]
  },
  {
   "cell_type": "code",
   "execution_count": 59,
   "metadata": {
    "slideshow": {
     "slide_type": "fragment"
    }
   },
   "outputs": [
    {
     "data": {
      "text/latex": [
       "$1420.4058 \\; \\mathrm{MHz}$"
      ],
      "text/plain": [
       "<Quantity 1420.405751 MHz>"
      ]
     },
     "execution_count": 59,
     "metadata": {},
     "output_type": "execute_result"
    }
   ],
   "source": [
    "# moment 1 calculation as written out\n",
    "moment1 = (frequency_axis * model_line_profile * delta_nu).sum() / moment0\n",
    "moment1"
   ]
  },
  {
   "cell_type": "code",
   "execution_count": 60,
   "metadata": {
    "slideshow": {
     "slide_type": "fragment"
    }
   },
   "outputs": [
    {
     "data": {
      "text/latex": [
       "$1420.4058 \\; \\mathrm{MHz}$"
      ],
      "text/plain": [
       "<Quantity 1420.405751 MHz>"
      ]
     },
     "execution_count": 60,
     "metadata": {},
     "output_type": "execute_result"
    }
   ],
   "source": [
    "# this is equivalent to taking the intensity-weighted average of the frequency\n",
    "np.average(frequency_axis, weights=model_line_profile)"
   ]
  },
  {
   "cell_type": "markdown",
   "metadata": {
    "slideshow": {
     "slide_type": "slide"
    }
   },
   "source": [
    "# Line Profile - Moment 2\n",
    "\n",
    "What does moment 2 mean?\n",
    "$$m_2 = \\frac{\\int (\\nu - \\nu_{center})^2 p(\\nu) d \\nu}{\\int p(\\nu) d\\nu} $$\n",
    "\n",
    "$m_2$ is the *intensity-weighted variance*.  It has units $[\\nu]^2$.  Recall that *variance* is the square of the *standard deviation*.  The *Gaussian width* $\\sigma=m_2^{1/2}$.\n",
    "\n",
    "We subtract out $m_1$ from each frequency because we're calculating the variance around a central point.\n",
    "\n",
    "In practice, we calculate this as \n",
    "$$m_2 = \\frac{\\Sigma \\left(\\nu - m_1\\right)^2 S_\\nu \\Delta \\nu}{m_0}$$"
   ]
  },
  {
   "cell_type": "markdown",
   "metadata": {
    "slideshow": {
     "slide_type": "slide"
    }
   },
   "source": [
    "$$m_2 = \\frac{\\Sigma \\left(\\nu - m_1\\right)^2 S_\\nu \\Delta \\nu}{m_0}$$"
   ]
  },
  {
   "cell_type": "code",
   "execution_count": 61,
   "metadata": {
    "slideshow": {
     "slide_type": "fragment"
    }
   },
   "outputs": [
    {
     "data": {
      "text/latex": [
       "$1.8664554 \\times 10^{-5} \\; \\mathrm{MHz^{2}}$"
      ],
      "text/plain": [
       "<Quantity 1.86645543e-05 MHz2>"
      ]
     },
     "execution_count": 61,
     "metadata": {},
     "output_type": "execute_result"
    }
   ],
   "source": [
    "moment2 = ( (frequency_axis - moment1)**2 * model_line_profile * delta_nu).sum() / moment0\n",
    "moment2"
   ]
  },
  {
   "cell_type": "code",
   "execution_count": 62,
   "metadata": {
    "slideshow": {
     "slide_type": "fragment"
    }
   },
   "outputs": [
    {
     "data": {
      "text/latex": [
       "$1.8664554 \\times 10^{-5} \\; \\mathrm{MHz^{2}}$"
      ],
      "text/plain": [
       "<Quantity 1.86645543e-05 MHz2>"
      ]
     },
     "execution_count": 62,
     "metadata": {},
     "output_type": "execute_result"
    }
   ],
   "source": [
    "# moment 2 is the intensity-profile-weighted average of the square of the difference\n",
    "np.average((frequency_axis - moment1)**2, weights=model_line_profile)"
   ]
  },
  {
   "cell_type": "markdown",
   "metadata": {
    "slideshow": {
     "slide_type": "slide"
    }
   },
   "source": [
    "# Line Profile - Moment 2 to sigma\n",
    "\n",
    "We generally are more interested in, or at least more often talk about, the _standard deviation_ rather than the _variance_.\n",
    "\n",
    "The standard deviation - the width of the line profile - is simply the square root of the variance:\n",
    "\n",
    "$$ \\sigma = \\sqrt{\\sigma^2} = \\sqrt{m_2}$$"
   ]
  },
  {
   "cell_type": "code",
   "execution_count": 63,
   "metadata": {},
   "outputs": [
    {
     "data": {
      "text/latex": [
       "$0.0043202493 \\; \\mathrm{MHz}$"
      ],
      "text/plain": [
       "<Quantity 0.00432025 MHz>"
      ]
     },
     "execution_count": 63,
     "metadata": {},
     "output_type": "execute_result"
    }
   ],
   "source": [
    "sigma = moment2**0.5\n",
    "sigma"
   ]
  },
  {
   "cell_type": "markdown",
   "metadata": {
    "slideshow": {
     "slide_type": "slide"
    }
   },
   "source": [
    "Part of the reason we talk about the $\\sigma$ width is that we can use it to describe the velocity width of the line:\n",
    "\n",
    "$$\\sigma_v = \\frac{\\sigma_\\nu}{\\nu_{rest}} = \\frac{\\sigma_\\lambda}{\\lambda_{rest}}$$\n",
    "\n",
    "(more on this later)"
   ]
  },
  {
   "cell_type": "code",
   "execution_count": 64,
   "metadata": {},
   "outputs": [
    {
     "data": {
      "text/latex": [
       "$911.83675 \\; \\mathrm{\\frac{m}{s}}$"
      ],
      "text/plain": [
       "<Quantity 911.83675189 m / s>"
      ]
     },
     "execution_count": 64,
     "metadata": {},
     "output_type": "execute_result"
    }
   ],
   "source": [
    "sigma / moment1 * constants.c"
   ]
  },
  {
   "cell_type": "markdown",
   "metadata": {
    "slideshow": {
     "slide_type": "slide"
    }
   },
   "source": [
    "# Line Profile Measurement - moments usually work"
   ]
  },
  {
   "cell_type": "code",
   "execution_count": 65,
   "metadata": {
    "hideCode": true,
    "slideshow": {
     "slide_type": "-"
    }
   },
   "outputs": [
    {
     "data": {
      "image/png": "[encoded data removed]",
      "text/plain": [
       "<Figure size 960x720 with 1 Axes>"
      ]
     },
     "metadata": {},
     "output_type": "display_data"
    }
   ],
   "source": [
    "pl.plot(frequency_axis, model_line_profile, drawstyle='steps-mid')\n",
    "pl.xlim(1420.36,1420.45)\n",
    "pl.vlines(moment1, 0*u.Jy, 1*u.Jy, color='w', linestyle='--', label='Moment 1')\n",
    "# the Gaussian width is the half-width at exp(-1/2)\n",
    "pl.hlines( np.exp(-0.5), moment1-sigma, moment1+sigma, color='y', linestyle='--', label='Moment-2-based $\\sigma$')\n",
    "pl.hlines( 0.5, moment1-sigma*2.35/2, moment1+sigma*2.35/2, color='r', linestyle='--', label='Moment-2-based FWHM');\n",
    "pl.legend(loc='best');\n",
    "pl.title(\"Moment-based fitting works\");"
   ]
  },
  {
   "cell_type": "markdown",
   "metadata": {
    "slideshow": {
     "slide_type": "slide"
    }
   },
   "source": [
    "# Line Profile Measurements - what about noise?\n",
    "\n",
    "Even in the presence of noise, moment analysis is very effective - but it can go awry."
   ]
  },
  {
   "cell_type": "code",
   "execution_count": 66,
   "metadata": {
    "slideshow": {
     "slide_type": "fragment"
    }
   },
   "outputs": [],
   "source": [
    "# we'll use a specific example to show what happens when noise breaks moment analysis\n",
    "np.random.seed(0)\n",
    "uncertainty = 0.1 * model_line_profile.unit\n",
    "noisy_model_profile = model_line_profile + uncertainty * np.random.randn(model_line_profile.size)"
   ]
  },
  {
   "cell_type": "code",
   "execution_count": 67,
   "metadata": {
    "hideCode": true,
    "slideshow": {
     "slide_type": "slide"
    }
   },
   "outputs": [
    {
     "data": {
      "image/png": "[encoded data removed]",
      "text/plain": [
       "<Figure size 960x720 with 1 Axes>"
      ]
     },
     "metadata": {},
     "output_type": "display_data"
    }
   ],
   "source": [
    "pl.plot(frequency_axis, noisy_model_profile, drawstyle='steps-mid')\n",
    "pl.xlim(1420.33,1420.48);\n",
    "pl.title(\"Example noisy profile.  Your eyeball guess for this is probably pretty good.\");"
   ]
  },
  {
   "cell_type": "markdown",
   "metadata": {
    "slideshow": {
     "slide_type": "slide"
    }
   },
   "source": [
    "## Moment Analysis on Noisy Data"
   ]
  },
  {
   "cell_type": "code",
   "execution_count": 68,
   "metadata": {
    "slideshow": {
     "slide_type": "-"
    }
   },
   "outputs": [
    {
     "name": "stderr",
     "output_type": "stream",
     "text": [
      "/Users/adam/repos/astropy/astropy/units/quantity.py:674: RuntimeWarning: invalid value encountered in sqrt\n",
      "  result = super().__array_ufunc__(function, method, *arrays, **kwargs)\n"
     ]
    },
    {
     "data": {
      "text/plain": [
       "(<Quantity 0.00707108 Jy MHz>,\n",
       " <Quantity 1420.86404663 MHz>,\n",
       " <Quantity -0.43715543 MHz2>,\n",
       " <Quantity nan MHz>)"
      ]
     },
     "execution_count": 68,
     "metadata": {},
     "output_type": "execute_result"
    }
   ],
   "source": [
    "\n",
    "noisy_moment0 = noisy_model_profile.sum() * delta_nu\n",
    "noisy_moment1 = (frequency_axis * noisy_model_profile * delta_nu).sum() / noisy_moment0\n",
    "noisy_moment2 = ( (frequency_axis - noisy_moment1)**2 * noisy_model_profile * delta_nu).sum() / noisy_moment0\n",
    "noisy_sigma = noisy_moment2**0.5\n",
    "noisy_moment0, noisy_moment1, noisy_moment2, noisy_sigma"
   ]
  },
  {
   "cell_type": "markdown",
   "metadata": {
    "slideshow": {
     "slide_type": "slide"
    }
   },
   "source": [
    "```\n",
    "(<Quantity 0.00707108 Jy MHz>,\n",
    " <Quantity 1420.86404663 MHz>,\n",
    " <Quantity -0.43715543 MHz2>,\n",
    " <Quantity nan MHz>)\n",
    "```    \n",
    "What happened? \n",
    "\n",
    "Let's plot the moment-derived values to see:"
   ]
  },
  {
   "cell_type": "code",
   "execution_count": 69,
   "metadata": {
    "hideCode": true,
    "slideshow": {
     "slide_type": "slide"
    }
   },
   "outputs": [
    {
     "data": {
      "image/png": "[encoded data removed]",
      "text/plain": [
       "<Figure size 960x720 with 1 Axes>"
      ]
     },
     "metadata": {},
     "output_type": "display_data"
    }
   ],
   "source": [
    "pl.plot(frequency_axis, noisy_model_profile, drawstyle='steps-mid')\n",
    "pl.xlim(1420.33,1420.9);\n",
    "pl.vlines(noisy_moment1, 0*u.Jy, 1*u.Jy, color='w', linestyle='--', label='Moment 1')\n",
    "pl.legend(loc='best');\n",
    "pl.title(\"Moment-based fitting sometimes fails\");"
   ]
  },
  {
   "cell_type": "markdown",
   "metadata": {
    "slideshow": {
     "slide_type": "slide"
    }
   },
   "source": [
    "The centroid is wrong, and the noise won out over the signal.\n",
    "\n",
    "\n",
    "If we re-measure over a subset - if we \"crop\" the spectrum to where we know the signal is - we can get a reasonable answer again:"
   ]
  },
  {
   "cell_type": "code",
   "execution_count": 70,
   "metadata": {
    "slideshow": {
     "slide_type": "slide"
    }
   },
   "outputs": [
    {
     "data": {
      "image/png": "[encoded data removed]",
      "text/plain": [
       "<Figure size 960x720 with 1 Axes>"
      ]
     },
     "metadata": {},
     "output_type": "display_data"
    }
   ],
   "source": [
    "selection = ((frequency_axis > 1420.39 * u.MHz) & (frequency_axis < 1420.42 * u.MHz))\n",
    "pl.plot(frequency_axis[selection],\n",
    "        noisy_model_profile[selection], drawstyle='steps-mid');\n",
    "pl.title(\"Downselected data\");"
   ]
  },
  {
   "cell_type": "code",
   "execution_count": 71,
   "metadata": {
    "slideshow": {
     "slide_type": "slide"
    }
   },
   "outputs": [
    {
     "data": {
      "text/plain": [
       "(<Quantity 0.01088147 Jy MHz>,\n",
       " <Quantity 1420.40551509 MHz>,\n",
       " <Quantity 2.4993493e-05 MHz2>,\n",
       " <Quantity 0.00499935 MHz>)"
      ]
     },
     "execution_count": 71,
     "metadata": {},
     "output_type": "execute_result"
    }
   ],
   "source": [
    "# moments on the downselected data\n",
    "noisy_moment0 = noisy_model_profile[selection].sum() * delta_nu\n",
    "noisy_moment1 = (frequency_axis[selection] * noisy_model_profile[selection] * delta_nu).sum() / noisy_moment0\n",
    "noisy_moment2 = ( (frequency_axis[selection] - noisy_moment1)**2 * noisy_model_profile[selection] * delta_nu).sum() / noisy_moment0\n",
    "noisy_sigma = noisy_moment2**0.5\n",
    "noisy_moment0, noisy_moment1, noisy_moment2, noisy_sigma"
   ]
  },
  {
   "cell_type": "code",
   "execution_count": 72,
   "metadata": {
    "hideCode": true,
    "slideshow": {
     "slide_type": "slide"
    }
   },
   "outputs": [
    {
     "data": {
      "image/png": "[encoded data removed]",
      "text/plain": [
       "<Figure size 960x720 with 1 Axes>"
      ]
     },
     "metadata": {},
     "output_type": "display_data"
    }
   ],
   "source": [
    "pl.plot(frequency_axis, noisy_model_profile, drawstyle='steps-mid')\n",
    "pl.xlim(1420.36,1420.45)\n",
    "pl.vlines(noisy_moment1, 0*u.Jy, 1.2*u.Jy, color='w', linestyle='--', linewidth=2)\n",
    "pl.hlines(np.exp(-0.5), noisy_moment1-noisy_sigma, noisy_moment1+noisy_sigma, color='y', linestyle='--');\n",
    "pl.title(\"Moment analysis worked reasonably this time\");"
   ]
  },
  {
   "cell_type": "markdown",
   "metadata": {
    "slideshow": {
     "slide_type": "slide"
    }
   },
   "source": [
    "# Moment Analysis - continuum and baselines\n",
    "\n",
    "Where can moment analysis go really wrong?\n",
    "\n",
    "If you have a background continuum, none of this works!  We call removing the continuum \"baseline subtraction\" in the radio.  In the optical, we talk more about continuum modeling."
   ]
  },
  {
   "cell_type": "code",
   "execution_count": null,
   "metadata": {
    "hideCode": true,
    "slideshow": {
     "slide_type": "slide"
    }
   },
   "outputs": [],
   "source": [
    "noisy_baseline_model_profile = noisy_model_profile + np.poly1d([0.0001,1],r=False)(np.arange(frequency_axis.size))*noisy_model_profile.unit\n",
    "pl.figure(figsize=(10,4))\n",
    "pl.suptitle(\"Example of a baseline problem that's easy to fix\", fontsize=16)\n",
    "pl.subplot(1,2,1).plot(frequency_axis, noisy_baseline_model_profile,\n",
    "        drawstyle='steps-mid')\n",
    "pl.title(\"Full spectrum - a slope is visible\")\n",
    "pl.subplot(1,2,2).plot(frequency_axis, noisy_baseline_model_profile,\n",
    "        drawstyle='steps-mid')\n",
    "pl.title(\"Zoom in on a small spectral area\")\n",
    "pl.xlim(1420.3,1420.51)\n",
    "pl.ylim(-0.2,2.5);\n"
   ]
  },
  {
   "cell_type": "markdown",
   "metadata": {
    "slideshow": {
     "slide_type": "slide"
    }
   },
   "source": [
    "Why is the baseline a problem?\n",
    "$$ m_0 = \\Sigma  S_\\nu \\Delta \\nu $$\n",
    "$$ m_1 = \\frac{\\Sigma \\nu S_\\nu \\Delta \\nu}{m_0} $$\n",
    "$$ m_2 = \\frac{\\Sigma \\nu^2 S_\\nu \\Delta \\nu}{m_0} $$\n",
    "All of these moments include the flux at each pixel, so if there's a gradient in the flux, it biases the measurement."
   ]
  },
  {
   "cell_type": "code",
   "execution_count": null,
   "metadata": {
    "slideshow": {
     "slide_type": "skip"
    }
   },
   "outputs": [],
   "source": [
    "# hackery to make a bad baseline example\n",
    "# (you don't need to pay close attention to this for now)\n",
    "np.random.seed(2)\n",
    "x = np.poly1d([1,2,3] + list(np.random.randn(25)))(np.linspace(-5,5,frequency_axis.size))\n",
    "x = np.abs(np.fft.fft(x)) / x.sum()\n",
    "x[0:18] = 0\n",
    "bad_baseline = np.abs(np.fft.fft(x)) * model_line_profile.unit\n",
    "noisy_bad_baseline_model_profile = noisy_model_profile + bad_baseline"
   ]
  },
  {
   "cell_type": "markdown",
   "metadata": {
    "slideshow": {
     "slide_type": "slide"
    }
   },
   "source": [
    "# Real Bad Baselines\n",
    "\n",
    "In real life, bad baselines can be really bad, and important (and difficult) to deal with...\n",
    "\n",
    "<img src=\"images/41550_2020_1174_Fig9_ESM.webp\">\n",
    "\n",
    "This is an example from the 2020 discovery of phosphine in Venus' atmosphere"
   ]
  },
  {
   "cell_type": "code",
   "execution_count": null,
   "metadata": {
    "hideCode": true,
    "slideshow": {
     "slide_type": "slide"
    }
   },
   "outputs": [],
   "source": [
    "pl.figure(figsize=(10,4))\n",
    "pl.suptitle(\"Example of a bad baseline\")\n",
    "pl.subplot(1,2,1).plot(frequency_axis, noisy_bad_baseline_model_profile,\n",
    "        drawstyle='steps-mid')\n",
    "pl.title(\"Full spectrum\")\n",
    "pl.subplot(1,2,2).plot(frequency_axis, noisy_bad_baseline_model_profile,\n",
    "        drawstyle='steps-mid')\n",
    "pl.title(\"Zoomed in\")\n",
    "pl.xlim(1420.3,1420.51)\n",
    "pl.ylim(-0.2,2.);"
   ]
  },
  {
   "cell_type": "markdown",
   "metadata": {
    "slideshow": {
     "slide_type": "slide"
    }
   },
   "source": [
    "## What do we do about bad baselines?\n",
    "\n",
    "Generally, we try to model and, in the radio,  remove them.  \n",
    "\n",
    "This can be difficult and can result in fake features in the data, so it helps to know what fake features look like.\n",
    "\n",
    "We can figure this out by looking at data where we know what the spectrum _should_ look like, either from theory or because we know what other telescopes have observed and we trust that they are reporting the truth."
   ]
  },
  {
   "cell_type": "markdown",
   "metadata": {
    "slideshow": {
     "slide_type": "slide"
    }
   },
   "source": [
    "# Example continuum in optical spectra\n",
    "\n",
    "We'll examine a spectrum taken from the Pepito spectrograph on CTO."
   ]
  },
  {
   "cell_type": "code",
   "execution_count": null,
   "metadata": {
    "slideshow": {
     "slide_type": "slide"
    }
   },
   "outputs": [],
   "source": [
    "from astropy.io import fits\n",
    "from astropy.wcs import WCS"
   ]
  },
  {
   "cell_type": "code",
   "execution_count": null,
   "metadata": {
    "slideshow": {
     "slide_type": "-"
    }
   },
   "outputs": [],
   "source": [
    "# load the data that have already had a wavelength solution applied and \n",
    "# saved as a World Coordinate System (WCS)\n",
    "vega_fh = fits.open('data/Oct5_VegaMean.fits')\n",
    "vega_spectrum = vega_fh[0].data\n",
    "ww = WCS(vega_fh[0].header)\n",
    "wavelengths = ww.pixel_to_world(np.arange(vega_spectrum.size))"
   ]
  },
  {
   "cell_type": "code",
   "execution_count": null,
   "metadata": {
    "hideCode": true,
    "slideshow": {
     "slide_type": "slide"
    }
   },
   "outputs": [],
   "source": [
    "pl.title(\"Vega spectrum\")\n",
    "pl.ylabel(\"Source flux (counts)\")\n",
    "pl.xlabel(\"Wavelength [nm]\")\n",
    "pl.plot(wavelengths, vega_spectrum);"
   ]
  },
  {
   "cell_type": "code",
   "execution_count": null,
   "metadata": {
    "hideCode": true,
    "slideshow": {
     "slide_type": "slide"
    }
   },
   "outputs": [],
   "source": [
    "pl.title(r\"Vega spectrum, zoomed in on H$\\beta$\")\n",
    "pl.ylabel(\"Source flux (counts)\")\n",
    "pl.xlabel(\"Wavelength [nm]\")\n",
    "pl.xlim(475, 495)\n",
    "pl.ylim(3500, 8000)\n",
    "pl.plot(wavelengths, vega_spectrum);"
   ]
  },
  {
   "cell_type": "code",
   "execution_count": null,
   "metadata": {
    "hideCode": true,
    "slideshow": {
     "slide_type": "slide"
    }
   },
   "outputs": [],
   "source": [
    "pl.title(\"Vega spectrum, zoomed in\\nThese features are not spectral lines - they are instrumental artifacts\")\n",
    "pl.ylabel(\"Source flux (counts)\")\n",
    "pl.xlabel(\"Wavelength [nm]\")\n",
    "pl.xlim(500, 560)\n",
    "pl.ylim(7500, 9000)\n",
    "pl.plot(wavelengths, vega_spectrum);"
   ]
  },
  {
   "cell_type": "markdown",
   "metadata": {
    "slideshow": {
     "slide_type": "slide"
    }
   },
   "source": [
    "# Fixing \"Baseline\" issues\n",
    "\n",
    "There are many approaches to fixing baseline issues.\n",
    "\n",
    "Generally, the first thing you want to try is: get better data!  Baseline issues are a _systematic_ uncertainty that can strongly bias your results.  There is a limit on how well you can make a measurement when these are present!\n",
    "\n",
    "But here we will focus on how to make the best of bad data."
   ]
  },
  {
   "cell_type": "markdown",
   "metadata": {
    "slideshow": {
     "slide_type": "slide"
    }
   },
   "source": [
    "## Baseline Fixing - Radio\n",
    "\n",
    "In the radio, we often have baseline features that are broad, and bright, compared to our target spectral lines.\n",
    "\n",
    "In this case, we can use high-order polynomial models to fit the baseline.  We then subtract out the polynomial model.\n",
    "\n",
    "Sometimes we can zoom far in on the line and fit a _local_, low-order polynomial (e.g., a line)."
   ]
  },
  {
   "cell_type": "markdown",
   "metadata": {
    "slideshow": {
     "slide_type": "slide"
    }
   },
   "source": [
    "## Continuum Fitting - optical\n",
    "\n",
    "We take the same general approach in the optical, but it depends on what we're trying to do.\n",
    "\n",
    "We'll do the 'zoom-in-on-a-line' method for individual lines.\n",
    "\n",
    "Generally, radio baselines move around a lot from one observation to the next, but optical instruments are more stable.  We can therefore use a known source as a 'spectral flat field'."
   ]
  },
  {
   "cell_type": "markdown",
   "metadata": {
    "slideshow": {
     "slide_type": "slide"
    }
   },
   "source": [
    "## Spectral Flat Fielding with Vega\n",
    "\n",
    "Vega's a pretty good spectral flat field.\n",
    "\n",
    "As an A0 star, it has very few spectral features _except_ for the Hydrogen lines.\n",
    "\n",
    "We need to remove the hydrogen lines to make it a _really_ good flat, though.  So we'll go through that process:"
   ]
  },
  {
   "cell_type": "code",
   "execution_count": null,
   "metadata": {
    "hideCode": true,
    "slideshow": {
     "slide_type": "slide"
    }
   },
   "outputs": [],
   "source": [
    "pl.title(\"Vega spectrum, zoomed in on H$\\\\beta$:\\n we now want to fit a linear model to the continuum\")\n",
    "pl.ylabel(\"Source flux (counts)\")\n",
    "pl.xlabel(\"Wavelength [nm]\")\n",
    "pl.xlim(475, 495)\n",
    "pl.ylim(3500, 8000)\n",
    "pl.plot([475.5, 480], [7200, 7200], 'r')\n",
    "pl.text(477.75, 7300, \"Continuum\", color='r', ha='center')\n",
    "pl.plot([490, 494.5], [7500, 7500], 'r')\n",
    "pl.text(492.25, 7600, \"Continuum\", color='r', ha='center')\n",
    "pl.plot(wavelengths, vega_spectrum);"
   ]
  },
  {
   "cell_type": "markdown",
   "metadata": {
    "slideshow": {
     "slide_type": "slide"
    }
   },
   "source": [
    "## Zoomed-in continuum fitting process\n",
    "\n",
    "1. Select the region to fit\n",
    "2. Use a linear model to fit\n",
    "3. For optical absorption spectra, divide the data by the model\n",
    "\n",
    "Because we're dividing the data by the model, we call the result a _normalized_ spectrum: the continuum will be about 1."
   ]
  },
  {
   "cell_type": "code",
   "execution_count": null,
   "metadata": {
    "slideshow": {
     "slide_type": "slide"
    }
   },
   "outputs": [],
   "source": [
    "from astropy.modeling.fitting import LinearLSQFitter, LevMarLSQFitter\n",
    "from astropy.modeling.models import Gaussian1D, Linear1D"
   ]
  },
  {
   "cell_type": "code",
   "execution_count": null,
   "metadata": {},
   "outputs": [],
   "source": [
    "selection = (((wavelengths > 475*u.nm) & (wavelengths < 480*u.nm)) |\n",
    "             ((wavelengths > 490*u.nm) & (wavelengths < 495*u.nm)))\n",
    "linfitter = LinearLSQFitter()\n",
    "continuum_model_fit = linfitter(Linear1D(), wavelengths[selection],\n",
    "                                vega_spectrum[selection])\n",
    "continuum_model_fit"
   ]
  },
  {
   "cell_type": "code",
   "execution_count": null,
   "metadata": {
    "hideCode": true,
    "slideshow": {
     "slide_type": "slide"
    }
   },
   "outputs": [],
   "source": [
    "pl.title(\"Normalized Vega spectrum, zoomed in on H$\\\\beta$\")\n",
    "pl.ylabel(\"Source flux (counts)\")\n",
    "pl.xlabel(\"Wavelength [nm]\")\n",
    "pl.xlim(475, 495)\n",
    "pl.ylim(0.4, 1.1)\n",
    "pl.plot(wavelengths, vega_spectrum / continuum_model_fit(wavelengths));"
   ]
  },
  {
   "cell_type": "markdown",
   "metadata": {
    "slideshow": {
     "slide_type": "slide"
    }
   },
   "source": [
    "# Line Fitting - Gaussian Absorption Line (for Vega flat field)\n",
    "\n",
    "We want to model out the line, so we're going to fit it and subtract it.\n",
    "\n",
    "We are modeling the absorption relative to the continuum, so we will now _subtract_ the continuum background off.  This is needed because the Gaussian model is zero at large distances from the center.\n",
    "\n",
    "1. Subtract continuum from normalized spectrum\n",
    "2. Select data to fit\n",
    "3. Provide guesses to fitter\n",
    "4. Fit\n",
    "5. Scale the model back to the original data units\n",
    "6. Subtract from the original data"
   ]
  },
  {
   "cell_type": "code",
   "execution_count": null,
   "metadata": {
    "slideshow": {
     "slide_type": "slide"
    }
   },
   "outputs": [],
   "source": [
    "absorption_only_profile = vega_spectrum / continuum_model_fit(wavelengths) - 1\n",
    "selection = ((wavelengths > 480*u.nm) & (wavelengths < 490*u.nm))\n",
    "guesses = [-0.5, 485, 3] # eyeballed\n",
    "lmfitter = LevMarLSQFitter()\n",
    "hbeta_line_fit = lmfitter(Gaussian1D(*guesses), wavelengths[selection],\n",
    "                          absorption_only_profile[selection])\n",
    "hbeta_line_fit"
   ]
  },
  {
   "cell_type": "code",
   "execution_count": null,
   "metadata": {
    "hideCode": true,
    "slideshow": {
     "slide_type": "slide"
    }
   },
   "outputs": [],
   "source": [
    "pl.title(\"Normalized Vega spectrum, zoomed in on H$\\\\beta$, with fit\")\n",
    "pl.ylabel(\"Source flux (counts)\")\n",
    "pl.xlabel(\"Wavelength [nm]\")\n",
    "pl.xlim(475, 495)\n",
    "pl.ylim(0.4, 1.1)\n",
    "pl.plot(wavelengths, vega_spectrum / continuum_model_fit(wavelengths), label='data');\n",
    "pl.plot(wavelengths, hbeta_line_fit(wavelengths) + 1, linestyle=':', label='fit')\n",
    "pl.plot(wavelengths, vega_spectrum / continuum_model_fit(wavelengths) - (hbeta_line_fit(wavelengths) + 1) + 0.5, linestyle='--', label='residual')\n",
    "pl.legend(loc='best');"
   ]
  },
  {
   "cell_type": "code",
   "execution_count": null,
   "metadata": {
    "slideshow": {
     "slide_type": "slide"
    }
   },
   "outputs": [],
   "source": [
    "# rescale model to original\n",
    "model_hbeta_line_profile = hbeta_line_fit(wavelengths[selection]) * continuum_model_fit(wavelengths[selection])\n",
    "# subtract from original\n",
    "vega_spectrum_minus_hbeta = vega_spectrum.copy()\n",
    "vega_spectrum_minus_hbeta[selection] -= model_hbeta_line_profile.value"
   ]
  },
  {
   "cell_type": "code",
   "execution_count": null,
   "metadata": {
    "hideCode": true,
    "slideshow": {
     "slide_type": "slide"
    }
   },
   "outputs": [],
   "source": [
    "pl.title(\"Vega spectrum - now with H$\\\\beta$ subtracted\")\n",
    "pl.ylabel(\"Source flux (counts)\")\n",
    "pl.xlabel(\"Wavelength [nm]\")\n",
    "pl.xlim(400,560)\n",
    "pl.plot(wavelengths, vega_spectrum, linestyle=':');\n",
    "pl.plot(wavelengths, vega_spectrum_minus_hbeta, linewidth=0.5);"
   ]
  },
  {
   "cell_type": "markdown",
   "metadata": {
    "slideshow": {
     "slide_type": "slide"
    }
   },
   "source": [
    "We can quickly repeat the process for H$\\gamma$ and H$\\delta$"
   ]
  },
  {
   "cell_type": "code",
   "execution_count": null,
   "metadata": {
    "hideCode": true,
    "slideshow": {
     "slide_type": "slide"
    }
   },
   "outputs": [],
   "source": [
    "pl.title(r\"Vega spectrum, zoomed in on H$\\delta$\")\n",
    "pl.ylabel(\"Source flux (counts)\")\n",
    "pl.xlabel(\"Wavelength [nm]\")\n",
    "pl.xlim(422, 443)\n",
    "pl.ylim(1500, 4500)\n",
    "pl.plot(wavelengths, vega_spectrum);"
   ]
  },
  {
   "cell_type": "code",
   "execution_count": null,
   "metadata": {
    "slideshow": {
     "slide_type": "skip"
    }
   },
   "outputs": [],
   "source": [
    "vega_spectrum_minus_lines = vega_spectrum_minus_hbeta.copy()"
   ]
  },
  {
   "cell_type": "code",
   "execution_count": null,
   "metadata": {
    "slideshow": {
     "slide_type": "slide"
    }
   },
   "outputs": [],
   "source": [
    "selection = (((wavelengths > 422*u.nm) & (wavelengths < 426*u.nm)) |\n",
    "             ((wavelengths > 437.5*u.nm) & (wavelengths < 442.5*u.nm)))\n",
    "linfitter = LinearLSQFitter()\n",
    "continuum_model_fit = linfitter(Linear1D(), wavelengths[selection], vega_spectrum[selection])\n",
    "continuum_model_fit"
   ]
  },
  {
   "cell_type": "code",
   "execution_count": null,
   "metadata": {
    "scrolled": true,
    "slideshow": {
     "slide_type": "-"
    }
   },
   "outputs": [],
   "source": [
    "absorption_only_profile = vega_spectrum / continuum_model_fit(wavelengths) - 1\n",
    "selection = ((wavelengths > 426*u.nm) & (wavelengths < 437.5*u.nm))\n",
    "guesses = [-0.5, 432, 3] # guessed\n",
    "lmfitter = LevMarLSQFitter()\n",
    "hdelta_line_fit = lmfitter(Gaussian1D(*guesses), wavelengths[selection], absorption_only_profile[selection])\n",
    "model_hdelta_line_profile = hdelta_line_fit(wavelengths[selection]) * continuum_model_fit(wavelengths[selection])\n",
    "vega_spectrum_minus_lines[selection] -= model_hdelta_line_profile.value\n",
    "hdelta_line_fit"
   ]
  },
  {
   "cell_type": "code",
   "execution_count": null,
   "metadata": {
    "hideCode": true,
    "slideshow": {
     "slide_type": "slide"
    }
   },
   "outputs": [],
   "source": [
    "pl.title(r\"Vega spectrum, zoomed in on H$\\gamma$\")\n",
    "pl.ylabel(\"Source flux (counts)\")\n",
    "pl.xlabel(\"Wavelength [nm]\")\n",
    "pl.xlim(400, 420)\n",
    "pl.ylim(500, 2500)\n",
    "pl.plot(wavelengths, vega_spectrum);"
   ]
  },
  {
   "cell_type": "code",
   "execution_count": null,
   "metadata": {
    "slideshow": {
     "slide_type": "slide"
    }
   },
   "outputs": [],
   "source": [
    "selection = (((wavelengths > 400*u.nm) & (wavelengths < 404.5*u.nm)) |\n",
    "             ((wavelengths > 414*u.nm) & (wavelengths < 420*u.nm)))\n",
    "linfitter = LinearLSQFitter()\n",
    "continuum_model_fit = linfitter(Linear1D(), wavelengths[selection], vega_spectrum[selection])\n",
    "continuum_model_fit"
   ]
  },
  {
   "cell_type": "code",
   "execution_count": null,
   "metadata": {
    "scrolled": true,
    "slideshow": {
     "slide_type": "-"
    }
   },
   "outputs": [],
   "source": [
    "absorption_only_profile = vega_spectrum / continuum_model_fit(wavelengths) - 1\n",
    "selection = ((wavelengths > 404.5*u.nm) & (wavelengths < 414*u.nm))\n",
    "guesses = [-0.5, 408, 3] # guessed\n",
    "lmfitter = LevMarLSQFitter()\n",
    "hgamma_line_fit = lmfitter(Gaussian1D(*guesses), wavelengths[selection], absorption_only_profile[selection])\n",
    "model_hgamma_line_profile = hgamma_line_fit(wavelengths[selection]) * continuum_model_fit(wavelengths[selection])\n",
    "vega_spectrum_minus_lines[selection] -= model_hgamma_line_profile.value\n",
    "hgamma_line_fit"
   ]
  },
  {
   "cell_type": "code",
   "execution_count": null,
   "metadata": {
    "hideCode": true,
    "slideshow": {
     "slide_type": "slide"
    }
   },
   "outputs": [],
   "source": [
    "pl.title(\"Vega spectrum - now with H$\\\\beta$, H$\\\\gamma$, and H$\\\\delta$ subtracted\")\n",
    "pl.ylabel(\"Source flux (counts)\")\n",
    "pl.xlabel(\"Wavelength [nm]\")\n",
    "pl.xlim(400,560)\n",
    "pl.plot(wavelengths, vega_spectrum, linestyle=':');\n",
    "pl.plot(wavelengths, vega_spectrum_minus_lines, linewidth=0.5);"
   ]
  },
  {
   "cell_type": "markdown",
   "metadata": {
    "slideshow": {
     "slide_type": "slide"
    }
   },
   "source": [
    "# Spectral flatfielding\n",
    "\n",
    "We can now use this as a spectral flatfield model for our other spectra.  So, for example, let's compare to Jupiter:"
   ]
  },
  {
   "cell_type": "code",
   "execution_count": null,
   "metadata": {
    "slideshow": {
     "slide_type": "-"
    }
   },
   "outputs": [],
   "source": [
    "# load the data that have already had a wavelength solution applied and saved as a World Coordinate System (WCS)\n",
    "jupiter_fh = fits.open('data/Oct5_JupiterMean.fits')\n",
    "jupiter_spectrum = jupiter_fh[0].data\n",
    "ww = WCS(jupiter_fh[0].header)\n",
    "wavelengths = ww.pixel_to_world(np.arange(jupiter_spectrum.size))"
   ]
  },
  {
   "cell_type": "code",
   "execution_count": null,
   "metadata": {
    "hideCode": true,
    "slideshow": {
     "slide_type": "slide"
    }
   },
   "outputs": [],
   "source": [
    "pl.title(\"Jupiter spectrum\")\n",
    "pl.ylabel(\"Source flux (counts)\")\n",
    "pl.xlabel(\"Wavelength [nm]\")\n",
    "pl.xlim(400,560)\n",
    "pl.plot(wavelengths, jupiter_spectrum);"
   ]
  },
  {
   "cell_type": "code",
   "execution_count": null,
   "metadata": {
    "hideCode": true,
    "slideshow": {
     "slide_type": "slide"
    }
   },
   "outputs": [],
   "source": [
    "pl.title(\"Jupiter spectrum divided by line-subtracted Vega spectrum\")\n",
    "pl.ylabel(\"Ratio (arbitrary units)\")\n",
    "pl.xlabel(\"Wavelength [nm]\")\n",
    "pl.xlim(400, 560)\n",
    "pl.ylim(0, 0.7)\n",
    "pl.plot(wavelengths, jupiter_spectrum / vega_spectrum_minus_lines);"
   ]
  },
  {
   "cell_type": "code",
   "execution_count": null,
   "metadata": {
    "hideCode": true,
    "slideshow": {
     "slide_type": "slide"
    }
   },
   "outputs": [],
   "source": [
    "pl.title(\"Jupiter spectrum divided by line-subtracted Vega spectrum\")\n",
    "pl.ylabel(\"Ratio (arbitrary units)\")\n",
    "pl.xlabel(\"Wavelength [nm]\")\n",
    "pl.xlim(400, 560)\n",
    "pl.ylim(0, 0.7)\n",
    "pl.plot(wavelengths, jupiter_spectrum / 9000, label='Before');\n",
    "pl.plot(wavelengths, jupiter_spectrum / vega_spectrum_minus_lines, label='After');\n",
    "pl.legend(loc='best');"
   ]
  },
  {
   "cell_type": "code",
   "execution_count": null,
   "metadata": {
    "hideCode": true,
    "slideshow": {
     "slide_type": "slide"
    }
   },
   "outputs": [],
   "source": [
    "pl.title(\"Normalized Jupiter spectrum divided by line-subtracted Vega spectrum\")\n",
    "pl.ylabel(\"Ratio (arbitrary units)\")\n",
    "pl.xlabel(\"Wavelength [nm]\")\n",
    "pl.xlim(430, 560)\n",
    "pl.ylim(0.8, 1.2)\n",
    "selection = wavelengths>430*u.nm\n",
    "jupiter_linmod = linfitter(Linear1D(), wavelengths[selection], jupiter_spectrum[selection])\n",
    "jupiter_div_vega_linmod = linfitter(Linear1D(), wavelengths[selection], (jupiter_spectrum / vega_spectrum_minus_lines)[selection])\n",
    "pl.plot(wavelengths, jupiter_spectrum / jupiter_linmod(wavelengths), label='Before', linewidth=1);\n",
    "pl.plot(wavelengths, jupiter_spectrum / vega_spectrum_minus_lines / jupiter_div_vega_linmod(wavelengths), label='After');\n",
    "pl.legend(loc='best');"
   ]
  },
  {
   "cell_type": "markdown",
   "metadata": {
    "slideshow": {
     "slide_type": "slide"
    }
   },
   "source": [
    "# Spectrally Flat-Fielded\n",
    "\n",
    "The flat-fielded spectrum gives a better representation of the true spectrum, since it's now no longer mixing in instrumental artifacts."
   ]
  },
  {
   "cell_type": "markdown",
   "metadata": {
    "slideshow": {
     "slide_type": "slide"
    }
   },
   "source": [
    "# Brief Calibration wrap-up\n",
    "\n",
    "These normalized spectra are _not_ flux-calibrated.\n",
    "\n",
    "Generally, obtaining flux-calibrated optical spectra is challenging and achievable only by very careful instrument construction and operation and/or space-based operation.  \n",
    "\n",
    "We call flux-calibrated spectra \"spectrophotometric\" observations, since we can measure _both_ the spectroscopic properties (wavelength, line width, and fractional absorption) and the photometric properties (number of photons)."
   ]
  },
  {
   "cell_type": "markdown",
   "metadata": {
    "slideshow": {
     "slide_type": "slide"
    }
   },
   "source": [
    "# What use are un-flux-calibrated spectra?\n",
    "\n",
    "Our measurements are still useful!\n",
    "\n",
    "We can measure the flux of the line _relative to_ the continuum.\n",
    "\n",
    "As long as we have some other way to measure the total continuum flux - say, with imaging photometry - we can re-calibrate the spectra to match.\n",
    "\n",
    "However, we often only care about the line strength relative to the continuum; in many circumstances, most or all of the physical information is contained in this relative measurement."
   ]
  },
  {
   "cell_type": "markdown",
   "metadata": {
    "slideshow": {
     "slide_type": "slide"
    }
   },
   "source": [
    "# Equivalent Width\n",
    "\n",
    "The *Equivalent Width* of a line is a way to summarize the measurement relative to the continuum.\n",
    "\n",
    "It is the width of an absorption line that bottoms out at zero with the same area as the observed line.\n",
    "\n",
    "In other words, it is the integral of the absorption line divided by the continuum."
   ]
  },
  {
   "cell_type": "code",
   "execution_count": null,
   "metadata": {
    "editable": true,
    "hideCode": true,
    "slideshow": {
     "slide_type": ""
    },
    "tags": []
   },
   "outputs": [],
   "source": [
    "pl.title(\"EQW Example: the line profiles have the same area\")\n",
    "pl.ylabel(\"Normalized Continuum plus Line model\")\n",
    "pl.xlabel(\"Wavelength [nm]\")\n",
    "pl.xlim(475, 495)\n",
    "pl.ylim(-0.1, 1.1)\n",
    "eqw_hbeta = - hbeta_line_fit.amplitude * (2*np.pi)**0.5 * hbeta_line_fit.stddev\n",
    "#pl.plot(wavelengths, vega_spectrum / continuum_model_fit(wavelengths), label='data');\n",
    "pl.plot(wavelengths, hbeta_line_fit(wavelengths) + 1, linestyle=':', label='Fitted H$\\\\beta$ model')\n",
    "pl.plot(u.Quantity([450*u.nm, hbeta_line_fit.mean - eqw_hbeta/2, hbeta_line_fit.mean - eqw_hbeta/2,\n",
    "         hbeta_line_fit.mean + eqw_hbeta/2, hbeta_line_fit.mean + eqw_hbeta/2, 500*u.nm]),\n",
    "        [1, 1, 0, 0, 1, 1],\n",
    "        color='w', linewidth=0.5, label='EQW square spectrum')\n",
    "pl.legend(loc='best');"
   ]
  }
 ],
 "metadata": {
  "celltoolbar": "Slideshow",
  "kernelspec": {
   "display_name": "Python 3 (ipykernel)",
   "language": "python",
   "name": "python3"
  },
  "language_info": {
   "codemirror_mode": {
    "name": "ipython",
    "version": 3
   },
   "file_extension": ".py",
   "mimetype": "text/x-python",
   "name": "python",
   "nbconvert_exporter": "python",
   "pygments_lexer": "ipython3",
   "version": "3.10.12"
  },
  "rise": {
   "transition": "none"
  }
 },
 "nbformat": 4,
 "nbformat_minor": 4
}
