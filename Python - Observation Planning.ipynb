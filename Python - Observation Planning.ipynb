{
 "cells": [
  {
   "cell_type": "markdown",
   "metadata": {},
   "source": [
    "# Observation Planning for Radio Observations\n",
    "\n",
    "This worksheet will introduce you to some concepts you'll need to plan out your observations with the radio telescope."
   ]
  },
  {
   "cell_type": "markdown",
   "metadata": {},
   "source": [
    "First, we are going to select our observatory.  We will use astroplan plus astropy coordinates.\n",
    "\n",
    "Import them and confirm they're installed:"
   ]
  },
  {
   "cell_type": "code",
   "execution_count": null,
   "metadata": {},
   "outputs": [],
   "source": [
    "%pip install astroplan"
   ]
  },
  {
   "cell_type": "code",
   "execution_count": null,
   "metadata": {},
   "outputs": [],
   "source": [
    "from astropy import units as u\n",
    "from astropy import coordinates\n",
    "from astroplan import Observer"
   ]
  },
  {
   "cell_type": "markdown",
   "metadata": {},
   "source": [
    "Next, we set up the observer.\n",
    "\n",
    "We are going to pick the observer based on the known latitude and longitude of our observatory in Gainesville in [geodetic](https://en.wikipedia.org/wiki/Geographic_coordinate_system) coordinates, meaning we're specifying the location with two angles and one elevation (height above ellipsoid).\n",
    "\n",
    "This will convert into some coordinate system used internally by astropy."
   ]
  },
  {
   "cell_type": "code",
   "execution_count": null,
   "metadata": {},
   "outputs": [],
   "source": [
    "gainesville_location = coordinates.EarthLocation.from_geodetic(lon=-82.3*u.deg, lat=29.6*u.deg, height=100*u.m)\n",
    "gainesville_location"
   ]
  },
  {
   "cell_type": "markdown",
   "metadata": {},
   "source": [
    "We then set up the \"observer\", which will be used as our reference when looking at the sky.  We specify a time zone so we can use local times."
   ]
  },
  {
   "cell_type": "code",
   "execution_count": null,
   "metadata": {},
   "outputs": [],
   "source": [
    "observer = Observer(gainesville_location, timezone='US/Eastern')\n",
    "observer"
   ]
  },
  {
   "cell_type": "markdown",
   "metadata": {},
   "source": [
    "## Where are we pointed?\n",
    "\n",
    "Now we can ask some questions: if we point at a specific altitude and azimuth, what's there now?  What's going to be there in 12 hours?\n",
    "\n",
    "We define \"now\", but it requires more packages,  ``pytz`` = \"python timezone\":"
   ]
  },
  {
   "cell_type": "code",
   "execution_count": null,
   "metadata": {},
   "outputs": [],
   "source": [
    "import pytz\n",
    "import datetime\n",
    "now = pytz.timezone('US/Eastern').localize(datetime.datetime.now())\n",
    "now"
   ]
  },
  {
   "cell_type": "code",
   "execution_count": null,
   "metadata": {},
   "outputs": [],
   "source": [
    "target = coordinates.AltAz(alt=90*u.deg, az=180*u.deg,\n",
    "                           location=observer.location,\n",
    "                           obstime=now).transform_to(coordinates.Galactic)\n",
    "target"
   ]
  },
  {
   "cell_type": "markdown",
   "metadata": {},
   "source": [
    "The \"target\" variable is now a Galactic coordinate that tells us where we're pointing in the galaxy *right now*.\n",
    "\n",
    "If we want to know the RA/Dec, we can convert it:"
   ]
  },
  {
   "cell_type": "code",
   "execution_count": null,
   "metadata": {},
   "outputs": [],
   "source": [
    "target.transform_to(coordinates.FK5)"
   ]
  },
  {
   "cell_type": "markdown",
   "metadata": {},
   "source": [
    "What if we want to predict a future observation?\n",
    "\n",
    "(specify time formats using https://docs.python.org/3/library/datetime.html)"
   ]
  },
  {
   "cell_type": "code",
   "execution_count": null,
   "metadata": {},
   "outputs": [],
   "source": [
    "time = datetime.datetime.strptime('January 1, 2021 4:30:00 AM', \"%B %d, %Y %I:%M:%S %p\",)\n",
    "time"
   ]
  },
  {
   "cell_type": "code",
   "execution_count": null,
   "metadata": {},
   "outputs": [],
   "source": [
    "target = coordinates.AltAz(alt=90*u.deg, az=180*u.deg,\n",
    "                           location=observer.location,\n",
    "                           obstime=time).transform_to(coordinates.Galactic)\n",
    "target"
   ]
  },
  {
   "cell_type": "markdown",
   "metadata": {},
   "source": [
    "You can also change your altitude and azimuth."
   ]
  },
  {
   "cell_type": "markdown",
   "metadata": {},
   "source": [
    "## Where is my target (where do I have to point)?\n",
    "\n",
    "This is the fundamental question all observatories have to answer: given a target at a specific RA, Dec, where do we point?  What altitude and azimuth do we point at?\n",
    "\n",
    "(the question is easier if you have an equatorial mount, but you still need to know what Right Ascension to point at)"
   ]
  },
  {
   "cell_type": "markdown",
   "metadata": {},
   "source": [
    "You might want to know: Where do I have to point to see the Galactic Plane at a few different lines of longitude?\n",
    "\n",
    "The Galactic Plane is simply the circle in Galactic coordinates where the latitude is zero degrees."
   ]
  },
  {
   "cell_type": "code",
   "execution_count": null,
   "metadata": {},
   "outputs": [],
   "source": [
    "target = coordinates.SkyCoord(45*u.deg, 0*u.deg, frame='galactic')"
   ]
  },
  {
   "cell_type": "code",
   "execution_count": null,
   "metadata": {},
   "outputs": [],
   "source": [
    "observer.altaz(time=time, target=target)"
   ]
  },
  {
   "cell_type": "markdown",
   "metadata": {},
   "source": [
    "Using the astroplan \"observer\", we can find the alt & az of our target at any time.  In the above example, the target has an altitude of -44 degrees: not observable!  \n",
    "\n",
    "When can we see it?  Let's try 12 hours later..."
   ]
  },
  {
   "cell_type": "code",
   "execution_count": null,
   "metadata": {},
   "outputs": [],
   "source": [
    "time = datetime.datetime.strptime('January 1, 2021 4:30:00 PM', \"%B %d, %Y %I:%M:%S %p\",)\n",
    "observer.altaz(time=time, target=target)"
   ]
  },
  {
   "cell_type": "markdown",
   "metadata": {},
   "source": [
    "So if you have the question, \"What will I see if I look at the sky right now?\", you can answer it - convert alt/az to ra/dec or Galactic coordinates.\n",
    "\n",
    "If you have the question, \"When can I see my target?\", you can answer it by converting target coordinates to alt/az at any given time.\n",
    "\n",
    "Generally, though, you want to know a *range* of times.  Plots help with that."
   ]
  },
  {
   "cell_type": "markdown",
   "metadata": {},
   "source": [
    "Let's say we want to plot the observability over the course of a day.  We can use astropy's time for this:"
   ]
  },
  {
   "cell_type": "code",
   "execution_count": null,
   "metadata": {},
   "outputs": [],
   "source": [
    "from astropy.time import Time, TimeDelta\n",
    "atime = Time(time)\n",
    "atimes = atime + TimeDelta(1*u.h) * np.arange(24)\n",
    "atimes"
   ]
  },
  {
   "cell_type": "markdown",
   "metadata": {},
   "source": [
    "We can then compute where our target will be (altitude, azimuth) vs time:"
   ]
  },
  {
   "cell_type": "code",
   "execution_count": null,
   "metadata": {},
   "outputs": [],
   "source": [
    "altaz = observer.altaz(atimes, target=target)\n",
    "altaz"
   ]
  },
  {
   "cell_type": "markdown",
   "metadata": {},
   "source": [
    "We can then plot it...."
   ]
  },
  {
   "cell_type": "code",
   "execution_count": null,
   "metadata": {},
   "outputs": [],
   "source": [
    "from astropy import visualization\n",
    "import pylab as pl\n",
    "visualization.quantity_support() # only need this once\n",
    "pl.style.use('dark_background')"
   ]
  },
  {
   "cell_type": "code",
   "execution_count": null,
   "metadata": {},
   "outputs": [],
   "source": [
    "pl.figure(figsize=(10,4))\n",
    "pl.subplot(1,2,1).plot_date(atimes.plot_date, altaz.alt)\n",
    "pl.xticks(rotation=45)\n",
    "pl.ylabel(\"Altitude (deg)\")\n",
    "pl.subplot(1,2,2).plot_date(atimes.plot_date, altaz.az)\n",
    "pl.xticks(rotation=45)\n",
    "pl.ylabel(\"Azimuth (deg)\")"
   ]
  },
  {
   "cell_type": "markdown",
   "metadata": {},
   "source": [
    "## EXERCISE:\n",
    "\n",
    "Repeat the above for three locations in the Galactic plane.  Try l=0, l=90, and l=135 degrees.  Can you observe all three locations in the same observing session?"
   ]
  },
  {
   "cell_type": "code",
   "execution_count": null,
   "metadata": {},
   "outputs": [],
   "source": []
  }
 ],
 "metadata": {
  "kernelspec": {
   "display_name": "Python 3",
   "language": "python",
   "name": "python3"
  },
  "language_info": {
   "codemirror_mode": {
    "name": "ipython",
    "version": 3
   },
   "file_extension": ".py",
   "mimetype": "text/x-python",
   "name": "python",
   "nbconvert_exporter": "python",
   "pygments_lexer": "ipython3",
   "version": "3.7.6"
  }
 },
 "nbformat": 4,
 "nbformat_minor": 4
}
