{
 "cells": [
  {
   "cell_type": "code",
   "execution_count": null,
   "metadata": {},
   "outputs": [],
   "source": [
    "from astropy import units as u\n",
    "from astropy import constants"
   ]
  },
  {
   "cell_type": "markdown",
   "metadata": {},
   "source": [
    "## Lecture notes / post-lecture exercises"
   ]
  },
  {
   "cell_type": "markdown",
   "metadata": {},
   "source": [
    "What part of the sun do we see in the radio?\n",
    "\n",
    "<answer>"
   ]
  },
  {
   "cell_type": "markdown",
   "metadata": {},
   "source": [
    "The Hydrogen line has a rest frequency of 1.42 GHz.  Calculate its wavelength."
   ]
  },
  {
   "cell_type": "code",
   "execution_count": null,
   "metadata": {},
   "outputs": [],
   "source": [
    "nu_rest_hi = 1420405751.7667*u.Hz\n",
    "<answer>"
   ]
  },
  {
   "cell_type": "markdown",
   "metadata": {},
   "source": [
    "What is the angular size of the moon?  (hint: what is the angular size of the sun?  What happens during an eclipse?)\n",
    "<answer>"
   ]
  },
  {
   "cell_type": "markdown",
   "metadata": {},
   "source": [
    "The Moon has a surface brightness of about 200 K on average.  With our 1.5m dish, what brightness temperature will we measure when we point at the moon?"
   ]
  },
  {
   "cell_type": "code",
   "execution_count": null,
   "metadata": {},
   "outputs": [],
   "source": [
    "<answer>"
   ]
  },
  {
   "cell_type": "markdown",
   "metadata": {},
   "source": [
    "What frequency shift is introduced by these three motions:\n",
    "\n",
    "* Our motion on the Earth's surface, spinning about the Earth's rotation axis, is 0.5 km s$^{-1}$\n",
    "* Our solar system's Galactic orbital velocity has been measured to be about 250 km s$^{-1}$\n",
    "* Andromeda is moving toward us at about 110 km s$^{-1}$\n",
    "\n",
    "Calculate them in Hz."
   ]
  },
  {
   "cell_type": "code",
   "execution_count": null,
   "metadata": {},
   "outputs": [],
   "source": [
    "<answer>"
   ]
  },
  {
   "cell_type": "markdown",
   "metadata": {},
   "source": [
    "What spectral resolution is needed to detect each of those motions?\n",
    "\n",
    "Calculate $R$."
   ]
  },
  {
   "cell_type": "code",
   "execution_count": null,
   "metadata": {},
   "outputs": [],
   "source": [
    "<answer>"
   ]
  },
  {
   "cell_type": "markdown",
   "metadata": {},
   "source": [
    "Assuming a *sample rate* of 2.5 MHz and a number of samples = 2048, which of these motions could we resolve?\n",
    "\n",
    "(What is the resolution?  What is the corresponding velocity resolution?  Is it bigger or smaller than the motion?  Which means we can detect the motion?)"
   ]
  },
  {
   "cell_type": "code",
   "execution_count": null,
   "metadata": {},
   "outputs": [],
   "source": [
    "<answer>"
   ]
  }
 ],
 "metadata": {
  "kernelspec": {
   "display_name": "Python 3",
   "language": "python",
   "name": "python3"
  },
  "language_info": {
   "codemirror_mode": {
    "name": "ipython",
    "version": 3
   },
   "file_extension": ".py",
   "mimetype": "text/x-python",
   "name": "python",
   "nbconvert_exporter": "python",
   "pygments_lexer": "ipython3",
   "version": "3.7.6"
  }
 },
 "nbformat": 4,
 "nbformat_minor": 4
}
