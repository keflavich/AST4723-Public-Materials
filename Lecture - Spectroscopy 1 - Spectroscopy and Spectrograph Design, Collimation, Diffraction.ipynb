{
 "cells": [
  {
   "cell_type": "code",
   "execution_count": 1,
   "metadata": {
    "hideCode": true,
    "slideshow": {
     "slide_type": "skip"
    }
   },
   "outputs": [],
   "source": [
    "%matplotlib inline\n",
    "import pylab as pl\n",
    "import numpy as np\n",
    "from astropy import units as u, constants, visualization\n",
    "visualization.quantity_support()\n",
    "pl.style.use('dark_background')"
   ]
  },
  {
   "cell_type": "markdown",
   "metadata": {
    "slideshow": {
     "slide_type": "slide"
    }
   },
   "source": [
    "# Lecture - Spectroscopy, Spectra, and Spectrographs\n",
    "\n",
    "References:\n",
    "\n",
    "http://slittlefair.staff.shef.ac.uk/teaching/phy217/lectures/instruments/L16/\n",
    "\n",
    "http://slittlefair.staff.shef.ac.uk/teaching/phy217/lectures/instruments/L17/index.html"
   ]
  },
  {
   "cell_type": "markdown",
   "metadata": {
    "slideshow": {
     "slide_type": "slide"
    }
   },
   "source": [
    "Goals:\n",
    "\n",
    " * Learn the basics of light dispersion\n",
    " * Learn about the key elements of a spectrograph:\n",
    "   * dispersion element (grating or prism)\n",
    "   * collimator\n",
    "   * slit\n",
    " * Learn the math underlying light dispersion"
   ]
  },
  {
   "cell_type": "markdown",
   "metadata": {
    "slideshow": {
     "slide_type": "slide"
    }
   },
   "source": [
    "# Why do we need spectroscopy?\n",
    "\n",
    "We'll revisit this topic many times, but briefly:\n",
    "\n",
    " * Spectra of plasmas tell us about their _composition_\n",
    " * Spectral line profiles tell us about gas pressure and temperature\n",
    " * Line ratios can be used to measure density and temperature of gas\n",
    " * Frequencies of spectral lines tell us about the doppler shift - velocity or redshift\n",
    " * Stars of different ages and temperatures have different spectra, so we can obtain ages and star formation histories"
   ]
  },
  {
   "cell_type": "markdown",
   "metadata": {
    "slideshow": {
     "slide_type": "slide"
    }
   },
   "source": [
    "Emission spectrum showing hydrogen, nitrogen, and sulfur with different profiles.\n",
    "<img src =\"images/sdss_fit_example.png\">"
   ]
  },
  {
   "cell_type": "markdown",
   "metadata": {
    "slideshow": {
     "slide_type": "slide"
    }
   },
   "source": [
    "Emission profile showing multiple velocity components\n",
    "<img src=\"images/multicomponent_spectrum.jpg\">"
   ]
  },
  {
   "cell_type": "markdown",
   "metadata": {
    "slideshow": {
     "slide_type": "slide"
    }
   },
   "source": [
    "Absorption spectrum showing atomic and molecular constituents of a stellar atmosphere (and Earth's atmosphere)\n",
    "<img src=\"images/vega_subplots_001.png\">"
   ]
  },
  {
   "cell_type": "markdown",
   "metadata": {
    "slideshow": {
     "slide_type": "slide"
    }
   },
   "source": [
    "# Spectroscopy\n",
    "\n",
    "Spectroscopy is the measurement of light intensity or brightness as a function of wavelength.\n",
    "\n",
    "The term 'spectroscopy' is usually reserved for $R=\\frac{\\lambda}{\\Delta\\lambda}>10$."
   ]
  },
  {
   "cell_type": "markdown",
   "metadata": {
    "slideshow": {
     "slide_type": "slide"
    }
   },
   "source": [
    "# Spectroscopy vs broadband imaging\n",
    "\n",
    "Our usual BVRI filters have $R \\sim 5$\n",
    "\n",
    "<a href=\"http://svo2.cab.inta-csic.es/theory/fps/index.php?mode=browse&gname=Generic&asttype=\"> <img src=\"images/ubvri_filters.png\"></a>"
   ]
  },
  {
   "cell_type": "markdown",
   "metadata": {
    "slideshow": {
     "slide_type": "slide"
    }
   },
   "source": [
    "# How can we increase spectral resolution?\n",
    "\n",
    "There are several ways to perform spectroscopy...\n",
    "\n",
    "1. Heterodyne measurement \n",
    "  * used in radio, $R\\sim10^6$ is easy\n",
    "2. Energy-sensitive detectors \n",
    "  * used in X-ray: each photon produces $>1$ electron, with $n(e^-)~\\propto~E(\\gamma)$\n",
    "3. Disperse (spread) the light such that wavelength $\\lambda$ corresponds to location on the detector\n",
    "  * used at all wavelengths"
   ]
  },
  {
   "cell_type": "markdown",
   "metadata": {
    "slideshow": {
     "slide_type": "slide"
    }
   },
   "source": [
    "# Light Dispersion\n",
    "\n",
    "There are several ways to disperse light:\n",
    "\n",
    "1. Prisms  <img src=\"https://upload.wikimedia.org/wikipedia/en/3/3b/Dark_Side_of_the_Moon.png\" style='width:100px; float:right;'>\n",
    "2. Transmission Gratings\n",
    "3. Reflection Gratings\n",
    "4. Grisms (Prisms integrated into transmission gratings)"
   ]
  },
  {
   "cell_type": "markdown",
   "metadata": {
    "slideshow": {
     "slide_type": "slide"
    }
   },
   "source": [
    "# Light Dispersion\n",
    "\n",
    "<img src=\"images/fluorescentbulbgrating.jpg\" style='max-height:600px'>\n",
    "<a href=\"https://www.reddit.com/r/mildlyinteresting/comments/2p4812/fluorescent_light_viewed_through_a_diffraction/\"> source </a>"
   ]
  },
  {
   "cell_type": "markdown",
   "metadata": {
    "slideshow": {
     "slide_type": "slide"
    }
   },
   "source": [
    "# Light Dispersion\n",
    "\n",
    "Dispersion is spreading light so that different colors land in different places.\n",
    "\n",
    "When you have a color-sensitive camera, with broad-band filters, you can see how the light is separated.\n",
    "\n",
    "In general, though, there is a problem: different colors of light still land on top of each other.  CCDs are generally insensitive to color (every photon produces an electron, and all electrons are identical).  We therefore can't tell the difference between green and red and blue if they overlap.\n",
    "\n",
    "<a href=\"https://www.reddit.com/r/mildlyinteresting/comments/2p4812/fluorescent_light_viewed_through_a_diffraction/\">\n",
    "    <div style=\"margin: auto; margin-left: auto;\n",
    "  margin-right: auto; width:60%; \">\n",
    "<img src=\"images/fluorescentbulbgrating.jpg\" style='max-height:300px; max-width:49%; display:inline-block;'>\n",
    "<img src=\"images/fluorescentbulbgrating_gray.jpg\" style='max-height:300px; max-width:49%; display:inline-block;'>\n",
    "    </div>\n",
    "</a>"
   ]
  },
  {
   "cell_type": "markdown",
   "metadata": {
    "slideshow": {
     "slide_type": "slide"
    }
   },
   "source": [
    "# Diffraction is used to spread the light\n",
    "<div>\n",
    "    <div style=\"display: inline-block;\">\n",
    "<img src=\"https://upload.wikimedia.org/wikipedia/commons/a/a9/Doubleslit.gif\" >\n",
    "    </div>\n",
    "    <div style=\"display: inline-block;\">        \n",
    "<img src=\"images/dispersed_light_littlefair.jpg\" >\n",
    "    </div>\n",
    "</div>\n",
    "    \n",
    "<div>\n",
    "    But once we spread the light out, we need to bring it into focus.\n",
    "</div>"
   ]
  },
  {
   "cell_type": "markdown",
   "metadata": {
    "slideshow": {
     "slide_type": "slide"
    }
   },
   "source": [
    "# Telescope Optics\n",
    "\n",
    "To understand how a spectrograph is used in practice, we need to revisit telescope optics.\n"
   ]
  },
  {
   "cell_type": "markdown",
   "metadata": {
    "slideshow": {
     "slide_type": "slide"
    }
   },
   "source": [
    "# Telescope Optics\n",
    "\n",
    "Recall definitions:\n",
    "\n",
    "`f/#` is the f-number or focal ratio, the ratio of the `focal length` to the `entrance pupil diameter`.\n",
    "\n",
    "For example, a lense with an 80cm focal length and 10cm aperture is referred to as an `f/8` lense."
   ]
  },
  {
   "cell_type": "markdown",
   "metadata": {
    "slideshow": {
     "slide_type": "slide"
    }
   },
   "source": [
    "# Simple telescope\n",
    "\n",
    "The simplest telescope consists of a single lens bringing light to a focus at the image plane.  You place a detector there and you're done.  This is a _prime focus_ telescope, and is rarely - but sometimes! (SUPRIMECAM) - used in professional observatories.\n",
    "\n",
    "<img src=\"images/PrimeFocus-520x200.jpg\">\n",
    "<a href=\"http://www.opticstar.com/Run/Astronomy/Astro-Editorial-Articles-General.asp?p=0_10_19_1_6_200_30\">\n",
    "source\n",
    "</a>\n",
    "\n"
   ]
  },
  {
   "cell_type": "markdown",
   "metadata": {
    "slideshow": {
     "slide_type": "slide"
    }
   },
   "source": [
    "# Simple telescope\n",
    "\n",
    "The simplest telescope consists of a single lens bringing light to a focus at the image plane.  You place a detector there and you're done.  \n",
    "\n",
    "This is a _prime focus_ telescope, and is rarely - but sometimes! (SUPRIMECAM) - used in professional observatories.\n",
    "\n",
    "<img src=\"images/Refractor-553x217.jpg\">\n",
    "<a href=\"http://www.opticstar.com/Run/Astronomy/Astro-Editorial-Articles-General.asp?p=0_10_19_1_6_200_30\">\n",
    "source\n",
    "</a>\n",
    "\n"
   ]
  },
  {
   "cell_type": "markdown",
   "metadata": {
    "slideshow": {
     "slide_type": "slide"
    }
   },
   "source": [
    "# Focal Length and plate scale\n",
    "\n",
    "The Plate Scale is the ratio of the _angular size of the target_ to the _physical size of the image_.\n",
    "<div style='display:inline-block;'>\n",
    "    <div style='display:inline-block;'> Big:<br>\n",
    "<img style='display:inline-block;' src=\"images/CCD_BigImage.svg\">\n",
    "    </div>\n",
    "    <div style='display:inline-block;'> Small:<br>\n",
    "        <img style='display:inline-block;' src=\"images/CCD_SmallImage.svg\"></div>\n",
    "</div>\n",
    "\n"
   ]
  },
  {
   "cell_type": "markdown",
   "metadata": {
    "slideshow": {
     "slide_type": "fragment"
    }
   },
   "source": [
    "$$p = \\frac{\\theta}{s} = \\frac{1}{f}$$\n",
    "\n",
    "The image size $s$ is simply $s = \\theta f$ in the small angle approximation ($f$ is focal length).\n",
    "\n",
    "In terms of $N \\equiv f/\\# = f / D$, the size is then $s = \\theta N D$."
   ]
  },
  {
   "cell_type": "markdown",
   "metadata": {
    "slideshow": {
     "slide_type": "slide"
    }
   },
   "source": [
    "# Focal Ratio Example\n",
    "\n",
    "We have an f/8 telescope with 10 cm diameter.  \n",
    "\n",
    "How big will a 2-arcsecond image (a star blurred by the atmosphere) appear?"
   ]
  },
  {
   "cell_type": "code",
   "execution_count": 2,
   "metadata": {
    "slideshow": {
     "slide_type": "slide"
    }
   },
   "outputs": [],
   "source": [
    "fnumber = 8\n",
    "diameter = 10*u.cm\n",
    "starsize = 2*u.arcsec"
   ]
  },
  {
   "cell_type": "code",
   "execution_count": 3,
   "metadata": {
    "slideshow": {
     "slide_type": "fragment"
    }
   },
   "outputs": [
    {
     "data": {
      "text/latex": [
       "$80 \\; \\mathrm{cm}$"
      ],
      "text/plain": [
       "<Quantity 80. cm>"
      ]
     },
     "execution_count": 3,
     "metadata": {},
     "output_type": "execute_result"
    }
   ],
   "source": [
    "focal_length = diameter * fnumber\n",
    "focal_length"
   ]
  },
  {
   "cell_type": "code",
   "execution_count": 4,
   "metadata": {
    "slideshow": {
     "slide_type": "slide"
    }
   },
   "outputs": [],
   "source": [
    "# in the small angle approximation, sin(starsize) = starsize in radians\n",
    "# but to convert units properly, we just don't bother with the approximation\n",
    "image_size = np.sin(starsize) * focal_length"
   ]
  },
  {
   "cell_type": "code",
   "execution_count": 5,
   "metadata": {},
   "outputs": [
    {
     "data": {
      "text/latex": [
       "$7.7570189 \\; \\mathrm{\\mu m}$"
      ],
      "text/plain": [
       "<Quantity 7.7570189 um>"
      ]
     },
     "execution_count": 5,
     "metadata": {},
     "output_type": "execute_result"
    }
   ],
   "source": [
    "image_size.to(u.um)"
   ]
  },
  {
   "cell_type": "markdown",
   "metadata": {
    "slideshow": {
     "slide_type": "slide"
    }
   },
   "source": [
    "# Detector reminder....\n",
    "\n",
    "Most CCDs have pixels 5-20 microns across.  \n",
    "\n",
    "To achieve Nyquist sampling, we need the image size (the size of a star) to be $\\geq2\\times$ the pixel size."
   ]
  },
  {
   "cell_type": "markdown",
   "metadata": {
    "slideshow": {
     "slide_type": "slide"
    }
   },
   "source": [
    "# How can we get a bigger image size $s$?\n",
    "\n",
    "$$ s = f \\theta = \\theta N D$$\n",
    "\n"
   ]
  },
  {
   "cell_type": "markdown",
   "metadata": {
    "slideshow": {
     "slide_type": "fragment"
    }
   },
   "source": [
    "\n",
    "1. Increase the telescope diameter\n",
    "\n",
    "2. Increase the F/# ($\\equiv N$)\n",
    "\n",
    "($\\theta$ can't change, it's the size of the object - for normal ground-based optical observations, it's always about 1 arcsecond, give or take)\n"
   ]
  },
  {
   "cell_type": "markdown",
   "metadata": {
    "slideshow": {
     "slide_type": "slide"
    }
   },
   "source": [
    "# Professional Telescopes - opposite problem\n",
    "\n",
    "For a professional telescope, with $D = 8$ m, the image is too big.\n",
    "\n",
    "We don't want to reduce the diameter, so we have to reduce the focal ratio (F/#).\n",
    "\n",
    "We do this with a *focal reducer* or a *reimager*."
   ]
  },
  {
   "cell_type": "code",
   "execution_count": 6,
   "metadata": {
    "slideshow": {
     "slide_type": "fragment"
    }
   },
   "outputs": [
    {
     "data": {
      "text/latex": [
       "$620.56151 \\; \\mathrm{\\mu m}$"
      ],
      "text/plain": [
       "<Quantity 620.56151181 um>"
      ]
     },
     "execution_count": 6,
     "metadata": {},
     "output_type": "execute_result"
    }
   ],
   "source": [
    "diameter = 8*u.m\n",
    "focal_length = diameter * fnumber\n",
    "image_size = np.sin(starsize) * focal_length\n",
    "image_size.to(u.um)"
   ]
  },
  {
   "cell_type": "markdown",
   "metadata": {
    "slideshow": {
     "slide_type": "slide"
    }
   },
   "source": [
    "# Focal Reducers\n",
    "\n",
    "A focal reducer can reduce the focal ratio and length.\n",
    "\n",
    "<a href=\"https://agenaastro.com/articles/guides/focusers/focal-reducers-guide.html\">\n",
    "    <img src=\"images/focal-reducers-guide_8.jpg\">\n",
    "    </a>\n",
    " \n",
    "$$f_{new} = f_{old} \\left( 1 - \\frac{d}{f_{reducer} }\\right)$$\n",
    "\n",
    "where $d$ is the distance from the first optic to the focal reducer."
   ]
  },
  {
   "cell_type": "markdown",
   "metadata": {
    "slideshow": {
     "slide_type": "slide"
    }
   },
   "source": [
    "# Light Dispersers - Best with parallel rays\n",
    "\n",
    "We want the light coming into our disperser (grating or prism) to be parallel.\n",
    "\n",
    "The requirement for parallel rays isn't strict - it is possible to design spectrographs that disperse converging beams (e.g., [Rowland circle gratings](https://en.wikipedia.org/wiki/Cosmic_Origins_Spectrograph)), but they're more complicated.\n",
    "\n",
    "To work with parallel rays, you can either use the incoming light before it hits the telescope, or you can use a _collimator_."
   ]
  },
  {
   "cell_type": "markdown",
   "metadata": {
    "slideshow": {
     "slide_type": "slide"
    }
   },
   "source": [
    "# Reimager - a tool for working with collimated light\n",
    "\n",
    "<img src=\"images/reimager.png\">"
   ]
  },
  {
   "cell_type": "markdown",
   "metadata": {
    "slideshow": {
     "slide_type": "slide"
    }
   },
   "source": [
    "# Reimager\n",
    "\n",
    "A reimager has effective focal length $f_{cam}$, so $$s = f_{cam} \\theta$$\n",
    "\n",
    "To have a bigger or smaller image size $s$, then, you need a longer or shorter camera focal length $f_{cam}$, respectively."
   ]
  },
  {
   "cell_type": "markdown",
   "metadata": {
    "slideshow": {
     "slide_type": "slide"
    }
   },
   "source": [
    "# Reimager vs. Focal Reducer\n",
    "\n",
    "A reimager allows you access to the *collimated beam* of the telescope. "
   ]
  },
  {
   "cell_type": "markdown",
   "metadata": {
    "slideshow": {
     "slide_type": "slide"
    }
   },
   "source": [
    "# Collimated Beam\n",
    "\n",
    "The *collimated beam* is the incoming light stream with all rays parallel.\n",
    "\n",
    "The rays coming in to the telescope aperture are also parallel.\n",
    "However, in a reimager, the parallel rays are compressed into a smaller area.  This is helpful if you want to put in any optics, such as filters, since you can make them smaller!"
   ]
  },
  {
   "cell_type": "markdown",
   "metadata": {
    "slideshow": {
     "slide_type": "slide"
    }
   },
   "source": [
    "# Slits and Dispersed Light\n",
    "\n",
    "A reimager also allows you to do things like block out part of the sky.\n",
    "\n",
    "To block out all the light except from the star, we place a _slit_ at the telescope focus instead of a detector, then we create an image of the slit using the reimager.\n",
    "\n",
    "<img src=\"images/reimager.png\" style='max-height:50%'>"
   ]
  },
  {
   "cell_type": "markdown",
   "metadata": {
    "slideshow": {
     "slide_type": "slide"
    }
   },
   "source": [
    "# Slits: avoiding light overlap\n",
    "<br>\n",
    "<div>\n",
    "    <div style=\"display: inline-block;\">\n",
    "    <a href=\"https://www.reddit.com/r/mildlyinteresting/comments/2p4812/fluorescent_light_viewed_through_a_diffraction/\">\n",
    "    <img src=\"images/fluorescentbulbgrating.jpg\" style='max-height:300px; float:left;'>\n",
    "    </a>\n",
    "    </div>\n",
    "    <div style=\"display: inline-block;\">\n",
    "        <img src=\"images/wfpc2-stis.jpg\" style=\"max-width:650px;\">\n",
    "    </div>\n",
    "</div>"
   ]
  },
  {
   "cell_type": "markdown",
   "metadata": {
    "slideshow": {
     "slide_type": "slide"
    }
   },
   "source": [
    "# Slits\n",
    "The slit blocks out unwanted light, preventing overlap between different colors of light."
   ]
  },
  {
   "cell_type": "markdown",
   "metadata": {
    "slideshow": {
     "slide_type": "slide"
    }
   },
   "source": [
    "<img src=\"images/wfpc2-stis.jpg\" style=\"float:right;\">"
   ]
  },
  {
   "cell_type": "markdown",
   "metadata": {
    "slideshow": {
     "slide_type": "slide"
    }
   },
   "source": [
    "<img src=\"images/wfpc2-stis-narrowslit.jpg\" style='float:right;'>"
   ]
  },
  {
   "cell_type": "markdown",
   "metadata": {
    "slideshow": {
     "slide_type": "slide"
    }
   },
   "source": [
    "# Dispersers\n",
    "\n",
    "The most commonly-used light disperser is a *diffraction grating*.  Prisms are also used, but we won't cover them further.\n",
    "\n",
    "Diffraction is the process of passing light through a gap."
   ]
  },
  {
   "cell_type": "markdown",
   "metadata": {
    "slideshow": {
     "slide_type": "slide"
    }
   },
   "source": [
    "# Diffraction\n",
    "\n",
    "<img src=\"https://upload.wikimedia.org/wikipedia/commons/a/a9/Doubleslit.gif\">"
   ]
  },
  {
   "cell_type": "markdown",
   "metadata": {
    "slideshow": {
     "slide_type": "slide"
    }
   },
   "source": [
    "# Diffraction Grating\n",
    "\n",
    "A diffraction grating produces interference patterns.  We take advantage of the constructive interference to produce a spectrum."
   ]
  },
  {
   "cell_type": "markdown",
   "metadata": {
    "slideshow": {
     "slide_type": "slide"
    }
   },
   "source": [
    "# Condition for constructive interference: $n \\lambda = d \\sin \\theta$\n",
    "<div>\n",
    "    <img src=\"images/grating_littlefair_whitebg.png\" style=\"display:inline-block; max-height:500px\">\n",
    "    <img src=\"images/dispersed_light_littlefair.jpg\" style=\"display:inline-block;\">\n",
    "</div>\n",
    "This is the *grating equation* and we will cover it in more detail."
   ]
  },
  {
   "cell_type": "markdown",
   "metadata": {
    "slideshow": {
     "slide_type": "slide"
    }
   },
   "source": [
    "<img src=\"images/dispersed_light_labeledorder.jpg\">\n",
    "\n",
    "The red line is a little bit longer than the green line: red constructive interference happens at a different place than blue and green."
   ]
  },
  {
   "cell_type": "markdown",
   "metadata": {
    "slideshow": {
     "slide_type": "slide"
    }
   },
   "source": [
    "## Incident Angle Matters\n",
    "The grating equation is modified for a nonzero incident angle, \n",
    "$$d \\left(\\sin \\theta_i + \\sin \\theta_o\\right) = n \\lambda$$\n",
    "\n",
    "<img src='images/incidentangle_littlefair.png' style='background-color:white; max-height:500px'>\n",
    "\n",
    "Nonzero incident angles will result in blurred spectra unless the input beam is collimated because different wavelengths will have different path delays"
   ]
  },
  {
   "cell_type": "markdown",
   "metadata": {
    "slideshow": {
     "slide_type": "slide"
    }
   },
   "source": [
    "# Spectrograph with reflection grating\n",
    "If a reflection grating is used, you generally need the incident angle $\\theta_i$ to be greater than zero, otherwise you get internal reflections.\n",
    "<img src=\"images/reflectiongrating_whitebg_littlefair.png\">"
   ]
  },
  {
   "cell_type": "markdown",
   "metadata": {
    "slideshow": {
     "slide_type": "slide"
    }
   },
   "source": [
    "<img src=\"images/pepito_topdown.jpg\">"
   ]
  },
  {
   "cell_type": "markdown",
   "metadata": {
    "slideshow": {
     "slide_type": "slide"
    }
   },
   "source": [
    "<img src=\"images/LHIRESIII_Internals.png\">"
   ]
  },
  {
   "cell_type": "markdown",
   "metadata": {
    "slideshow": {
     "slide_type": "slide"
    }
   },
   "source": [
    "# Features of Diffraction Gratings\n",
    "\n",
    "In the next few slides, we'll cover basic properties of the interference pattern produced by diffraction gratings.\n",
    "\n",
    "Diffraction gratings have many slits evenly spaced such that constructive and destructive interference occurs.  The key properties are therefore the spacing (or, in turn, the number) of slits and the widths of individual slits.\n",
    "\n",
    "We'll define the _orders_ of a grating diffraction pattern, which are the numbered locations of constructive interference."
   ]
  },
  {
   "cell_type": "markdown",
   "metadata": {
    "slideshow": {
     "slide_type": "slide"
    }
   },
   "source": [
    "# Diffraction Grating - number of slits\n",
    "\n",
    "A two-element interferometer produces a peak, but it's broad and therefore blurry.\n",
    "\n",
    "\n",
    "\n",
    "As you add more equally-spaced elements to the grating, the peaks get narrower, with less of the light getting smeared out."
   ]
  },
  {
   "cell_type": "markdown",
   "metadata": {
    "slideshow": {
     "slide_type": "slide"
    }
   },
   "source": [
    "## Adding more slits changes the pattern\n",
    "<div>\n",
    "<img style='display:inline-block;' src=\"https://upload.wikimedia.org/wikipedia/commons/a/a9/Doubleslit.gif\">\n",
    "<img style='display:inline-block; max-height:600px' src=\"images/grating_multislit_littlefair.png\">\n",
    "</div>"
   ]
  },
  {
   "cell_type": "markdown",
   "metadata": {
    "slideshow": {
     "slide_type": "slide"
    }
   },
   "source": [
    "<img src=\"images/spectrograph_response_twogap.png\">"
   ]
  },
  {
   "cell_type": "markdown",
   "metadata": {
    "slideshow": {
     "slide_type": "slide"
    }
   },
   "source": [
    "<img src=\"images/spectrograph_response_fourgap.png\">"
   ]
  },
  {
   "cell_type": "markdown",
   "metadata": {
    "slideshow": {
     "slide_type": "slide"
    }
   },
   "source": [
    "<img src=\"images/spectrograph_response_sixgap.png\">"
   ]
  },
  {
   "cell_type": "markdown",
   "metadata": {
    "slideshow": {
     "slide_type": "slide"
    }
   },
   "source": [
    "<img src=\"images/spectrograph_response_eightgap.png\">"
   ]
  },
  {
   "cell_type": "markdown",
   "metadata": {
    "slideshow": {
     "slide_type": "slide"
    }
   },
   "source": [
    "<img src=\"images/spectrograph_response.png\">"
   ]
  },
  {
   "cell_type": "markdown",
   "metadata": {
    "slideshow": {
     "slide_type": "slide"
    }
   },
   "source": [
    "# Diffraction Grating: Real gaps have finite width\n",
    "\n",
    "The Fourier Transform of an aperture is an Airy function, so we end up with an Airy function that pushes most of the power into the 0'th order.\n",
    "<br><br>\n",
    "\n",
    "<div style='display:inline-block; text-align:center'>  Infinitesimal slit<br>\n",
    "<img src=\"images/spectrograph_response.png\" style='max-height:600px; display:inline-block; max-width:400px;'>\n",
    "    </div>\n",
    "    <div style='display:inline-block; text-align:center'>  Finite slit <br>\n",
    "<img src=\"images/spectrograph_response_finite_slitwidth.png\" style='max-height:600px; display:inline-block;max-width:400px;'>\n",
    "    </div>"
   ]
  },
  {
   "cell_type": "markdown",
   "metadata": {
    "slideshow": {
     "slide_type": "slide"
    }
   },
   "source": [
    "\n",
    "<img src=\"images/spectrograph_response.png\" style='max-height:600px; display:inline-block; '>\n",
    "\n",
    "\n"
   ]
  },
  {
   "cell_type": "markdown",
   "metadata": {
    "slideshow": {
     "slide_type": "slide"
    }
   },
   "source": [
    "<img src=\"images/spectrograph_response_finite_slitwidth.png\" style='max-height:600px; display:inline-block;'>"
   ]
  },
  {
   "cell_type": "markdown",
   "metadata": {
    "slideshow": {
     "slide_type": "slide"
    }
   },
   "source": [
    "# Overlapping Orders\n",
    "\n",
    "The dispersion angle from orders $>0$ changes with wavelength.\n",
    "\n",
    "For a monochromatic spectrum, there's no problem with this, but a real spectrum is interesting because it is polychromatic!\n",
    "\n",
    "In such spectra, short wavelengths of high orders overlap with long wavelengths of low orders.\n",
    "\n",
    "This overlap provides one limitation on the _free spectral range_, which is the maximum wavelength range that can be observed with a given spectrograph.  Very roughly, the free spectral range can be estimated to be of order the central wavelength, $\\sim\\lambda$.\n",
    "\n"
   ]
  },
  {
   "cell_type": "markdown",
   "metadata": {
    "slideshow": {
     "slide_type": "slide"
    }
   },
   "source": [
    "<img src=\"images/spectrograph_response_wavelength_dependence.png\">"
   ]
  },
  {
   "cell_type": "markdown",
   "metadata": {
    "slideshow": {
     "slide_type": "slide"
    }
   },
   "source": [
    "Next lecture we will cover these topics more quantitatively."
   ]
  },
  {
   "cell_type": "markdown",
   "metadata": {
    "slideshow": {
     "slide_type": "slide"
    }
   },
   "source": [
    "# Summary:\n",
    "\n",
    "You have learned the following terms (not necessarily in this lecture):\n",
    " * constructive interference\n",
    " * diffraction grating\n",
    " * collimator\n",
    " * order\n",
    " * order overlap\n",
    " * free spectral range\n",
    " * dispersion"
   ]
  },
  {
   "cell_type": "markdown",
   "metadata": {
    "slideshow": {
     "slide_type": "slide"
    }
   },
   "source": [
    "\n",
    "fin"
   ]
  }
 ],
 "metadata": {
  "celltoolbar": "Slideshow",
  "kernelspec": {
   "display_name": "Python 3 (ipykernel)",
   "language": "python",
   "name": "python3"
  },
  "language_info": {
   "codemirror_mode": {
    "name": "ipython",
    "version": 3
   },
   "file_extension": ".py",
   "mimetype": "text/x-python",
   "name": "python",
   "nbconvert_exporter": "python",
   "pygments_lexer": "ipython3",
   "version": "3.12.3"
  },
  "rise": {
   "transition": "none"
  }
 },
 "nbformat": 4,
 "nbformat_minor": 4
}
