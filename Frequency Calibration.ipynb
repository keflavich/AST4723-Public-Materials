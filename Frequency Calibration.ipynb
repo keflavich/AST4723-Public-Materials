{
 "cells": [
  {
   "cell_type": "markdown",
   "metadata": {
    "slideshow": {
     "slide_type": "slide"
    }
   },
   "source": [
    "# Frequency Calibration\n",
    "\n",
    "This is a brief note about frequency calibration on the RTL-SDRs"
   ]
  },
  {
   "cell_type": "markdown",
   "metadata": {
    "slideshow": {
     "slide_type": "slide"
    }
   },
   "source": [
    "## The dongle\n",
    "\n",
    "Recall our signal path contains a \"Local Oscillator\" as one of the things feeding in to the \"Mixer\"\n",
    "\n",
    "<img src=\"https://www.rtl-sdr.com/wp-content/uploads/2018/03/rtl_sdr_behavioural_model.png\">"
   ]
  },
  {
   "cell_type": "markdown",
   "metadata": {
    "slideshow": {
     "slide_type": "slide"
    }
   },
   "source": [
    "# Local Oscillator\n",
    "\n",
    "How does the local oscillator work?\n",
    "\n",
    "There are at least two components:\n",
    "\n",
    "1. a \"crystal oscillator\" that produces a fixed-frequency tone at 28.8 MHz\n",
    "1. a \"phase-locked loop\" that lets you tune to a specific frequency"
   ]
  },
  {
   "cell_type": "markdown",
   "metadata": {
    "slideshow": {
     "slide_type": "slide"
    }
   },
   "source": [
    "## Crystal Oscillator\n",
    "\n",
    "The crystal oscillator produces a fixed-frequency signal, but that signal can drift a little with temperature.\n",
    "\n"
   ]
  },
  {
   "cell_type": "markdown",
   "metadata": {
    "slideshow": {
     "slide_type": "slide"
    }
   },
   "source": [
    "## Phase-Locked Loop\n",
    "\n",
    "The PLL (phase-locked loop) is a device used to synchronize a periodic waveform with a reference periodic waveform (i.e., keep the phase the same over time, assuming the two waves have the same frequency).\n",
    "\n",
    "<!--https://wirelesspi.com/phase-locked-loop-pll-in-a-software-defined-radio-sdr/-->\n",
    "LOTS of detail here: https://wirelesspi.com/phase-locked-loop-pll-in-a-software-defined-radio-sdr/ but we won't go into it now"
   ]
  },
  {
   "cell_type": "markdown",
   "metadata": {
    "slideshow": {
     "slide_type": "slide"
    }
   },
   "source": [
    "# LO (local oscillator): what do you need to know?\n",
    "\n",
    "The Crystal Oscillator + Phase-Locked Loop constitute our tunable LO.\n",
    "\n",
    "It is not perfectly accurate, it has a fractional drift of up to ~100 ppm (parts per million).\n",
    "\n",
    "If we want to observe 1420 MHz, that means there could be $\\frac{100}{1000000} 1,420,000,000 \\mathrm{~Hz} = 142,000 \\mathrm{~Hz}$ offset."
   ]
  },
  {
   "cell_type": "markdown",
   "metadata": {
    "slideshow": {
     "slide_type": "slide"
    }
   },
   "source": [
    "## Review: What's \"100 ppm\" in velocity?\n",
    "\n",
    "If we have an offset of 100 parts per million, what is that in velocity?"
   ]
  },
  {
   "cell_type": "code",
   "execution_count": 1,
   "metadata": {
    "slideshow": {
     "slide_type": "fragment"
    }
   },
   "outputs": [
    {
     "data": {
      "text/latex": [
       "$29.979246 \\; \\mathrm{\\frac{km}{s}}$"
      ],
      "text/plain": [
       "<Quantity 29.9792458 km / s>"
      ]
     },
     "execution_count": 1,
     "metadata": {},
     "output_type": "execute_result"
    }
   ],
   "source": [
    "from astropy import constants, units as u\n",
    "(100/1e6 * constants.c).to(u.km/u.s)"
   ]
  },
  {
   "cell_type": "markdown",
   "metadata": {
    "slideshow": {
     "slide_type": "fragment"
    }
   },
   "source": [
    "So that offset could be pretty big!"
   ]
  },
  {
   "cell_type": "markdown",
   "metadata": {
    "slideshow": {
     "slide_type": "slide"
    }
   },
   "source": [
    "## Calibrating the offset\n",
    "\n",
    "The offset is relatively steady with time - it probably doesn't change much once the SDR has reached its steady running temperature.  It also is pretty steady for each individual dongle.\n",
    "\n",
    "We can therefore correct for this offset by measuring it against a known frequency."
   ]
  },
  {
   "cell_type": "markdown",
   "metadata": {
    "slideshow": {
     "slide_type": "slide"
    }
   },
   "source": [
    "## Calibrating the offset\n",
    "\n",
    "What frequencies do we know clearly?\n",
    "\n",
    "We want something that is *narrow-band*: it needs to have a signal small enough that we can measure the offset to ~1 part per million.\n",
    "\n",
    "The NOAA (National Oceanic and Atmospheric Administration) broadcasts weather alerts on a set narrow-band frequency.  In Gainesville, that is at 162.475 MHz"
   ]
  },
  {
   "cell_type": "markdown",
   "metadata": {
    "slideshow": {
     "slide_type": "slide"
    }
   },
   "source": [
    "## SDR-SHARP aside here"
   ]
  },
  {
   "cell_type": "markdown",
   "metadata": {
    "slideshow": {
     "slide_type": "slide"
    }
   },
   "source": [
    "## Calibrating the offset\n",
    "\n",
    "The code [scan_calibrator_signals.py](https://github.com/keflavich/RTL_SDR_HI_Observations/blob/master/scan_calibrator_signals.py) records a signal at close to 162.475, then measures where, i.e. at what frequency, the signal is the brightest.\n",
    "\n",
    "It then does the conversion to ppm and reports the \"offset\" you need to apply to get to the correct signal."
   ]
  },
  {
   "cell_type": "code",
   "execution_count": null,
   "metadata": {
    "slideshow": {
     "slide_type": "slide"
    }
   },
   "outputs": [],
   "source": []
  }
 ],
 "metadata": {
  "celltoolbar": "Slideshow",
  "kernelspec": {
   "display_name": "Python 3 (ipykernel)",
   "language": "python",
   "name": "python3"
  },
  "language_info": {
   "codemirror_mode": {
    "name": "ipython",
    "version": 3
   },
   "file_extension": ".py",
   "mimetype": "text/x-python",
   "name": "python",
   "nbconvert_exporter": "python",
   "pygments_lexer": "ipython3",
   "version": "3.9.13"
  },
  "rise": {
   "transition": "none"
  }
 },
 "nbformat": 4,
 "nbformat_minor": 4
}
