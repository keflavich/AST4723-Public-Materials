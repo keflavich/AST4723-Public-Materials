{
 "cells": [
  {
   "cell_type": "code",
   "execution_count": 9,
   "metadata": {},
   "outputs": [],
   "source": [
    "%matplotlib inline\n",
    "import pylab as pl\n",
    "import numpy as np\n",
    "from astropy import units as u, constants, visualization\n",
    "from astropy.convolution import convolve\n",
    "visualization.quantity_support()\n",
    "pl.style.use('dark_background')\n",
    "from ipywidgets import interact, interactive, fixed, interact_manual, widgets"
   ]
  },
  {
   "cell_type": "code",
   "execution_count": 43,
   "metadata": {},
   "outputs": [],
   "source": [
    "def makeplot(wavelength = 500, # nm\n",
    "             separation = 4, # um\n",
    "             gapwidth = 0.5, # um\n",
    "             sz=4096, # controls resolution of output\n",
    "            ):\n",
    "    \n",
    "    wavelength = u.Quantity(wavelength, u.nm)\n",
    "    separation = u.Quantity(separation, u.um)\n",
    "    gapwidth = u.Quantity(gapwidth, u.um)\n",
    "    \n",
    "    \n",
    "    assert gapwidth < separation\n",
    "\n",
    "    # number of orders to show\n",
    "    norders = 16\n",
    "\n",
    "    \n",
    "    gapwidth_pix = gapwidth / separation * norders\n",
    "    kernel=[1] * int(gapwidth_pix)\n",
    "    if len(kernel) == 0:\n",
    "        kernel = [1]\n",
    "    elif len(kernel) % 2 == 0:\n",
    "        kernel[-1] = 0.5\n",
    "        kernel[0] =0.5\n",
    "        kernel.append(0)\n",
    "    \n",
    "    \n",
    "\n",
    "    separation_pixels = norders\n",
    "\n",
    "    angle_to_first_order = np.arcsin(wavelength / separation).to(u.deg)\n",
    "    \n",
    "    angle_to_first_peak = np.arcsin(wavelength/separation).to(u.deg)\n",
    "   \n",
    "    \n",
    "    ftax = np.fft.fftshift(np.fft.fftfreq(sz)*norders * angle_to_first_order)\n",
    "\n",
    "    twoslit = np.zeros(sz)\n",
    "    twoslit[:norders*2:norders] = 1\n",
    "    fourslit = twoslit.copy()\n",
    "    fourslit[:norders*4:norders] = 1\n",
    "    sixslit = fourslit.copy()\n",
    "    sixslit[:norders*6:norders] = 1\n",
    "    eightslit = sixslit.copy()\n",
    "    eightslit[:norders*8:norders] = 1\n",
    "    assert eightslit.sum() == 8\n",
    "    \n",
    "\n",
    "    fourslitsm = convolve(fourslit, kernel)\n",
    "    twoslitsm = convolve(twoslit, kernel)\n",
    "    sixslitsm = convolve(sixslit, kernel)\n",
    "    eightslitsm = convolve(eightslit, kernel)\n",
    "\n",
    "\n",
    "    twoslitft = np.abs(np.fft.fft(twoslitsm/twoslitsm.sum())**2)\n",
    "    fourslitft = np.abs(np.fft.fft(fourslitsm/fourslitsm.sum())**2)\n",
    "    sixslitft = np.abs(np.fft.fft(sixslitsm/sixslitsm.sum())**2)\n",
    "    eightslitft = np.abs(np.fft.fft(eightslitsm/eightslitsm.sum())**2)\n",
    "\n",
    "    #pl.plot(np.fft.fftshift(twoslitft))\n",
    "    pl.figure(figsize=(12,8))\n",
    "    pl.plot(ftax, np.fft.fftshift(twoslitft), '-.', label='2-gap')\n",
    "    pl.plot(ftax, np.fft.fftshift(fourslitft), ':', label='4-gap')\n",
    "    pl.plot(ftax, np.fft.fftshift(sixslitft), '--', label='6-gap')\n",
    "    pl.plot(ftax, np.fft.fftshift(eightslitft), label='8-gap')\n",
    "\n",
    "    pl.xlabel(\"Angular Separation (deg)\")\n",
    "    pl.text(1*u.deg, 0.95, \"0th\", fontsize=18)\n",
    "\n",
    "    pkval1 = twoslitft[np.argmin(np.abs(np.fft.fftshift(ftax) - angle_to_first_peak))]\n",
    "    pkval2 = twoslitft[np.argmin(np.abs(np.fft.fftshift(ftax) - angle_to_first_peak*2))]\n",
    "\n",
    "    pl.text(angle_to_first_peak + 1*u.deg, pkval1, \"1st\", fontsize=18)\n",
    "    pl.text(angle_to_first_peak*2 + 2*u.deg, pkval2, \"2nd\", fontsize=18)\n",
    "\n",
    "\n",
    "    pl.legend(loc='upper right', fontsize=18)"
   ]
  },
  {
   "cell_type": "code",
   "execution_count": 44,
   "metadata": {},
   "outputs": [
    {
     "data": {
      "application/vnd.jupyter.widget-view+json": {
       "model_id": "59df4b0134c94a56806bfe33ae7febce",
       "version_major": 2,
       "version_minor": 0
      },
      "text/plain": [
       "interactive(children=(IntSlider(value=500, description='wavelength', max=800, min=400, step=25), FloatSlider(v…"
      ]
     },
     "metadata": {},
     "output_type": "display_data"
    },
    {
     "data": {
      "text/plain": [
       "<function __main__.makeplot(wavelength=500, separation=4, gapwidth=0.5, sz=4096)>"
      ]
     },
     "execution_count": 44,
     "metadata": {},
     "output_type": "execute_result"
    }
   ],
   "source": [
    "interact(makeplot,\n",
    "         wavelength=widgets.IntSlider(min=400, max=800, step=25, value=500),\n",
    "         separation=widgets.FloatSlider(min=1, max=10, value=4, step=0.2),\n",
    "         gapwidth=widgets.FloatSlider(min=0.5, max=4, value=1),\n",
    "         sz=widgets.IntSlider(min=256, max=8192, step=128, value=4096)\n",
    ")"
   ]
  },
  {
   "cell_type": "code",
   "execution_count": null,
   "metadata": {},
   "outputs": [],
   "source": []
  }
 ],
 "metadata": {
  "kernelspec": {
   "display_name": "Python 3",
   "language": "python",
   "name": "python3"
  },
  "language_info": {
   "codemirror_mode": {
    "name": "ipython",
    "version": 3
   },
   "file_extension": ".py",
   "mimetype": "text/x-python",
   "name": "python",
   "nbconvert_exporter": "python",
   "pygments_lexer": "ipython3",
   "version": "3.7.6"
  }
 },
 "nbformat": 4,
 "nbformat_minor": 4
}
