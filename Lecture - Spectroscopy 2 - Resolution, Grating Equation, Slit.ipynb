{
 "cells": [
  {
   "cell_type": "code",
   "execution_count": 11,
   "metadata": {
    "hideCode": false,
    "slideshow": {
     "slide_type": "skip"
    }
   },
   "outputs": [],
   "source": [
    "%matplotlib inline\n",
    "import pylab as pl\n",
    "import numpy as np\n",
    "from astropy import units as u, constants, visualization\n",
    "visualization.quantity_support()\n",
    "pl.style.use('dark_background')\n",
    "pl.rcParams['figure.figsize'] = (10,8)\n",
    "pl.rcParams['font.size'] = 16"
   ]
  },
  {
   "cell_type": "markdown",
   "metadata": {
    "slideshow": {
     "slide_type": "slide"
    }
   },
   "source": [
    "# Lecture - Spectroscopy,  quantitatively\n",
    "\n",
    "In this lecture, we'll revisit several spectroscopy concepts.\n",
    "\n",
    "I refer to several sources:\n",
    "\n",
    "* C.R. Kitchin \"Astrophysical Techniques\" 7th Edition](http://dl.booktolearn.com/ebooks2/science/astronomy/9781138590168_Astrophysical_Techniques_7th_42fe.pdf)\n",
    "* Stuart Littlefair's Physics 217 lectures: [Lecture 16](http://slittlefair.staff.shef.ac.uk/teaching/phy217/lectures/instruments/L16/) [Lecture 17](http://slittlefair.staff.shef.ac.uk/teaching/phy217/lectures/instruments/L17/index.html)"
   ]
  },
  {
   "cell_type": "markdown",
   "metadata": {
    "slideshow": {
     "slide_type": "slide"
    }
   },
   "source": [
    "Goals:\n",
    "\n",
    " * Determine the spectral resolution of a spectrograph\n",
    " * Learn how resolution depends on different properties of the spectrograph and optical system"
   ]
  },
  {
   "cell_type": "markdown",
   "metadata": {
    "slideshow": {
     "slide_type": "slide"
    }
   },
   "source": [
    "## Resolution"
   ]
  },
  {
   "cell_type": "markdown",
   "metadata": {},
   "source": [
    "We have several equivalent definitions of spectral resolution that are all equivalent:"
   ]
  },
  {
   "cell_type": "markdown",
   "metadata": {},
   "source": [
    "$$ R = \\frac{\\nu}{\\Delta \\nu} $$\n",
    "\n",
    "$$ R = \\frac{\\lambda}{\\Delta\\lambda} $$\n",
    "\n",
    "$$ R = \\frac{c}{v} $$\n",
    "\n",
    "We'll now derive the resolution for a given grating."
   ]
  },
  {
   "cell_type": "markdown",
   "metadata": {
    "slideshow": {
     "slide_type": "slide"
    }
   },
   "source": [
    "## Grating Equation\n",
    "\n",
    "The Grating Equation, which determines where constructive interference occurs, is:\n",
    "\n",
    "$$ n \\lambda = D \\sin \\theta $$\n",
    "\n",
    "where\n",
    "\n",
    " * $n$ is the order number and must be an integer\n",
    " * $\\lambda$ is the wavelength\n",
    " * $D$ is the distance between holes (gaps) in the grating\n",
    " * $\\theta$ is the angle defined such that $\\theta=0$ is perpendicular to the grating (or parallel to the direction of the light) \n",
    " \n",
    "If $n$ is not an integer, there is instead destructive interference and we see an absence of light."
   ]
  },
  {
   "cell_type": "markdown",
   "metadata": {
    "slideshow": {
     "slide_type": "slide"
    }
   },
   "source": [
    "## Grating Equation: $ n \\lambda = d \\sin \\theta $\n",
    "\n",
    "<img src=\"images/grating_littlefair_whitebg.png\" style=\"float:left; max-height:500px\">\n",
    "<img src=\"images/grating_littlefair_whitebg_two.png\" style=\"float:right; max-height:500px\">\n",
    "\n"
   ]
  },
  {
   "cell_type": "markdown",
   "metadata": {
    "slideshow": {
     "slide_type": "slide"
    }
   },
   "source": [
    "## Grating Equation: $ n \\lambda = D \\sin \\theta $, $\\theta=0$\n",
    "\n",
    "What happens at $\\theta = 0^\\circ$?\n",
    "\n",
    "$n \\lambda = 0$, so $n=0$, since all wavelength are positive.\n",
    "\n",
    "This defines 0-order.  All wavelengths constructively interfere"
   ]
  },
  {
   "cell_type": "markdown",
   "metadata": {
    "slideshow": {
     "slide_type": "slide"
    }
   },
   "source": [
    "## Grating Equation: $ n \\lambda = D \\sin \\theta $, $\\theta=30$\n",
    "\n",
    "What happens at $\\theta =$ some other angle, say $\\theta= 30^\\circ$? \n",
    "\n",
    "($0^\\circ$ was special, 30$^\\circ$ is not)\n",
    "\n"
   ]
  },
  {
   "cell_type": "markdown",
   "metadata": {
    "slideshow": {
     "slide_type": "fragment"
    }
   },
   "source": [
    "$n \\lambda = D \\sin 30^\\circ$, so $n \\lambda=D / 2$"
   ]
  },
  {
   "cell_type": "markdown",
   "metadata": {
    "slideshow": {
     "slide_type": "slide"
    }
   },
   "source": [
    "## Grating Equation: $ n \\lambda = D \\sin \\theta $, $\\theta=30$\n",
    "\n",
    "\n",
    "Now this example depends on physical parameters.\n",
    "\n",
    "Let's say we have a gap separation of $D=0.1$ mm, and we observe at a wavelength $\\lambda = 500$ nm.  Then, in order for the \n",
    "grating equation to hold true, we need $n = D / 2 / \\lambda$, or $n=100$ (see next slide for the code doing the math)"
   ]
  },
  {
   "cell_type": "code",
   "execution_count": 12,
   "metadata": {
    "slideshow": {
     "slide_type": "skip"
    }
   },
   "outputs": [],
   "source": [
    "from astropy import units as u"
   ]
  },
  {
   "cell_type": "code",
   "execution_count": 13,
   "metadata": {
    "slideshow": {
     "slide_type": "slide"
    }
   },
   "outputs": [
    {
     "data": {
      "text/latex": [
       "$0.0001 \\; \\mathrm{\\frac{mm}{nm}}$"
      ],
      "text/plain": [
       "<Quantity 0.0001 mm / nm>"
      ]
     },
     "execution_count": 13,
     "metadata": {},
     "output_type": "execute_result"
    }
   ],
   "source": [
    "# note where there are parentheses\n",
    "order_number = (0.1*u.mm) / 2 / (500*u.nm)\n",
    "order_number"
   ]
  },
  {
   "cell_type": "code",
   "execution_count": 14,
   "metadata": {},
   "outputs": [
    {
     "data": {
      "text/latex": [
       "$100 \\; \\mathrm{}$"
      ],
      "text/plain": [
       "<Quantity 100.>"
      ]
     },
     "execution_count": 14,
     "metadata": {},
     "output_type": "execute_result"
    }
   ],
   "source": [
    "# in this case \"decompose\" divides mm by nm, which is 10^6, and converts to unitless\n",
    "order_number.decompose()"
   ]
  },
  {
   "cell_type": "markdown",
   "metadata": {
    "slideshow": {
     "slide_type": "slide"
    }
   },
   "source": [
    "What if we look at the same example, $d=0.1$ mm, $\\theta=30^\\circ$, but $\\lambda=510$ nm?"
   ]
  },
  {
   "cell_type": "code",
   "execution_count": 15,
   "metadata": {
    "slideshow": {
     "slide_type": "fragment"
    }
   },
   "outputs": [
    {
     "data": {
      "text/latex": [
       "$98.039216 \\; \\mathrm{}$"
      ],
      "text/plain": [
       "<Quantity 98.03921569>"
      ]
     },
     "execution_count": 15,
     "metadata": {},
     "output_type": "execute_result"
    }
   ],
   "source": [
    "order_number = (0.1*u.mm) / 2 / (510*u.nm)\n",
    "order_number.decompose()"
   ]
  },
  {
   "cell_type": "markdown",
   "metadata": {
    "slideshow": {
     "slide_type": "-"
    }
   },
   "source": [
    "This number, 98.04, is not an integer, so there will not be constructive interference.  "
   ]
  },
  {
   "cell_type": "markdown",
   "metadata": {
    "slideshow": {
     "slide_type": "slide"
    }
   },
   "source": [
    "Gratings are rarely operated at high orders like this, but sometimes Echelle spectrographs will use such high orders.\n",
    "\n",
    "Usually we stick to $n=1,2,3$"
   ]
  },
  {
   "cell_type": "markdown",
   "metadata": {
    "slideshow": {
     "slide_type": "slide"
    }
   },
   "source": [
    "# Grating Equation: Dispersion\n",
    "\n",
    "How much is the light spread out?  We can determine this by taking the derivative of the grating equation:\n",
    "\n",
    "$$ n \\lambda = D \\sin \\theta $$"
   ]
  },
  {
   "cell_type": "markdown",
   "metadata": {
    "slideshow": {
     "slide_type": "fragment"
    }
   },
   "source": [
    "\n",
    "We take the derivative $\\frac{d}{d \\theta}$, treating $\\lambda$ as $\\lambda(\\theta)$:\n",
    "\n",
    "$$ n \\frac{d \\lambda}{d \\theta} = D \\frac{d \\sin \\theta}{d \\theta} = D \\cos \\theta$$\n",
    "\n"
   ]
  },
  {
   "cell_type": "markdown",
   "metadata": {
    "slideshow": {
     "slide_type": "fragment"
    }
   },
   "source": [
    "$$ \\frac{d \\lambda}{d \\theta} = \\frac{D \\cos \\theta}{n}$$\n",
    "\n",
    "or equivalently\n",
    "\n",
    "$$ \\frac{d  \\theta}{d\\lambda} = \\frac{n}{D \\cos \\theta}$$"
   ]
  },
  {
   "cell_type": "markdown",
   "metadata": {
    "slideshow": {
     "slide_type": "slide"
    }
   },
   "source": [
    "# Angular Dispersion $$ \\frac{d  \\theta}{d\\lambda} = \\frac{n}{D \\cos \\theta}$$\n",
    "\n",
    "<div>\n",
    "    <div style='float:left;'>\n",
    "This equation gives the change in angle expected as a function of wavelength - it tells you how far separated different wavelengths will be in angle.\n",
    "    </div>\n",
    "\n",
    "<img src=\"images/grating_littlefair_whitebg_two.png\" style=\"float:right; max-height:500px\">\n",
    "    </div>"
   ]
  },
  {
   "cell_type": "markdown",
   "metadata": {
    "slideshow": {
     "slide_type": "slide"
    }
   },
   "source": [
    "\n",
    "We would like to know, though, how far apart the wavelengths will be on our detector. \n",
    "\n",
    "In other words, for a detector position $x$, we want to know $\\frac{dx}{d\\lambda}$ or  $\\frac{\\Delta x}{\\Delta\\lambda}$ .\n",
    "\n"
   ]
  },
  {
   "cell_type": "markdown",
   "metadata": {
    "slideshow": {
     "slide_type": "slide"
    }
   },
   "source": [
    "Recall that the size of the image made by the camera is\n",
    "$$s_{ize~of~image} = x = f_{ocal~length} \\sin \\theta \\approx f_{cam} \\theta $$"
   ]
  },
  {
   "cell_type": "markdown",
   "metadata": {
    "slideshow": {
     "slide_type": "fragment"
    }
   },
   "source": [
    "Taking the derivative of this equation gives:\n",
    "\n",
    "$$ \\frac{dx}{d\\theta} = f_{cam} $$"
   ]
  },
  {
   "cell_type": "markdown",
   "metadata": {
    "slideshow": {
     "slide_type": "fragment"
    }
   },
   "source": [
    "We can expand $dx/d\\lambda$ to:\n",
    "$$\\frac{dx}{d\\lambda} = \\frac{dx}{d\\theta} \\frac{d \\theta}{d\\lambda}$$"
   ]
  },
  {
   "cell_type": "markdown",
   "metadata": {
    "slideshow": {
     "slide_type": "fragment"
    }
   },
   "source": [
    "Then, we use $ \\frac{d  \\theta}{d\\lambda} = \\frac{n}{D \\cos \\theta}$ to obtain:\n",
    "\n",
    "$$ \\frac{dx}{d\\lambda} = \\frac{dx}{d\\theta} \\frac{d \\theta}{d\\lambda} = \\frac{ f_{cam} n }{D \\cos \\theta}$$"
   ]
  },
  {
   "cell_type": "markdown",
   "metadata": {
    "slideshow": {
     "slide_type": "slide"
    }
   },
   "source": [
    "# Linear Dispersion of a Spectrograph\n",
    "$$ \\frac{dx}{d\\lambda} =  \\frac{ f_{cam} n }{D \\cos \\theta}$$\n",
    "\n",
    "For $\\theta \\sim 0^\\circ$, which is often where spectrographs are operated, $\\cos \\theta \\approx 1$.  In that case, we can simplify the above equation to:\n",
    "\n",
    "$$ \\frac{dx}{d\\lambda} = \\frac{\\Delta x}{\\Delta \\lambda} =  \\frac{ f_{cam} n }{D}$$"
   ]
  },
  {
   "cell_type": "markdown",
   "metadata": {
    "slideshow": {
     "slide_type": "slide"
    }
   },
   "source": [
    "The dispersion $ \\frac{dx}{d\\lambda} =  \\frac{ f_{cam} n }{D}$:\n",
    "\n",
    " * increases linearly with order number\n",
    " * increases linearly with camera focal length (longer focal length = greater dispersion)\n",
    " * decreases linearly with increasing gap (line) separation $D$"
   ]
  },
  {
   "cell_type": "markdown",
   "metadata": {
    "slideshow": {
     "slide_type": "slide"
    }
   },
   "source": [
    "# Spectrograph & Detector Size\n",
    "\n",
    "Typical CCDs have pixel size $\\Delta x_{pix} \\approx 10 \\mu$m, and are $\\sim1000$ pixels across for a detector size $\\Delta x_{detector} = 10,000 \\mu\\mathrm{m} = 1$ cm.\n",
    "\n",
    "\n",
    "(they're commonly a few centimeters across, but I'm using round numbers for our example)"
   ]
  },
  {
   "cell_type": "markdown",
   "metadata": {
    "slideshow": {
     "slide_type": "slide"
    }
   },
   "source": [
    "Say we have a spectrograph with $f_{cam} = 10$ cm, grating line separation $D=0.1$ mm (10 grooves per mm), and order 1 ($n=1$).  \n",
    "\n",
    "What is the wavelength separation between 10 $\\mu$m pixels?  \n",
    "\n",
    "We use the dispersion equation  $ \\frac{\\Delta x}{\\Delta \\lambda} =  \\frac{ f_{cam} n }{D}$"
   ]
  },
  {
   "cell_type": "markdown",
   "metadata": {
    "slideshow": {
     "slide_type": "fragment"
    }
   },
   "source": [
    "$$\\Delta \\lambda = \\frac{\\Delta x_{pix} D}{f_{cam} n} = \\frac{(10 \\mu\\mathrm{m})(0.1 \\mathrm{mm})}{(10 \\mathrm{cm}) (1)}$$"
   ]
  },
  {
   "cell_type": "code",
   "execution_count": 16,
   "metadata": {
    "slideshow": {
     "slide_type": "fragment"
    }
   },
   "outputs": [
    {
     "data": {
      "text/latex": [
       "$10 \\; \\mathrm{nm}$"
      ],
      "text/plain": [
       "<Quantity 10. nm>"
      ]
     },
     "execution_count": 16,
     "metadata": {},
     "output_type": "execute_result"
    }
   ],
   "source": [
    "(((10*u.um) * (0.1*u.mm)) / (10*u.cm)).to(u.nm)"
   ]
  },
  {
   "cell_type": "markdown",
   "metadata": {
    "slideshow": {
     "slide_type": "slide"
    }
   },
   "source": [
    "If each pixel is 10 nm, and we have 1000 pixels, the total spectral coverage is 10,000 nm.\n",
    "\n",
    "If we use this spectrograph to observe at 10,000 nm (10 microns), we can use the full detector.  However, if we observe at a shorter wavelength, say 500 nm, there will be substantial *order overlap*.  That means light of different wavelengths from different orders will land in the same location on the detector.\n",
    "\n",
    "(from 250 to 750 nm spans 500 nm, and if each pixel is 10 nm of wavelength, this is only 50 pixels - our entire optical spectrum is using only ~5% of the detector)\n",
    "\n",
    "A longer focal length or closer gap spacing would be better."
   ]
  },
  {
   "cell_type": "markdown",
   "metadata": {
    "slideshow": {
     "slide_type": "slide"
    }
   },
   "source": [
    "# From dispersion to resolution: Spectral Intensity Distribution\n",
    "\n",
    "To determine the resolution of our grating, we must consider the finite size of the 'gaps', or 'lines' in the spectrograph.  \n",
    "\n",
    "These are effectively tiny apertures, like the aperture of a telescope.  They affect the intensity distribution of the grating.\n",
    "\n",
    "If our effective \"PSF\" (we often call this a 'line spread function') is broader, our resolution will be lower."
   ]
  },
  {
   "cell_type": "markdown",
   "metadata": {
    "slideshow": {
     "slide_type": "slide"
    }
   },
   "source": [
    "Any aperture (any hole) creates a diffraction pattern.  For a 1-dimensional gap, the resulting diffraction pattern is the square of a sinc, i.e., \n",
    "$$\\mathrm{sinc}^2(x) = \\left(\\frac{\\sin x}{x}\\right)^2$$\n",
    "\n",
    "The Airy disk comes from calculating the sinc function in 2 dimensions for a circular aperture, so this is the same phenomenon that defines a telescope's resolution."
   ]
  },
  {
   "cell_type": "code",
   "execution_count": 17,
   "metadata": {
    "slideshow": {
     "slide_type": "slide"
    }
   },
   "outputs": [
    {
     "data": {
      "image/png": "[encoded data removed]",
      "text/plain": [
       "<Figure size 720x576 with 1 Axes>"
      ]
     },
     "metadata": {},
     "output_type": "display_data"
    }
   ],
   "source": [
    "theta = np.linspace(-2000*u.deg, 2000*u.deg, 1000)\n",
    "_=pl.plot(theta, 1/np.abs(theta), label=r'$1/\\theta$')\n",
    "_=pl.plot(theta, np.sin(theta)/theta, label=r'sinc($\\theta$)')\n",
    "_=pl.axis([-2000,2000,-0.005,0.019])\n",
    "_=pl.legend()"
   ]
  },
  {
   "cell_type": "code",
   "execution_count": 18,
   "metadata": {
    "slideshow": {
     "slide_type": "slide"
    }
   },
   "outputs": [
    {
     "data": {
      "image/png": "[encoded data removed]",
      "text/plain": [
       "<Figure size 720x576 with 1 Axes>"
      ]
     },
     "metadata": {},
     "output_type": "display_data"
    }
   ],
   "source": [
    "_=pl.plot(theta, 1/np.abs(theta)**2, label=r'$1/\\theta^2$')\n",
    "_=pl.plot(theta, (np.sin(theta)/theta)**2, label=r'sinc$^2$($\\theta$)')\n",
    "_=pl.axis([-750,750,-0.00005,0.00032])\n",
    "_=pl.legend()"
   ]
  },
  {
   "cell_type": "markdown",
   "metadata": {
    "slideshow": {
     "slide_type": "slide"
    }
   },
   "source": [
    "# Spectral Intensity Distribution"
   ]
  },
  {
   "cell_type": "markdown",
   "metadata": {
    "slideshow": {
     "slide_type": "-"
    }
   },
   "source": [
    "The intensity distribution produced by a grating spectrograph consists of the convolution between the gap width's sinc$^2$ function and the grating intensity function.\n",
    "\n",
    "We can use it to predict where the light will appear and therefore determine what the resolution of our instrument will be."
   ]
  },
  {
   "cell_type": "markdown",
   "metadata": {
    "slideshow": {
     "slide_type": "slide"
    }
   },
   "source": [
    "\n",
    "We define variables:\n",
    "\n",
    "* $a$ is the width of a gap (line) in the grating\n",
    "* $D$ is the separation between gaps (lines)\n",
    "* $\\alpha =  (\\pi a / \\lambda)\\sin \\theta$\n",
    "* $\\beta = (\\pi D / \\lambda)\\sin \\theta$\n",
    "* $N$ is the number of lines on the grating\n"
   ]
  },
  {
   "cell_type": "markdown",
   "metadata": {
    "slideshow": {
     "slide_type": "-"
    }
   },
   "source": [
    "$$I = I_0 \\left(\\frac{\\sin \\alpha}{\\alpha} \\right)^2 \\left(\\frac{\\sin (N \\beta)}{\\sin \\beta}\\right)^2$$"
   ]
  },
  {
   "cell_type": "markdown",
   "metadata": {
    "slideshow": {
     "slide_type": "-"
    }
   },
   "source": [
    "The above can be derived by Fourier transforming the grating transmission pattern, but for now we will accept it as provided."
   ]
  },
  {
   "cell_type": "markdown",
   "metadata": {
    "slideshow": {
     "slide_type": "slide"
    }
   },
   "source": [
    "## Spectral Intensity Distribution Zeroes\n",
    "\n",
    "A definition of 'resolution' is when the valley from one interference peak aligns with the zenith of an adjacent peak.  In imaging, we refer to this as the Rayleigh criterion.\n",
    "\n"
   ]
  },
  {
   "cell_type": "markdown",
   "metadata": {
    "slideshow": {
     "slide_type": "fragment"
    }
   },
   "source": [
    "We therefore need the zeros of our intensity distribution:\n",
    "$$I = I_0 \\left(\\frac{\\sin \\alpha}{\\alpha} \\right)^2 \\left(\\frac{\\sin (N \\beta)}{\\sin \\beta}\\right)^2$$\n",
    "\n",
    "This pattern is usefully zero when $\\sin N \\beta = 0$  (remember the definition above: 𝛽=(𝜋𝐷/𝜆)sin𝜃). \n",
    "\n",
    "We're not interested in $\\alpha=0$ or $\\theta=0$; those both occur at 0 order and have no dispersion, so they have no resolution."
   ]
  },
  {
   "cell_type": "markdown",
   "metadata": {
    "slideshow": {
     "slide_type": "slide"
    }
   },
   "source": [
    "\n",
    "$\\sin (N \\beta) = 0$ when this equation holds:\n",
    "\n",
    "$$N \\beta = n' \\pi$$\n",
    "since $\\sin(n' \\pi) = 0$ for all integers $n'$.\n",
    "\n"
   ]
  },
  {
   "cell_type": "markdown",
   "metadata": {
    "slideshow": {
     "slide_type": "fragment"
    }
   },
   "source": [
    "\n",
    "Bringing in the definition of $\\beta$, 𝛽=(𝜋𝐷/𝜆)sin𝜃), we then have\n",
    "$$ \\frac{N \\pi D}{ \\lambda}  \\sin \\theta = n' \\pi$$"
   ]
  },
  {
   "cell_type": "markdown",
   "metadata": {
    "slideshow": {
     "slide_type": "fragment"
    }
   },
   "source": [
    "Therefore, we have:\n",
    "$$ \\sin \\theta_{zeroes} = \\frac{\\lambda n'}{N D}$$\n",
    "where $n'=0,1,2,3$ is the integer number of the zero of the function.  "
   ]
  },
  {
   "cell_type": "markdown",
   "metadata": {
    "slideshow": {
     "slide_type": "slide"
    }
   },
   "source": [
    "<img src=\"images/spectrograph_response_eightgap_zeros.png\">"
   ]
  },
  {
   "cell_type": "markdown",
   "metadata": {
    "slideshow": {
     "slide_type": "slide"
    }
   },
   "source": [
    "# Spectral Intensity Distribution to  Spectral Dispersion\n",
    "\n",
    "The dispersion is how much the light gets spread out in angle as a function of wavelength.\n",
    "\n",
    "We can get it by taking the derivative $\\frac{d}{d n'}$ of our function that gives us the zeros:\n",
    "$$ \\sin \\theta_{zeroes} = \\frac{\\lambda n'}{N D}$$\n"
   ]
  },
  {
   "cell_type": "markdown",
   "metadata": {
    "slideshow": {
     "slide_type": "slide"
    }
   },
   "source": [
    "We take the derivative of $$ \\sin \\theta_{zeroes} = \\frac{\\lambda n'}{N D}$$\n",
    "\n",
    "to obtain\n",
    "$$ \\cos \\theta \\frac{d \\theta}{d n'} = \\frac{\\lambda}{N D}$$\n",
    "\n",
    "We then need to replace $\\frac{d \\theta}{d n'}$."
   ]
  },
  {
   "cell_type": "markdown",
   "metadata": {
    "slideshow": {
     "slide_type": "slide"
    }
   },
   "source": [
    "The angular separation from one zero to the next is $$\\frac{\\Delta \\theta}{\\Delta n'}$$"
   ]
  },
  {
   "cell_type": "markdown",
   "metadata": {
    "slideshow": {
     "slide_type": "fragment"
    }
   },
   "source": [
    "We note that the quantized version can be written as a differential\n",
    "$$ \\frac{\\Delta \\theta}{\\Delta n'}= \\frac{d\\theta}{d n'}$$ and then observe that our quantized $\\Delta n' = 1$ (\"the next\" is 1 away) to obtain $$\\Delta \\theta = \\frac{d \\theta}{d n'}$$\n"
   ]
  },
  {
   "cell_type": "markdown",
   "metadata": {
    "slideshow": {
     "slide_type": "slide"
    }
   },
   "source": [
    "The derivative of the zeros equation,\n",
    "$$ \\cos \\theta \\frac{d \\theta}{d n'} = \\frac{\\lambda}{N D}$$\n",
    "rearranges, using $\\Delta \\theta = \\frac{d \\theta}{d n'}$, to\n",
    "$$ \\Delta \\theta = \\frac{\\lambda}{N D \\cos \\theta}$$"
   ]
  },
  {
   "cell_type": "markdown",
   "metadata": {
    "slideshow": {
     "slide_type": "slide"
    }
   },
   "source": [
    "## Angular Dispersion: The angle between one zero and the next $$ \\Delta \\theta = \\frac{\\lambda}{N D \\cos \\theta}$$\n",
    "Again, for $\\theta \\approx 0$, $\\cos \\theta \\approx 1$, so\n",
    "$$ \\Delta \\theta \\approx \\frac{\\lambda}{N D}$$\n",
    "\n",
    "Recall definitions:\n",
    "* $D$ is the separation between gaps (lines)\n",
    "* $N$ is the number of lines on the grating\n"
   ]
  },
  {
   "cell_type": "markdown",
   "metadata": {
    "slideshow": {
     "slide_type": "slide"
    }
   },
   "source": [
    "What we're most interested in, though, is the separation between different *wavelengths*.\n",
    "\n",
    "We showed [earlier](#Grating-Equation:-Dispersion) that \n",
    "$$ \\frac{d  \\theta}{d\\lambda} = \\frac{n}{D \\cos \\theta}$$\n",
    "and we can use\n",
    "$$ \\frac{\\Delta \\theta}{\\Delta \\lambda} = \\frac{d \\theta}{d \\lambda}$$\n",
    "\n",
    "and \n",
    "$$ \\Delta \\theta \\approx \\frac{\\lambda}{N D}$$\n"
   ]
  },
  {
   "cell_type": "markdown",
   "metadata": {
    "slideshow": {
     "slide_type": "fragment"
    }
   },
   "source": [
    "to obtain\n",
    "$$ \\Delta \\lambda = \\frac{\\Delta \\theta D \\cos \\theta }{n } = \\frac{\\lambda}{Nn}$$"
   ]
  },
  {
   "cell_type": "markdown",
   "metadata": {
    "slideshow": {
     "slide_type": "slide"
    }
   },
   "source": [
    "# Spectral Resolution of a Grating\n",
    "\n",
    "$$ \\Delta \\lambda = \\frac{\\lambda}{N n}$$\n",
    "\n",
    "$$ R = \\frac{\\lambda}{\\Delta \\lambda} = Nn$$\n",
    "\n",
    "* $\\Delta \\lambda$ is the wavelength difference we can resolve\n",
    "* $\\lambda$ is the wavelength we observe\n",
    "* $N$ is the number of lines on the grating\n",
    "* $n$ is the order number\n"
   ]
  },
  {
   "cell_type": "markdown",
   "metadata": {
    "slideshow": {
     "slide_type": "fragment"
    }
   },
   "source": [
    "The spectral resolution of a full spectrograph is more complicated than this, however.  The resolving power, or resolution, $R$ is the diffraction limit. In practice, we also need to consider the image size, which is set by the slit size."
   ]
  },
  {
   "cell_type": "markdown",
   "metadata": {
    "slideshow": {
     "slide_type": "slide"
    }
   },
   "source": [
    "# Image of the Slit\n",
    "<img src=\"images/reflectiongrating_whitebg_littlefair.png\">"
   ]
  },
  {
   "cell_type": "markdown",
   "metadata": {
    "slideshow": {
     "slide_type": "slide"
    }
   },
   "source": [
    "# Slit Size\n",
    "\n",
    "A reimager has effective focal length $f_{cam}$, so $s = f_{cam} \\sin \\theta$: this is the size of the slit image.\n",
    "\n",
    "If the slit image is bigger than the separation between two wavelengths, the wavelengths overlap and blur out.\n",
    "\n",
    "So we need to compare the size of the image of the slit to the separation between zeroes from the grating.  Whichever is larger is our limiting quantity."
   ]
  },
  {
   "cell_type": "markdown",
   "metadata": {
    "slideshow": {
     "slide_type": "slide"
    }
   },
   "source": [
    "# Resolution Limit\n",
    "\n",
    "We have the dispersion equation:\n",
    "$$ \\frac{\\Delta x_{wavelength}}{\\Delta \\lambda} =  \\frac{ f_{cam} n }{D}$$\n",
    "\n",
    "and the image size equation:\n",
    "$$ x_{image} = f_{camera} \\sin \\theta_{slit} $$"
   ]
  },
  {
   "cell_type": "markdown",
   "metadata": {
    "slideshow": {
     "slide_type": "slide"
    }
   },
   "source": [
    "If the image size $x_{image}$ is bigger than the wavelength separation $\\Delta x_{wavelength}$, the resolution is slit-limited.  Otherwise, the resolution is diffraction-limited.\n",
    "\n",
    "Taking our previous two equations, we set $\\Delta x_{wavelength} = x_{image}$ to get:\n",
    "\n",
    "$$\\frac{f_{cam} n \\Delta \\lambda}{D} = f_{cam} \\sin \\theta_{slit}$$\n",
    "\n",
    "The $f_{cam}$'s cancel out, so..."
   ]
  },
  {
   "cell_type": "markdown",
   "metadata": {
    "slideshow": {
     "slide_type": "fragment"
    }
   },
   "source": [
    "To be diffraction-limited, the spectrograph must have a slit angular size smaller than the angular dispersion of the grating such that, following the grating equation ($\\sin \\theta_{grating} = n \\lambda / D$), \n",
    "$$ \\sin \\theta_{slit} < \\frac{n \\Delta \\lambda}{D}$$"
   ]
  },
  {
   "cell_type": "markdown",
   "metadata": {
    "slideshow": {
     "slide_type": "slide"
    }
   },
   "source": [
    "## Resolution Limit: Our slit image must be smaller than $\\theta_{slit}$ for the spectrum to be diffraction-limited\n",
    "$$ \\sin \\theta_{slit} < \\frac{n \\Delta \\lambda}{D}$$"
   ]
  },
  {
   "cell_type": "markdown",
   "metadata": {
    "slideshow": {
     "slide_type": "slide"
    }
   },
   "source": [
    "Let's take an example:\n",
    "\n",
    "* First order: $n=1$ \n",
    "* Line separation: $D=3$ microns\n",
    "* Grating size: $x_{grating} = 30$ mm\n",
    "* Wavelength: $\\lambda=500$ nm\n",
    "* Number of lines: $N = x_{grating} / D = 10000$\n",
    "* From $\\frac{\\lambda}{\\Delta \\lambda} = Nn$, we have $\\Delta \\lambda = \\lambda / 10000 = 0.05 \\mathrm{nm} = 0.5 $ angstrom \n",
    "\n",
    "To match the diffraction limit, we need $\\sin \\theta_{slit} < \\frac{0.5 \\mathrm{A}}{3 \\mu\\mathrm{m}}  $  "
   ]
  },
  {
   "cell_type": "code",
   "execution_count": 19,
   "metadata": {
    "slideshow": {
     "slide_type": "fragment"
    }
   },
   "outputs": [
    {
     "data": {
      "text/latex": [
       "$3.4377468 \\; \\mathrm{{}^{\\prime\\prime}}$"
      ],
      "text/plain": [
       "<Quantity 3.43774677 arcsec>"
      ]
     },
     "execution_count": 19,
     "metadata": {},
     "output_type": "execute_result"
    }
   ],
   "source": [
    "np.arcsin(0.5*u.angstrom / (3*u.um)).to(u.arcsec)"
   ]
  },
  {
   "cell_type": "markdown",
   "metadata": {
    "slideshow": {
     "slide_type": "slide"
    }
   },
   "source": [
    "So as long as the slit width is narrower than ~3.5\", the spectrum will be limited by diffraction."
   ]
  },
  {
   "cell_type": "markdown",
   "metadata": {
    "slideshow": {
     "slide_type": "slide"
    }
   },
   "source": [
    "Let's take another example:\n",
    "\n",
    "* Second order: $n=2$ \n",
    "* Line separation: $D=6$ microns\n",
    "* Grating size: $x_{grating} = 60$ mm\n",
    "* Wavelength: $\\lambda=500$ nm\n",
    "* Number of lines: $N = x_{grating} / D = 10000$\n",
    "* From $\\frac{\\lambda}{\\Delta \\lambda} = Nn$, we have $\\Delta \\lambda = \\lambda / 20000 = 0.025 \\mathrm{nm} = 0.25 $ angstrom \n",
    "\n",
    "To match the diffraction limit, we need $\\sin \\theta_{slit} < \\frac{0.25 \\mathrm{A}}{6 \\mu\\mathrm{m}}  $ "
   ]
  },
  {
   "cell_type": "code",
   "execution_count": 20,
   "metadata": {
    "slideshow": {
     "slide_type": "fragment"
    }
   },
   "outputs": [
    {
     "data": {
      "text/latex": [
       "$0.85943669 \\; \\mathrm{{}^{\\prime\\prime}}$"
      ],
      "text/plain": [
       "<Quantity 0.85943669 arcsec>"
      ]
     },
     "execution_count": 20,
     "metadata": {},
     "output_type": "execute_result"
    }
   ],
   "source": [
    "np.arcsin(0.25*u.angstrom / (6*u.um)).to(u.arcsec)"
   ]
  },
  {
   "cell_type": "markdown",
   "metadata": {
    "slideshow": {
     "slide_type": "slide"
    }
   },
   "source": [
    "In this case, we need the slit to be 0.85\" or narrower to achieve the spectrograph's diffraction limit.\n",
    "\n",
    "This poses a problem: our *seeing limit* is about 2\".\n",
    "\n",
    "If we make a slit smaller than the seeing, we experience *slit loss*: we lose some of the light."
   ]
  },
  {
   "cell_type": "markdown",
   "metadata": {
    "slideshow": {
     "slide_type": "slide"
    }
   },
   "source": [
    "<img src=\"images/ringspectrum_littlefair.png\">"
   ]
  },
  {
   "cell_type": "markdown",
   "metadata": {
    "slideshow": {
     "slide_type": "slide"
    }
   },
   "source": [
    "<img src=\"images/wfpc2-stis.jpg\">"
   ]
  },
  {
   "cell_type": "markdown",
   "metadata": {
    "slideshow": {
     "slide_type": "slide"
    }
   },
   "source": [
    "<img src=\"images/wfpc2-stis-narrowslit.jpg\">"
   ]
  },
  {
   "cell_type": "markdown",
   "metadata": {
    "slideshow": {
     "slide_type": "slide"
    }
   },
   "source": [
    "Rule of thumb for spectrograph design:\n",
    "\n",
    "You want to have\n",
    "\n",
    "$$ \\sin \\theta_{slit} = \\frac{n \\Delta \\lambda}{D}$$\n",
    "\n",
    "If you assume $\\theta_{slit}$ is going to be about the seeing limit, set the parameters of the spectrograph so that the diffraction limit is about the same size."
   ]
  },
  {
   "cell_type": "markdown",
   "metadata": {
    "slideshow": {
     "slide_type": "slide"
    }
   },
   "source": [
    "# Check out the Grating Simulation Widget\n",
    "\n",
    "[Widget link](SpectrographDesignInteractiveWidget.ipynb)"
   ]
  },
  {
   "cell_type": "markdown",
   "metadata": {
    "slideshow": {
     "slide_type": "slide"
    }
   },
   "source": [
    "fin"
   ]
  }
 ],
 "metadata": {
  "celltoolbar": "Slideshow",
  "kernelspec": {
   "display_name": "Python 3 (ipykernel)",
   "language": "python",
   "name": "python3"
  },
  "language_info": {
   "codemirror_mode": {
    "name": "ipython",
    "version": 3
   },
   "file_extension": ".py",
   "mimetype": "text/x-python",
   "name": "python",
   "nbconvert_exporter": "python",
   "pygments_lexer": "ipython3",
   "version": "3.9.13"
  },
  "rise": {
   "transition": "none"
  }
 },
 "nbformat": 4,
 "nbformat_minor": 4
}
