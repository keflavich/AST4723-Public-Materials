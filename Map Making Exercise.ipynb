{
 "cells": [
  {
   "cell_type": "markdown",
   "metadata": {},
   "source": [
    "# Map Making\n",
    "\n",
    "In this exercise, you'll create an image from some data files provided to you.\n",
    "\n",
    "There are a few goals:\n",
    "\n",
    "1. Get familiar with data access and manipulation\n",
    "2. Get practice with map-making and gridding\n",
    "3. Work with a partner"
   ]
  },
  {
   "cell_type": "markdown",
   "metadata": {},
   "source": [
    "This is a group assignment."
   ]
  },
  {
   "cell_type": "markdown",
   "metadata": {},
   "source": [
    "# Step 1: get the data\n",
    "\n",
    "Just run the code below; this is code to download a \"tarball\" and extract the files."
   ]
  },
  {
   "cell_type": "code",
   "execution_count": null,
   "metadata": {},
   "outputs": [],
   "source": [
    "import requests, tarfile, io\n",
    "data = requests.get('http://bio.rc.ufl.edu/pub/adamginsburg/AST4723/mapmaking_data.tar.gz')\n",
    "tf = tarfile.open(fileobj=io.BytesIO(data.content))\n",
    "tf.extractall()\n",
    "tf.close()"
   ]
  },
  {
   "cell_type": "code",
   "execution_count": null,
   "metadata": {},
   "outputs": [],
   "source": [
    "ls data/mapmaking/"
   ]
  },
  {
   "cell_type": "markdown",
   "metadata": {},
   "source": [
    "# Step 2: examine the data"
   ]
  },
  {
   "cell_type": "markdown",
   "metadata": {},
   "source": [
    "These data files have a different structure than the observation files you've been working with.\n",
    "\n",
    "They're made up data to help you get accustomted to working with map making."
   ]
  },
  {
   "cell_type": "code",
   "execution_count": null,
   "metadata": {},
   "outputs": [],
   "source": [
    "# Load up one of the data files in the `data/mapmaking/` directory with astropy's Table reader\n",
    "tbl = <your code here>"
   ]
  },
  {
   "cell_type": "code",
   "execution_count": null,
   "metadata": {},
   "outputs": [],
   "source": [
    "# examine the table.  What's in it?  Does it have metadata?"
   ]
  },
  {
   "cell_type": "markdown",
   "metadata": {},
   "source": [
    "# Step 3: Make a blank map grid\n",
    "\n",
    "Just like in the lecture, make a map grid with longitude from -180 to +180 and latitude from -90 to 90"
   ]
  },
  {
   "cell_type": "code",
   "execution_count": null,
   "metadata": {},
   "outputs": [],
   "source": [
    "# make the longitude and latitude axes"
   ]
  },
  {
   "cell_type": "markdown",
   "metadata": {},
   "source": [
    "Then, make the blank grid and the blank number-of-observations (\"hits\") grid:"
   ]
  },
  {
   "cell_type": "code",
   "execution_count": null,
   "metadata": {},
   "outputs": [],
   "source": [
    "grid = \n",
    "hitgrid = "
   ]
  },
  {
   "cell_type": "markdown",
   "metadata": {},
   "source": [
    "# Step 4: Put the data onto the grid\n",
    "\n",
    "Each row of the Table constitutes one observation with a longitude, latitude, and data point.\n",
    "\n",
    "For each row, find the pixel coordinate where the data belong and add the data.  "
   ]
  },
  {
   "cell_type": "code",
   "execution_count": null,
   "metadata": {},
   "outputs": [],
   "source": []
  },
  {
   "cell_type": "markdown",
   "metadata": {},
   "source": [
    "# Step 5: Repeat for each of the other observations\n",
    "\n",
    "Use a bit of automation here: use `glob` to get the list of files, and repeat Step 4 for each of the files."
   ]
  },
  {
   "cell_type": "code",
   "execution_count": null,
   "metadata": {},
   "outputs": [],
   "source": []
  },
  {
   "cell_type": "markdown",
   "metadata": {},
   "source": [
    "# Step 6: Show the data\n",
    "\n",
    "Use `imshow` to show the data.  Make sure the axes are correct."
   ]
  },
  {
   "cell_type": "code",
   "execution_count": null,
   "metadata": {},
   "outputs": [],
   "source": []
  },
  {
   "cell_type": "markdown",
   "metadata": {},
   "source": [
    "What does the image tell you?"
   ]
  },
  {
   "cell_type": "markdown",
   "metadata": {},
   "source": [
    "# Step 7: Create an all-sky Elliptical Projection map\n",
    "\n",
    "Now let's overlay the observations on top of an all-sky image.\n",
    "\n",
    "This should follow the lecture very closely."
   ]
  },
  {
   "cell_type": "code",
   "execution_count": null,
   "metadata": {},
   "outputs": [],
   "source": []
  },
  {
   "cell_type": "markdown",
   "metadata": {},
   "source": [
    "# Step 8: Overlay your pointings on the all-sky map\n",
    "\n",
    "For each table, show where you pointed.\n",
    "\n",
    "Bonus: color by the data value!"
   ]
  },
  {
   "cell_type": "code",
   "execution_count": null,
   "metadata": {
    "scrolled": true
   },
   "outputs": [],
   "source": []
  },
  {
   "cell_type": "markdown",
   "metadata": {},
   "source": [
    "# Step 9: (optional) Try with different backgrounds\n",
    "\n",
    "You can use the background I gave in lecture or explore any of the available data sets here:\n",
    "https://lambda.gsfc.nasa.gov/product/foreground/fg_diffuse.cfm\n",
    "at the LAMBDA data center all-sky foreground data product repository.\n",
    "\n",
    "(note: not all of these work)"
   ]
  },
  {
   "cell_type": "code",
   "execution_count": null,
   "metadata": {},
   "outputs": [],
   "source": []
  }
 ],
 "metadata": {
  "kernelspec": {
   "display_name": "Python 3",
   "language": "python",
   "name": "python3"
  },
  "language_info": {
   "codemirror_mode": {
    "name": "ipython",
    "version": 3
   },
   "file_extension": ".py",
   "mimetype": "text/x-python",
   "name": "python",
   "nbconvert_exporter": "python",
   "pygments_lexer": "ipython3",
   "version": "3.7.6"
  }
 },
 "nbformat": 4,
 "nbformat_minor": 4
}
