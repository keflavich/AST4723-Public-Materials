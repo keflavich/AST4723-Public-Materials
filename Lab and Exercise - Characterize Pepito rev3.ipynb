{
 "cells": [
  {
   "cell_type": "markdown",
   "id": "6102fa95",
   "metadata": {},
   "source": [
    "<img src=\"images/pepito_topdown.jpg\">"
   ]
  },
  {
   "cell_type": "code",
   "execution_count": null,
   "id": "2d13e18d",
   "metadata": {},
   "outputs": [],
   "source": [
    "from astropy import units as u"
   ]
  },
  {
   "cell_type": "markdown",
   "id": "82c3d700",
   "metadata": {},
   "source": [
    "# Pepito Characterization Exercise & Lab\n",
    "\n",
    "The fiber output from Pepito has 7 spots that each have diameter 100$\\mu$m.  They are separated by less than that, maybe $\\sim10\\mu$m.\n",
    "\n",
    "The expected input is from an f/10 beam, so the first lens is an f/10 collimator.\n",
    "\n",
    "Parallel rays come and hit the diffraction grating, which has 830 lines/mm.  It is about 2cm long.\n",
    "\n",
    "The diffracted light is then focused onto the CCD with an f/10 camera.\n",
    "\n",
    "Assume the camera has focal length 10cm.  (These numbers are largely guesswork!)\n",
    "\n",
    "The SBIG has 9 micron pixels."
   ]
  },
  {
   "cell_type": "markdown",
   "id": "fac3fb47",
   "metadata": {},
   "source": [
    "# Fill in the blanks.\n",
    "\n",
    "Questions are asked using\n",
    "\n",
    "## bigger\n",
    "### fonts"
   ]
  },
  {
   "cell_type": "markdown",
   "id": "4bcf8d63",
   "metadata": {},
   "source": [
    "The angle of the bend in Pepito is _approximately_ 20 degrees.\n",
    "\n",
    "## Using a protractor or other device, what angle do you measure for the whole system?"
   ]
  },
  {
   "cell_type": "code",
   "execution_count": null,
   "id": "317cb6c1",
   "metadata": {},
   "outputs": [],
   "source": [
    "angle = "
   ]
  },
  {
   "cell_type": "markdown",
   "id": "0237a806",
   "metadata": {},
   "source": [
    "The angle of the grating is _supposedly_ 0 degrees with respect to the collimated beam - we'll assume that at the start of this exercise.   But, now's a good time to measure it.\n",
    "\n",
    "## Using the same tool, what is the angle of the grating with respect to the incoming light?\n",
    "\n",
    "(you won't use this until the [redesign](#Redesign-questions) section below"
   ]
  },
  {
   "cell_type": "code",
   "execution_count": null,
   "id": "03e0ba5c",
   "metadata": {},
   "outputs": [],
   "source": [
    "grating_angle = "
   ]
  },
  {
   "cell_type": "markdown",
   "id": "fa710bfd",
   "metadata": {},
   "source": [
    "The information above comes from lab notes and Amanda Townsend's thesis.  We will aim to verify these measurements."
   ]
  },
  {
   "cell_type": "code",
   "execution_count": null,
   "id": "6d9ce867",
   "metadata": {},
   "outputs": [],
   "source": [
    "grooves_per_mm = \n",
    "pixel_size = \n",
    "f_cam = "
   ]
  },
  {
   "cell_type": "markdown",
   "id": "1bc0ec47",
   "metadata": {},
   "source": [
    "### At what angle is the first order for $\\lambda=4000,5000,6000 \\dot{A}$?\n",
    "\n",
    "Recall the grating equation:\n",
    "\n",
    "$$ n \\lambda = D \\sin \\theta $$\n",
    "\n",
    "where\n",
    "\n",
    " * $n$ is the order number and must be an integer\n",
    " * $\\lambda$ is the wavelength\n",
    " * $D$ is the distance between holes (gaps) in the grating\n",
    " * $\\theta$ is the angle defined such that $\\theta=0$ is perpendicular to the grating (or parallel to the direction of the light) \n",
    " "
   ]
  },
  {
   "cell_type": "code",
   "execution_count": null,
   "id": "bd2f1013",
   "metadata": {},
   "outputs": [],
   "source": [
    "order_number = \n",
    "wavelength = [4000,5000,6000]*u.AA\n",
    "<student entry here>"
   ]
  },
  {
   "cell_type": "markdown",
   "id": "e540626d",
   "metadata": {},
   "source": [
    "### What wavelength is centered assuming the angle is 20 deg?"
   ]
  },
  {
   "cell_type": "code",
   "execution_count": null,
   "id": "3fa18ecd",
   "metadata": {},
   "outputs": [],
   "source": [
    "<student entry here>"
   ]
  },
  {
   "cell_type": "markdown",
   "id": "a50558cf",
   "metadata": {},
   "source": [
    "### What is the diffraction limited resolution from the grating?\n",
    "\n",
    "Recall $$ \\Delta \\lambda = \\frac{\\lambda}{N n}$$\n",
    "\n",
    "Assuming our slit has 1cm of illuminated area, what is the resolution in terms of both wavelength and $R$?\n",
    "\n",
    "Assume 5000 Angstroms as our central wavelength"
   ]
  },
  {
   "cell_type": "code",
   "execution_count": null,
   "id": "7f7fc245",
   "metadata": {},
   "outputs": [],
   "source": [
    "illumination_size_on_grating = 1*u.cm"
   ]
  },
  {
   "cell_type": "code",
   "execution_count": null,
   "id": "0174c46a",
   "metadata": {},
   "outputs": [],
   "source": [
    "dlambda_diffraction = (<student answer here>).to(u.AA)\n",
    "dlambda_diffraction"
   ]
  },
  {
   "cell_type": "markdown",
   "id": "6e721e0d",
   "metadata": {},
   "source": [
    "If this is smaller than our pixel size, we under-sample the diffraction limit.\n",
    "\n",
    "In that case, the pixel size sets our resolution limit, not the grating diffraction limit."
   ]
  },
  {
   "cell_type": "code",
   "execution_count": null,
   "id": "98f24b42",
   "metadata": {},
   "outputs": [],
   "source": [
    "# What is the resolution or resolving power \"R\" at 5000 angstroms?\n",
    "R = (<student answer here>).decompose()\n",
    "R"
   ]
  },
  {
   "cell_type": "markdown",
   "id": "4ecc67f0",
   "metadata": {},
   "source": [
    "### What is the wavelength difference per pixel?\n",
    "\n",
    "Recall that the spatial separation per unit wavelength is:\n",
    "$$ \\frac{dx}{d\\lambda} = \\frac{\\Delta x}{\\Delta \\lambda} =  \\frac{ f_{cam} n }{D \\cos \\theta}$$\n",
    "where $n$ is the order number, $D$ is the distance between gaps in the grating, $dx\\sim\\Delta x$ is the pixel spacing, and $d\\lambda\\sim\\Delta\\lambda$ is the wavelength spacing."
   ]
  },
  {
   "cell_type": "code",
   "execution_count": null,
   "id": "d270cd6f",
   "metadata": {},
   "outputs": [],
   "source": [
    "d_groove = grooves_per_mm**-1\n",
    "dispersion = "
   ]
  },
  {
   "cell_type": "code",
   "execution_count": null,
   "id": "d45ab4a3",
   "metadata": {},
   "outputs": [],
   "source": [
    "dlambda_per_pix = \n",
    "dlambda_per_pix"
   ]
  },
  {
   "cell_type": "markdown",
   "id": "7158df8c",
   "metadata": {},
   "source": [
    "### What is the resolution limit from our slit?\n",
    "\n",
    "Recall, to be diffraction-limited, the spectrograph must have\n",
    "$$ \\sin \\theta_{slit} < \\frac{n \\Delta \\lambda}{D}$$"
   ]
  },
  {
   "cell_type": "code",
   "execution_count": null,
   "id": "6cbec1db",
   "metadata": {
    "scrolled": true
   },
   "outputs": [],
   "source": [
    "slit_resolution_limit = (<student entry here>).to(u.arcsec)\n",
    "slit_resolution_limit"
   ]
  },
  {
   "cell_type": "markdown",
   "id": "7ead22da",
   "metadata": {},
   "source": [
    "### What is the effect if our slit is bigger than this?"
   ]
  },
  {
   "cell_type": "markdown",
   "id": "0db4af53",
   "metadata": {},
   "source": [
    "(student answer here)"
   ]
  },
  {
   "cell_type": "markdown",
   "id": "c3a7418c",
   "metadata": {},
   "source": [
    "Assume that the size of the fiber pinholes is 100 $\\mu$m.\n",
    "\n",
    "Our telescope is a 14\" f/10.\n",
    "\n",
    "### Is the fiber slit limiting our resolution?"
   ]
  },
  {
   "cell_type": "code",
   "execution_count": null,
   "id": "9e894cce",
   "metadata": {},
   "outputs": [],
   "source": [
    "angsize_of_slit = (<student entry here>).to(u.arcsec)\n",
    "angsize_of_slit"
   ]
  },
  {
   "cell_type": "code",
   "execution_count": null,
   "id": "a3c663c2",
   "metadata": {},
   "outputs": [],
   "source": []
  },
  {
   "cell_type": "markdown",
   "id": "e65f03e6",
   "metadata": {},
   "source": [
    "### What is the expected resolution of Pepito at 5000 Angstroms??"
   ]
  },
  {
   "cell_type": "code",
   "execution_count": null,
   "id": "f20fac35",
   "metadata": {},
   "outputs": [],
   "source": [
    "resolution = \n",
    "resolution"
   ]
  },
  {
   "cell_type": "markdown",
   "id": "738b1a9b",
   "metadata": {},
   "source": [
    "## What if we use the other grating?\n",
    "\n",
    "Our second grating has 1200 grooves/mm.\n",
    "\n",
    "### Assume it's operating at the same angle.  What wavelength is at the center?"
   ]
  },
  {
   "cell_type": "code",
   "execution_count": null,
   "id": "93c24c11",
   "metadata": {},
   "outputs": [],
   "source": [
    "grooves_per_mm_2 = 1200*u.mm**-1"
   ]
  },
  {
   "cell_type": "code",
   "execution_count": null,
   "id": "cefc10e1",
   "metadata": {},
   "outputs": [],
   "source": [
    "(<student entry here>).to(u.AA)"
   ]
  },
  {
   "cell_type": "markdown",
   "id": "7ece8167",
   "metadata": {},
   "source": [
    "### What angle do we need to position our camera at if we want the same central wavelength as the first grating?"
   ]
  },
  {
   "cell_type": "code",
   "execution_count": null,
   "id": "3d2d2003",
   "metadata": {},
   "outputs": [],
   "source": [
    "angle_to_match_800gmm_grating = (<student entry here>).to(u.deg)\n",
    "angle_to_match_800gmm_grating"
   ]
  },
  {
   "cell_type": "markdown",
   "id": "9daa9820",
   "metadata": {},
   "source": [
    "### What's the effective resolution (at the same central wavelength)?"
   ]
  },
  {
   "cell_type": "code",
   "execution_count": null,
   "id": "3786db74",
   "metadata": {},
   "outputs": [],
   "source": [
    "dispersion_1200gmm_grating = <student entry here>\n",
    "dispersion_1200gmm_grating"
   ]
  },
  {
   "cell_type": "code",
   "execution_count": null,
   "id": "9271a69a",
   "metadata": {},
   "outputs": [],
   "source": [
    "dlambda_per_pix_1200gmm_grating = (<student entry here>).to(u.AA)\n",
    "dlambda_per_pix_1200gmm_grating"
   ]
  },
  {
   "cell_type": "markdown",
   "id": "e9f04045",
   "metadata": {
    "hidePrompt": false
   },
   "source": [
    "### What is the resolution?"
   ]
  },
  {
   "cell_type": "code",
   "execution_count": null,
   "id": "f1b55df4",
   "metadata": {},
   "outputs": [],
   "source": [
    "<student entry here>"
   ]
  },
  {
   "cell_type": "markdown",
   "id": "dca753cc",
   "metadata": {},
   "source": [
    "### What is the slit size required for our system to be grating-limited?"
   ]
  },
  {
   "cell_type": "code",
   "execution_count": null,
   "id": "c2442008",
   "metadata": {
    "scrolled": true
   },
   "outputs": [],
   "source": [
    "slit_resolution_limit_1200gmm_grating = (<student entry here>).to(u.arcsec)\n",
    "slit_resolution_limit_1200gmm_grating"
   ]
  },
  {
   "cell_type": "markdown",
   "id": "bc942844",
   "metadata": {},
   "source": [
    "# Redesign questions"
   ]
  },
  {
   "cell_type": "markdown",
   "id": "6d21ceaa",
   "metadata": {},
   "source": [
    "Remember that the incident angle of light can be nonzero, resulting in the modified grating equation\n",
    "\n",
    "$$ n \\lambda = D \\left(\\sin \\theta_{in} + \\sin \\theta_{out}\\right) $$\n"
   ]
  },
  {
   "cell_type": "markdown",
   "id": "10e204fe",
   "metadata": {},
   "source": [
    "Our spectrograph has a fixed angle, which you've measured (but hope to measure even more precisely).\n",
    "\n",
    "### Given that measured angle of the _whole system_, at what angles is it possible to center $\\lambda=500$ nm, assuming we're using the grating in its first order?"
   ]
  },
  {
   "cell_type": "markdown",
   "id": "a99bcbdf",
   "metadata": {},
   "source": [
    "(Exercise for students)\n"
   ]
  },
  {
   "cell_type": "code",
   "execution_count": null,
   "id": "259c4771",
   "metadata": {},
   "outputs": [],
   "source": [
    "import pylab as pl\n",
    "pl.rcParams['figure.facecolor'] = 'w'\n",
    "pl.rcParams['font.size'] = 14"
   ]
  },
  {
   "cell_type": "code",
   "execution_count": null,
   "id": "0b15c842",
   "metadata": {},
   "outputs": [],
   "source": [
    "theta_in = np.linspace(0,angle)\n",
    "theta_out = <student entry here>\n",
    "pl.plot(theta_in, theta_out)\n",
    "pl.xlabel(r\"$\\theta_{in}$\", fontsize=16)\n",
    "pl.ylabel(r\"$\\theta_{out}$\", fontsize=16);"
   ]
  },
  {
   "cell_type": "markdown",
   "id": "6837b6c4",
   "metadata": {},
   "source": [
    "Say we want to position 500 nm at the center of our detector, and the angle of the system is still the same we assumed above.\n",
    "\n",
    "### Can we rotate the grating such that 500nm will be centered on the detector?  If so, at what angle?"
   ]
  },
  {
   "cell_type": "markdown",
   "id": "182b8a21",
   "metadata": {},
   "source": [
    "(exercise)\n"
   ]
  },
  {
   "cell_type": "code",
   "execution_count": null,
   "id": "ed7a77f9",
   "metadata": {},
   "outputs": [],
   "source": [
    "(<student entry here>).to(u.deg)"
   ]
  },
  {
   "cell_type": "markdown",
   "id": "f50d0d7b",
   "metadata": {},
   "source": [
    "### Can we rotate the grating such that 420nm will be centered on the detector?  If so, at what angle?"
   ]
  },
  {
   "cell_type": "code",
   "execution_count": null,
   "id": "2f64bd68",
   "metadata": {},
   "outputs": [],
   "source": [
    "(<student entry here>).to(u.deg)"
   ]
  },
  {
   "cell_type": "markdown",
   "id": "f61a18db",
   "metadata": {},
   "source": []
  },
  {
   "cell_type": "markdown",
   "id": "fad75d07",
   "metadata": {},
   "source": [
    "### Can we rotate the grating such that 656.3nm will be centered on the detector?  If so, at what angle?  Why is this a significant wavelength?"
   ]
  },
  {
   "cell_type": "code",
   "execution_count": null,
   "id": "25b64aeb",
   "metadata": {},
   "outputs": [],
   "source": [
    "(<student entry here>).to(u.deg)"
   ]
  },
  {
   "cell_type": "markdown",
   "id": "f1109981",
   "metadata": {},
   "source": []
  },
  {
   "cell_type": "markdown",
   "id": "e8968209",
   "metadata": {},
   "source": [
    "### What is the actual angle of the grating?  And what central wavelength does it imply?"
   ]
  },
  {
   "cell_type": "code",
   "execution_count": null,
   "id": "c0f6edc9",
   "metadata": {},
   "outputs": [],
   "source": []
  },
  {
   "cell_type": "markdown",
   "id": "8ceb6827",
   "metadata": {},
   "source": [
    "### What range of wavelengths is accessible by rotating the grating?"
   ]
  },
  {
   "cell_type": "code",
   "execution_count": null,
   "id": "f9a26e23",
   "metadata": {},
   "outputs": [],
   "source": []
  },
  {
   "cell_type": "code",
   "execution_count": null,
   "id": "aa2080dd",
   "metadata": {},
   "outputs": [],
   "source": []
  },
  {
   "cell_type": "markdown",
   "id": "76b3e775",
   "metadata": {},
   "source": [
    "# Lab Measurements Part II\n",
    "\n",
    "Each group will need to take turns performing these measurements, since we have only 1 Pepito."
   ]
  },
  {
   "cell_type": "markdown",
   "id": "e5742b31",
   "metadata": {},
   "source": [
    "Set up Pepito to take in-lab spectra.  Obtain spectra of:\n",
    "\n",
    "* The overhead fluorescent bulbs\n",
    "* Helium\n",
    "* Hydrogen\n",
    "* Neon\n",
    "\n",
    "Ensure that the spectra are obtained in-focus and properly aligned on the detector."
   ]
  },
  {
   "cell_type": "markdown",
   "id": "9fd845c5",
   "metadata": {},
   "source": [
    "Be careful that the fiber does not rotate between observations!"
   ]
  },
  {
   "cell_type": "markdown",
   "id": "b2e83bb3",
   "metadata": {},
   "source": [
    "Examine the spectra. Start with hydrogen.\n",
    "\n",
    "Recall from your quantum class that the wavelength of hydrogen lines is given by:\n",
    "\n",
    "$$ \\lambda = Ry \\left(\\frac{1}{n_l}^2 - \\frac{1}{n_u}^2\\right)$$"
   ]
  },
  {
   "cell_type": "markdown",
   "id": "a1fa4e67",
   "metadata": {},
   "source": [
    "### What lines are in the spectrum?"
   ]
  },
  {
   "cell_type": "code",
   "execution_count": null,
   "id": "d5a67eb1",
   "metadata": {},
   "outputs": [],
   "source": []
  },
  {
   "cell_type": "markdown",
   "id": "fe5e3894",
   "metadata": {},
   "source": [
    "### Given your measurement of the central wavelength on the detector, what is the angle of the grating?"
   ]
  },
  {
   "cell_type": "code",
   "execution_count": null,
   "id": "e855260c",
   "metadata": {},
   "outputs": [],
   "source": []
  }
 ],
 "metadata": {
  "kernelspec": {
   "display_name": "Python 3 (ipykernel)",
   "language": "python",
   "name": "python3"
  },
  "language_info": {
   "codemirror_mode": {
    "name": "ipython",
    "version": 3
   },
   "file_extension": ".py",
   "mimetype": "text/x-python",
   "name": "python",
   "nbconvert_exporter": "python",
   "pygments_lexer": "ipython3",
   "version": "3.9.13"
  }
 },
 "nbformat": 4,
 "nbformat_minor": 5
}
